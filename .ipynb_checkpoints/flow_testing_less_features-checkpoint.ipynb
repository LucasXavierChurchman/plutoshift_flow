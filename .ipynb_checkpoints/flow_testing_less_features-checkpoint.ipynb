{
 "cells": [
  {
   "cell_type": "code",
   "execution_count": 2,
   "metadata": {},
   "outputs": [],
   "source": [
    "import os\n",
    "import numpy as np\n",
    "import pandas as pd\n",
    "import matplotlib.pyplot as plt\n",
    "from datetime import datetime, timedelta\n",
    "from fastai.tabular import add_datepart"
   ]
  },
  {
   "cell_type": "markdown",
   "metadata": {},
   "source": [
    "### Loading datasets, feature engineering"
   ]
  },
  {
   "cell_type": "code",
   "execution_count": 3,
   "metadata": {},
   "outputs": [
    {
     "name": "stdout",
     "output_type": "stream",
     "text": [
      "These are the datasets available: \n",
      " ['usgs_san_francisquito.txt', 'usgs_data.csv', 'influent_flow.csv', 'weather.csv']\n"
     ]
    }
   ],
   "source": [
    "print('These are the datasets available: \\n', os.listdir('flow data/flow data'))\n",
    "#Note: the usgs_data.csv is just the table from usgs_san_francisquito.txt"
   ]
  },
  {
   "cell_type": "code",
   "execution_count": 4,
   "metadata": {},
   "outputs": [
    {
     "name": "stdout",
     "output_type": "stream",
     "text": [
      "Rows:  34516 \n",
      "Columns:  2\n",
      "<class 'pandas.core.frame.DataFrame'>\n",
      "RangeIndex: 34516 entries, 0 to 34515\n",
      "Data columns (total 2 columns):\n",
      "Date        34516 non-null object\n",
      "INF_FLOW    34516 non-null float64\n",
      "dtypes: float64(1), object(1)\n",
      "memory usage: 539.4+ KB\n",
      "None\n"
     ]
    },
    {
     "data": {
      "text/html": [
       "<div>\n",
       "<style scoped>\n",
       "    .dataframe tbody tr th:only-of-type {\n",
       "        vertical-align: middle;\n",
       "    }\n",
       "\n",
       "    .dataframe tbody tr th {\n",
       "        vertical-align: top;\n",
       "    }\n",
       "\n",
       "    .dataframe thead th {\n",
       "        text-align: right;\n",
       "    }\n",
       "</style>\n",
       "<table border=\"1\" class=\"dataframe\">\n",
       "  <thead>\n",
       "    <tr style=\"text-align: right;\">\n",
       "      <th></th>\n",
       "      <th>Date</th>\n",
       "      <th>INF_FLOW</th>\n",
       "    </tr>\n",
       "  </thead>\n",
       "  <tbody>\n",
       "    <tr>\n",
       "      <th>0</th>\n",
       "      <td>2013-01-15 00:00:00</td>\n",
       "      <td>9.589273</td>\n",
       "    </tr>\n",
       "    <tr>\n",
       "      <th>1</th>\n",
       "      <td>2013-01-15 01:00:00</td>\n",
       "      <td>9.272833</td>\n",
       "    </tr>\n",
       "    <tr>\n",
       "      <th>2</th>\n",
       "      <td>2013-01-15 02:00:00</td>\n",
       "      <td>8.861329</td>\n",
       "    </tr>\n",
       "    <tr>\n",
       "      <th>3</th>\n",
       "      <td>2013-01-15 03:00:00</td>\n",
       "      <td>9.193454</td>\n",
       "    </tr>\n",
       "    <tr>\n",
       "      <th>4</th>\n",
       "      <td>2013-01-15 04:00:00</td>\n",
       "      <td>9.129482</td>\n",
       "    </tr>\n",
       "  </tbody>\n",
       "</table>\n",
       "</div>"
      ],
      "text/plain": [
       "                 Date  INF_FLOW\n",
       "0 2013-01-15 00:00:00  9.589273\n",
       "1 2013-01-15 01:00:00  9.272833\n",
       "2 2013-01-15 02:00:00  8.861329\n",
       "3 2013-01-15 03:00:00  9.193454\n",
       "4 2013-01-15 04:00:00  9.129482"
      ]
     },
     "execution_count": 4,
     "metadata": {},
     "output_type": "execute_result"
    }
   ],
   "source": [
    "#Looking at influent_flow.csv table, the table containing our target\n",
    "flow = pd.read_csv('flow data/flow data/influent_flow.csv')\n",
    "print('Rows: ', flow.shape[0], '\\nColumns: ', flow.shape[1])\n",
    "print(flow.info())\n",
    "\n",
    "#Change the date column to a datetime type\n",
    "flow['Date'] = pd.to_datetime(flow['Date'])\n",
    "\n",
    "flow.head()"
   ]
  },
  {
   "cell_type": "code",
   "execution_count": 5,
   "metadata": {},
   "outputs": [
    {
     "name": "stdout",
     "output_type": "stream",
     "text": [
      "Rows:  44784 \n",
      "Columns:  8\n",
      "<class 'pandas.core.frame.DataFrame'>\n",
      "RangeIndex: 44784 entries, 0 to 44783\n",
      "Data columns (total 8 columns):\n",
      "Date               44784 non-null object\n",
      "rain               44784 non-null float64\n",
      "snow               44784 non-null float64\n",
      "accum              44784 non-null float64\n",
      "temp               44784 non-null float64\n",
      "humidity           44784 non-null float64\n",
      "cloud              44784 non-null float64\n",
      "app_temperature    44784 non-null float64\n",
      "dtypes: float64(7), object(1)\n",
      "memory usage: 2.7+ MB\n",
      "None\n"
     ]
    },
    {
     "data": {
      "text/html": [
       "<div>\n",
       "<style scoped>\n",
       "    .dataframe tbody tr th:only-of-type {\n",
       "        vertical-align: middle;\n",
       "    }\n",
       "\n",
       "    .dataframe tbody tr th {\n",
       "        vertical-align: top;\n",
       "    }\n",
       "\n",
       "    .dataframe thead th {\n",
       "        text-align: right;\n",
       "    }\n",
       "</style>\n",
       "<table border=\"1\" class=\"dataframe\">\n",
       "  <thead>\n",
       "    <tr style=\"text-align: right;\">\n",
       "      <th></th>\n",
       "      <th>Date</th>\n",
       "      <th>rain</th>\n",
       "      <th>snow</th>\n",
       "      <th>accum</th>\n",
       "      <th>temp</th>\n",
       "      <th>humidity</th>\n",
       "      <th>cloud</th>\n",
       "      <th>app_temperature</th>\n",
       "    </tr>\n",
       "  </thead>\n",
       "  <tbody>\n",
       "    <tr>\n",
       "      <th>0</th>\n",
       "      <td>2012-12-15 08:00:00</td>\n",
       "      <td>0.0</td>\n",
       "      <td>0.0</td>\n",
       "      <td>0.0</td>\n",
       "      <td>5.95</td>\n",
       "      <td>0.89</td>\n",
       "      <td>0.08</td>\n",
       "      <td>5.95</td>\n",
       "    </tr>\n",
       "    <tr>\n",
       "      <th>1</th>\n",
       "      <td>2012-12-15 09:00:00</td>\n",
       "      <td>0.0</td>\n",
       "      <td>0.0</td>\n",
       "      <td>0.0</td>\n",
       "      <td>5.66</td>\n",
       "      <td>0.92</td>\n",
       "      <td>0.09</td>\n",
       "      <td>5.66</td>\n",
       "    </tr>\n",
       "    <tr>\n",
       "      <th>2</th>\n",
       "      <td>2012-12-15 10:00:00</td>\n",
       "      <td>0.0</td>\n",
       "      <td>0.0</td>\n",
       "      <td>0.0</td>\n",
       "      <td>5.46</td>\n",
       "      <td>0.91</td>\n",
       "      <td>0.09</td>\n",
       "      <td>5.46</td>\n",
       "    </tr>\n",
       "    <tr>\n",
       "      <th>3</th>\n",
       "      <td>2012-12-15 11:00:00</td>\n",
       "      <td>0.0</td>\n",
       "      <td>0.0</td>\n",
       "      <td>0.0</td>\n",
       "      <td>4.82</td>\n",
       "      <td>0.92</td>\n",
       "      <td>0.06</td>\n",
       "      <td>4.82</td>\n",
       "    </tr>\n",
       "    <tr>\n",
       "      <th>4</th>\n",
       "      <td>2012-12-15 12:00:00</td>\n",
       "      <td>0.0</td>\n",
       "      <td>0.0</td>\n",
       "      <td>0.0</td>\n",
       "      <td>4.61</td>\n",
       "      <td>0.93</td>\n",
       "      <td>0.03</td>\n",
       "      <td>4.61</td>\n",
       "    </tr>\n",
       "  </tbody>\n",
       "</table>\n",
       "</div>"
      ],
      "text/plain": [
       "                 Date  rain  snow  accum  temp  humidity  cloud  \\\n",
       "0 2012-12-15 08:00:00   0.0   0.0    0.0  5.95      0.89   0.08   \n",
       "1 2012-12-15 09:00:00   0.0   0.0    0.0  5.66      0.92   0.09   \n",
       "2 2012-12-15 10:00:00   0.0   0.0    0.0  5.46      0.91   0.09   \n",
       "3 2012-12-15 11:00:00   0.0   0.0    0.0  4.82      0.92   0.06   \n",
       "4 2012-12-15 12:00:00   0.0   0.0    0.0  4.61      0.93   0.03   \n",
       "\n",
       "   app_temperature  \n",
       "0             5.95  \n",
       "1             5.66  \n",
       "2             5.46  \n",
       "3             4.82  \n",
       "4             4.61  "
      ]
     },
     "execution_count": 5,
     "metadata": {},
     "output_type": "execute_result"
    }
   ],
   "source": [
    "#Looking at weather table\n",
    "weather = pd.read_csv('flow data/flow data/weather.csv')\n",
    "print('Rows: ', weather.shape[0], '\\nColumns: ', weather.shape[1])\n",
    "print(weather.info())\n",
    "\n",
    "#Change the date column to a datetime type\n",
    "weather['Date'] = pd.to_datetime(weather['Date'])\n",
    "\n",
    "weather.head()"
   ]
  },
  {
   "cell_type": "code",
   "execution_count": 6,
   "metadata": {},
   "outputs": [
    {
     "name": "stdout",
     "output_type": "stream",
     "text": [
      "Rows:  178896 \n",
      "Columns:  8\n",
      "<class 'pandas.core.frame.DataFrame'>\n",
      "RangeIndex: 178896 entries, 0 to 178895\n",
      "Data columns (total 8 columns):\n",
      "agency_cd         178896 non-null object\n",
      "site_no           178896 non-null object\n",
      "datetime          178896 non-null object\n",
      "tz_cd             178896 non-null object\n",
      "14747_00060       178676 non-null object\n",
      "14747_00060_cd    178676 non-null object\n",
      "14748_00065       178761 non-null object\n",
      "14748_00065_cd    178761 non-null object\n",
      "dtypes: object(8)\n",
      "memory usage: 10.9+ MB\n",
      "None\n"
     ]
    },
    {
     "data": {
      "text/html": [
       "<div>\n",
       "<style scoped>\n",
       "    .dataframe tbody tr th:only-of-type {\n",
       "        vertical-align: middle;\n",
       "    }\n",
       "\n",
       "    .dataframe tbody tr th {\n",
       "        vertical-align: top;\n",
       "    }\n",
       "\n",
       "    .dataframe thead th {\n",
       "        text-align: right;\n",
       "    }\n",
       "</style>\n",
       "<table border=\"1\" class=\"dataframe\">\n",
       "  <thead>\n",
       "    <tr style=\"text-align: right;\">\n",
       "      <th></th>\n",
       "      <th>agency_cd</th>\n",
       "      <th>site_no</th>\n",
       "      <th>Date</th>\n",
       "      <th>tz_cd</th>\n",
       "      <th>discharge</th>\n",
       "      <th>discharge_cd</th>\n",
       "      <th>gage_height</th>\n",
       "      <th>gage_height_cd</th>\n",
       "    </tr>\n",
       "  </thead>\n",
       "  <tbody>\n",
       "    <tr>\n",
       "      <th>1</th>\n",
       "      <td>USGS</td>\n",
       "      <td>11164500</td>\n",
       "      <td>2013-01-01 00:00:00</td>\n",
       "      <td>PST</td>\n",
       "      <td>44.1</td>\n",
       "      <td>A</td>\n",
       "      <td>1.27</td>\n",
       "      <td>A</td>\n",
       "    </tr>\n",
       "    <tr>\n",
       "      <th>2</th>\n",
       "      <td>USGS</td>\n",
       "      <td>11164500</td>\n",
       "      <td>2013-01-01 00:15:00</td>\n",
       "      <td>PST</td>\n",
       "      <td>44.1</td>\n",
       "      <td>A</td>\n",
       "      <td>1.27</td>\n",
       "      <td>A</td>\n",
       "    </tr>\n",
       "    <tr>\n",
       "      <th>3</th>\n",
       "      <td>USGS</td>\n",
       "      <td>11164500</td>\n",
       "      <td>2013-01-01 00:30:00</td>\n",
       "      <td>PST</td>\n",
       "      <td>44.1</td>\n",
       "      <td>A</td>\n",
       "      <td>1.27</td>\n",
       "      <td>A</td>\n",
       "    </tr>\n",
       "    <tr>\n",
       "      <th>4</th>\n",
       "      <td>USGS</td>\n",
       "      <td>11164500</td>\n",
       "      <td>2013-01-01 00:45:00</td>\n",
       "      <td>PST</td>\n",
       "      <td>43.2</td>\n",
       "      <td>A</td>\n",
       "      <td>1.26</td>\n",
       "      <td>A</td>\n",
       "    </tr>\n",
       "    <tr>\n",
       "      <th>5</th>\n",
       "      <td>USGS</td>\n",
       "      <td>11164500</td>\n",
       "      <td>2013-01-01 01:00:00</td>\n",
       "      <td>PST</td>\n",
       "      <td>43.2</td>\n",
       "      <td>A</td>\n",
       "      <td>1.26</td>\n",
       "      <td>A</td>\n",
       "    </tr>\n",
       "  </tbody>\n",
       "</table>\n",
       "</div>"
      ],
      "text/plain": [
       "  agency_cd   site_no                Date tz_cd discharge discharge_cd  \\\n",
       "1      USGS  11164500 2013-01-01 00:00:00   PST      44.1            A   \n",
       "2      USGS  11164500 2013-01-01 00:15:00   PST      44.1            A   \n",
       "3      USGS  11164500 2013-01-01 00:30:00   PST      44.1            A   \n",
       "4      USGS  11164500 2013-01-01 00:45:00   PST      43.2            A   \n",
       "5      USGS  11164500 2013-01-01 01:00:00   PST      43.2            A   \n",
       "\n",
       "  gage_height gage_height_cd  \n",
       "1        1.27              A  \n",
       "2        1.27              A  \n",
       "3        1.27              A  \n",
       "4        1.26              A  \n",
       "5        1.26              A  "
      ]
     },
     "execution_count": 6,
     "metadata": {},
     "output_type": "execute_result"
    }
   ],
   "source": [
    "#Looking at usgs_san_francisuito.txt table\n",
    "usgs = pd.read_csv('flow data/flow data/usgs_data.csv', sep = '\\t', low_memory = False)\n",
    "print('Rows: ', usgs.shape[0], '\\nColumns: ',usgs.shape[1])\n",
    "print(usgs.info()) #Looks like we have some missing values in the last 4 columns\n",
    "\n",
    "#get rid of row 0 (indicating datatype and length for each column)\n",
    "usgs.drop(0, inplace= True)\n",
    "\n",
    "#Change the date column to a datetime for this table as well\n",
    "usgs['datetime'] = pd.to_datetime(usgs['datetime'])\n",
    "\n",
    "#The original usgs text file indicates the 14747_00060 and 14748_0065 columns \n",
    "#indicate discharge and gage height. Lets change the name of those columns\n",
    "#and their corresponding qualification codes. Let's also rename the 'datetime'\n",
    "#to 'Date' to be consitent with the other tables\n",
    "\n",
    "usgs.rename(columns = {'14747_00060': 'discharge', \n",
    "            '14747_00060_cd': 'discharge_cd',\n",
    "            '14748_00065' : 'gage_height',\n",
    "            '14748_00065_cd' : 'gage_height_cd',\n",
    "            'datetime' : 'Date'},\n",
    "           inplace = True)\n",
    "\n",
    "usgs.head()"
   ]
  },
  {
   "cell_type": "code",
   "execution_count": 7,
   "metadata": {},
   "outputs": [
    {
     "name": "stdout",
     "output_type": "stream",
     "text": [
      "['A' nan 'P:e' 'A:e' 'P'] ['A' nan 'P']\n",
      "(12567, 8)\n"
     ]
    }
   ],
   "source": [
    "# Was just curious to see how much non-publication-reviewed data there is\n",
    "print(usgs.discharge_cd.unique(), usgs.gage_height_cd.unique())\n",
    "print(usgs[(usgs['discharge_cd'] !='A') | (usgs['gage_height_cd'] != 'A')].shape)"
   ]
  },
  {
   "cell_type": "markdown",
   "metadata": {},
   "source": [
    "Now that the 3 dataframes have been cleaned up a bit lets merge them together by date"
   ]
  },
  {
   "cell_type": "code",
   "execution_count": 8,
   "metadata": {},
   "outputs": [
    {
     "name": "stdout",
     "output_type": "stream",
     "text": [
      "<class 'pandas.core.frame.DataFrame'>\n",
      "DatetimeIndex: 34324 entries, 2013-01-15 00:00:00 to 2016-12-22 14:00:00\n",
      "Data columns (total 15 columns):\n",
      "INF_FLOW           34324 non-null float64\n",
      "rain               34324 non-null float64\n",
      "snow               34324 non-null float64\n",
      "accum              34324 non-null float64\n",
      "temp               34324 non-null float64\n",
      "humidity           34324 non-null float64\n",
      "cloud              34324 non-null float64\n",
      "app_temperature    34324 non-null float64\n",
      "agency_cd          34324 non-null object\n",
      "site_no            34324 non-null object\n",
      "tz_cd              34324 non-null object\n",
      "discharge          34269 non-null object\n",
      "discharge_cd       34269 non-null object\n",
      "gage_height        34323 non-null object\n",
      "gage_height_cd     34323 non-null object\n",
      "dtypes: float64(8), object(7)\n",
      "memory usage: 4.2+ MB\n",
      "None\n"
     ]
    }
   ],
   "source": [
    "df = flow.merge(weather)\n",
    "df = df.merge(usgs)\n",
    "df.set_index('Date', inplace = True)\n",
    "print(df.info())"
   ]
  },
  {
   "cell_type": "code",
   "execution_count": 9,
   "metadata": {},
   "outputs": [
    {
     "name": "stdout",
     "output_type": "stream",
     "text": [
      "<class 'pandas.core.frame.DataFrame'>\n",
      "DatetimeIndex: 34268 entries, 2013-01-15 00:00:00 to 2016-12-22 14:00:00\n",
      "Data columns (total 15 columns):\n",
      "INF_FLOW           34268 non-null float64\n",
      "rain               34268 non-null float64\n",
      "snow               34268 non-null float64\n",
      "accum              34268 non-null float64\n",
      "temp               34268 non-null float64\n",
      "humidity           34268 non-null float64\n",
      "cloud              34268 non-null float64\n",
      "app_temperature    34268 non-null float64\n",
      "agency_cd          34268 non-null object\n",
      "site_no            34268 non-null object\n",
      "tz_cd              34268 non-null object\n",
      "discharge          34268 non-null object\n",
      "discharge_cd       34268 non-null object\n",
      "gage_height        34268 non-null object\n",
      "gage_height_cd     34268 non-null object\n",
      "dtypes: float64(8), object(7)\n",
      "memory usage: 4.2+ MB\n",
      "None\n"
     ]
    }
   ],
   "source": [
    "# Since we have a relatively small amount of null values I'll assume it's okay to drop \n",
    "# those rows for now rather than try to impute their values. Even if there's an MAR or\n",
    "# MNAR effect happening, the data with missing values likely wont have a meaningful impact \n",
    "# on the results given these rows consist of <0.2% of the data. This decision is subject to \n",
    "# change with more knowledege about the data\n",
    "\n",
    "df.dropna(inplace = True)\n",
    "print(df.info())"
   ]
  },
  {
   "cell_type": "code",
   "execution_count": 10,
   "metadata": {},
   "outputs": [
    {
     "name": "stdout",
     "output_type": "stream",
     "text": [
      "['A' nan 'P:e' 'A:e' 'P'] ['A' nan 'P']\n"
     ]
    }
   ],
   "source": [
    "#Interestingly, after dropping null values removes all rows without approved discharge\n",
    "#and gage data\n",
    "\n",
    "print(usgs.discharge_cd.unique(), usgs.gage_height_cd.unique())"
   ]
  },
  {
   "cell_type": "code",
   "execution_count": 11,
   "metadata": {},
   "outputs": [
    {
     "name": "stdout",
     "output_type": "stream",
     "text": [
      "Column name: \t ['snow', 'accum', 'agency_cd', 'site_no', 'discharge_cd', 'gage_height_cd'] \n",
      "Unique Value\t [0.0, 0.0, 'USGS', '11164500', 'A', 'A']\n"
     ]
    }
   ],
   "source": [
    "#Check for rows with only one value. They won't have an effect and are simply taking up space\n",
    "unique_value_cols = [col for col in df.columns if df[col].unique().size == 1]\n",
    "unique_value = [df[col].unique()[0] for col in df.columns if df[col].unique().size == 1]\n",
    "print('Column name: \\t' ,unique_value_cols,'\\nUnique Value\\t', unique_value)"
   ]
  },
  {
   "cell_type": "code",
   "execution_count": 12,
   "metadata": {},
   "outputs": [
    {
     "data": {
      "text/html": [
       "<div>\n",
       "<style scoped>\n",
       "    .dataframe tbody tr th:only-of-type {\n",
       "        vertical-align: middle;\n",
       "    }\n",
       "\n",
       "    .dataframe tbody tr th {\n",
       "        vertical-align: top;\n",
       "    }\n",
       "\n",
       "    .dataframe thead th {\n",
       "        text-align: right;\n",
       "    }\n",
       "</style>\n",
       "<table border=\"1\" class=\"dataframe\">\n",
       "  <thead>\n",
       "    <tr style=\"text-align: right;\">\n",
       "      <th></th>\n",
       "      <th>INF_FLOW</th>\n",
       "      <th>rain</th>\n",
       "      <th>temp</th>\n",
       "      <th>humidity</th>\n",
       "      <th>cloud</th>\n",
       "      <th>app_temperature</th>\n",
       "      <th>tz_cd</th>\n",
       "      <th>discharge</th>\n",
       "      <th>gage_height</th>\n",
       "    </tr>\n",
       "    <tr>\n",
       "      <th>Date</th>\n",
       "      <th></th>\n",
       "      <th></th>\n",
       "      <th></th>\n",
       "      <th></th>\n",
       "      <th></th>\n",
       "      <th></th>\n",
       "      <th></th>\n",
       "      <th></th>\n",
       "      <th></th>\n",
       "    </tr>\n",
       "  </thead>\n",
       "  <tbody>\n",
       "    <tr>\n",
       "      <th>2013-01-15 00:00:00</th>\n",
       "      <td>9.589273</td>\n",
       "      <td>0.0</td>\n",
       "      <td>10.19</td>\n",
       "      <td>0.26</td>\n",
       "      <td>0.04</td>\n",
       "      <td>10.19</td>\n",
       "      <td>PST</td>\n",
       "      <td>17.1</td>\n",
       "      <td>0.86</td>\n",
       "    </tr>\n",
       "    <tr>\n",
       "      <th>2013-01-15 01:00:00</th>\n",
       "      <td>9.272833</td>\n",
       "      <td>0.0</td>\n",
       "      <td>9.76</td>\n",
       "      <td>0.31</td>\n",
       "      <td>0.18</td>\n",
       "      <td>9.76</td>\n",
       "      <td>PST</td>\n",
       "      <td>17.1</td>\n",
       "      <td>0.86</td>\n",
       "    </tr>\n",
       "    <tr>\n",
       "      <th>2013-01-15 02:00:00</th>\n",
       "      <td>8.861329</td>\n",
       "      <td>0.0</td>\n",
       "      <td>7.80</td>\n",
       "      <td>0.36</td>\n",
       "      <td>0.07</td>\n",
       "      <td>6.92</td>\n",
       "      <td>PST</td>\n",
       "      <td>17.1</td>\n",
       "      <td>0.86</td>\n",
       "    </tr>\n",
       "    <tr>\n",
       "      <th>2013-01-15 03:00:00</th>\n",
       "      <td>9.193454</td>\n",
       "      <td>0.0</td>\n",
       "      <td>6.52</td>\n",
       "      <td>0.43</td>\n",
       "      <td>0.03</td>\n",
       "      <td>6.52</td>\n",
       "      <td>PST</td>\n",
       "      <td>17.1</td>\n",
       "      <td>0.86</td>\n",
       "    </tr>\n",
       "    <tr>\n",
       "      <th>2013-01-15 04:00:00</th>\n",
       "      <td>9.129482</td>\n",
       "      <td>0.0</td>\n",
       "      <td>5.69</td>\n",
       "      <td>0.48</td>\n",
       "      <td>0.03</td>\n",
       "      <td>5.69</td>\n",
       "      <td>PST</td>\n",
       "      <td>16.7</td>\n",
       "      <td>0.85</td>\n",
       "    </tr>\n",
       "  </tbody>\n",
       "</table>\n",
       "</div>"
      ],
      "text/plain": [
       "                     INF_FLOW  rain   temp  humidity  cloud  app_temperature  \\\n",
       "Date                                                                           \n",
       "2013-01-15 00:00:00  9.589273   0.0  10.19      0.26   0.04            10.19   \n",
       "2013-01-15 01:00:00  9.272833   0.0   9.76      0.31   0.18             9.76   \n",
       "2013-01-15 02:00:00  8.861329   0.0   7.80      0.36   0.07             6.92   \n",
       "2013-01-15 03:00:00  9.193454   0.0   6.52      0.43   0.03             6.52   \n",
       "2013-01-15 04:00:00  9.129482   0.0   5.69      0.48   0.03             5.69   \n",
       "\n",
       "                    tz_cd discharge gage_height  \n",
       "Date                                             \n",
       "2013-01-15 00:00:00   PST      17.1        0.86  \n",
       "2013-01-15 01:00:00   PST      17.1        0.86  \n",
       "2013-01-15 02:00:00   PST      17.1        0.86  \n",
       "2013-01-15 03:00:00   PST      17.1        0.86  \n",
       "2013-01-15 04:00:00   PST      16.7        0.85  "
      ]
     },
     "execution_count": 12,
     "metadata": {},
     "output_type": "execute_result"
    }
   ],
   "source": [
    "#Drop those rows\n",
    "df.drop(unique_value_cols, axis = 1, inplace = True)\n",
    "df.head()"
   ]
  },
  {
   "cell_type": "code",
   "execution_count": 13,
   "metadata": {},
   "outputs": [
    {
     "data": {
      "text/html": [
       "<div>\n",
       "<style scoped>\n",
       "    .dataframe tbody tr th:only-of-type {\n",
       "        vertical-align: middle;\n",
       "    }\n",
       "\n",
       "    .dataframe tbody tr th {\n",
       "        vertical-align: top;\n",
       "    }\n",
       "\n",
       "    .dataframe thead th {\n",
       "        text-align: right;\n",
       "    }\n",
       "</style>\n",
       "<table border=\"1\" class=\"dataframe\">\n",
       "  <thead>\n",
       "    <tr style=\"text-align: right;\">\n",
       "      <th></th>\n",
       "      <th>INF_FLOW</th>\n",
       "      <th>rain</th>\n",
       "      <th>temp</th>\n",
       "      <th>humidity</th>\n",
       "      <th>cloud</th>\n",
       "      <th>app_temperature</th>\n",
       "      <th>tz_cd</th>\n",
       "      <th>discharge</th>\n",
       "      <th>gage_height</th>\n",
       "    </tr>\n",
       "    <tr>\n",
       "      <th>Date</th>\n",
       "      <th></th>\n",
       "      <th></th>\n",
       "      <th></th>\n",
       "      <th></th>\n",
       "      <th></th>\n",
       "      <th></th>\n",
       "      <th></th>\n",
       "      <th></th>\n",
       "      <th></th>\n",
       "    </tr>\n",
       "  </thead>\n",
       "  <tbody>\n",
       "    <tr>\n",
       "      <th>2013-03-10 00:00:00</th>\n",
       "      <td>9.423984</td>\n",
       "      <td>0.0</td>\n",
       "      <td>16.93</td>\n",
       "      <td>0.50</td>\n",
       "      <td>0.04</td>\n",
       "      <td>16.93</td>\n",
       "      <td>PST</td>\n",
       "      <td>6.06</td>\n",
       "      <td>0.59</td>\n",
       "    </tr>\n",
       "    <tr>\n",
       "      <th>2013-03-10 01:00:00</th>\n",
       "      <td>9.097989</td>\n",
       "      <td>0.0</td>\n",
       "      <td>17.06</td>\n",
       "      <td>0.52</td>\n",
       "      <td>0.03</td>\n",
       "      <td>17.06</td>\n",
       "      <td>PST</td>\n",
       "      <td>6.06</td>\n",
       "      <td>0.59</td>\n",
       "    </tr>\n",
       "    <tr>\n",
       "      <th>2013-03-10 03:00:00</th>\n",
       "      <td>8.230157</td>\n",
       "      <td>0.0</td>\n",
       "      <td>13.42</td>\n",
       "      <td>0.71</td>\n",
       "      <td>0.04</td>\n",
       "      <td>13.42</td>\n",
       "      <td>PDT</td>\n",
       "      <td>5.80</td>\n",
       "      <td>0.58</td>\n",
       "    </tr>\n",
       "    <tr>\n",
       "      <th>2013-03-10 04:00:00</th>\n",
       "      <td>7.811428</td>\n",
       "      <td>0.0</td>\n",
       "      <td>11.70</td>\n",
       "      <td>0.72</td>\n",
       "      <td>0.00</td>\n",
       "      <td>11.70</td>\n",
       "      <td>PDT</td>\n",
       "      <td>5.80</td>\n",
       "      <td>0.58</td>\n",
       "    </tr>\n",
       "    <tr>\n",
       "      <th>2013-03-10 05:00:00</th>\n",
       "      <td>7.814624</td>\n",
       "      <td>0.0</td>\n",
       "      <td>10.78</td>\n",
       "      <td>0.75</td>\n",
       "      <td>0.00</td>\n",
       "      <td>10.78</td>\n",
       "      <td>PDT</td>\n",
       "      <td>5.80</td>\n",
       "      <td>0.58</td>\n",
       "    </tr>\n",
       "  </tbody>\n",
       "</table>\n",
       "</div>"
      ],
      "text/plain": [
       "                     INF_FLOW  rain   temp  humidity  cloud  app_temperature  \\\n",
       "Date                                                                           \n",
       "2013-03-10 00:00:00  9.423984   0.0  16.93      0.50   0.04            16.93   \n",
       "2013-03-10 01:00:00  9.097989   0.0  17.06      0.52   0.03            17.06   \n",
       "2013-03-10 03:00:00  8.230157   0.0  13.42      0.71   0.04            13.42   \n",
       "2013-03-10 04:00:00  7.811428   0.0  11.70      0.72   0.00            11.70   \n",
       "2013-03-10 05:00:00  7.814624   0.0  10.78      0.75   0.00            10.78   \n",
       "\n",
       "                    tz_cd discharge gage_height  \n",
       "Date                                             \n",
       "2013-03-10 00:00:00   PST      6.06        0.59  \n",
       "2013-03-10 01:00:00   PST      6.06        0.59  \n",
       "2013-03-10 03:00:00   PDT      5.80        0.58  \n",
       "2013-03-10 04:00:00   PDT      5.80        0.58  \n",
       "2013-03-10 05:00:00   PDT      5.80        0.58  "
      ]
     },
     "execution_count": 13,
     "metadata": {},
     "output_type": "execute_result"
    }
   ],
   "source": [
    "# Here I took notice of the tz_cd had 2 values, because of daylight savings. Just to be \n",
    "#thorough, we'll take care of this by converting to GMT time\n",
    "\n",
    "df.loc['2013-03-10 00:00:00':'2013-03-10 05:00:00'] #<- to show DST occuring"
   ]
  },
  {
   "cell_type": "code",
   "execution_count": 14,
   "metadata": {},
   "outputs": [],
   "source": [
    "#Drop the timezone column\n",
    "df.drop('tz_cd', axis = 1, inplace = True)"
   ]
  },
  {
   "cell_type": "code",
   "execution_count": 15,
   "metadata": {},
   "outputs": [],
   "source": [
    "#Preserve local dattime in new column incase it's needed later.\n",
    "df['Date_local'] =  df.index"
   ]
  },
  {
   "cell_type": "code",
   "execution_count": 16,
   "metadata": {},
   "outputs": [
    {
     "data": {
      "text/html": [
       "<div>\n",
       "<style scoped>\n",
       "    .dataframe tbody tr th:only-of-type {\n",
       "        vertical-align: middle;\n",
       "    }\n",
       "\n",
       "    .dataframe tbody tr th {\n",
       "        vertical-align: top;\n",
       "    }\n",
       "\n",
       "    .dataframe thead th {\n",
       "        text-align: right;\n",
       "    }\n",
       "</style>\n",
       "<table border=\"1\" class=\"dataframe\">\n",
       "  <thead>\n",
       "    <tr style=\"text-align: right;\">\n",
       "      <th></th>\n",
       "      <th>INF_FLOW</th>\n",
       "      <th>rain</th>\n",
       "      <th>temp</th>\n",
       "      <th>humidity</th>\n",
       "      <th>cloud</th>\n",
       "      <th>app_temperature</th>\n",
       "      <th>discharge</th>\n",
       "      <th>gage_height</th>\n",
       "      <th>Date_local</th>\n",
       "    </tr>\n",
       "    <tr>\n",
       "      <th>Date_GMT</th>\n",
       "      <th></th>\n",
       "      <th></th>\n",
       "      <th></th>\n",
       "      <th></th>\n",
       "      <th></th>\n",
       "      <th></th>\n",
       "      <th></th>\n",
       "      <th></th>\n",
       "      <th></th>\n",
       "    </tr>\n",
       "  </thead>\n",
       "  <tbody>\n",
       "    <tr>\n",
       "      <th>2013-03-10 00:00:00+00:00</th>\n",
       "      <td>9.423984</td>\n",
       "      <td>0.0</td>\n",
       "      <td>16.93</td>\n",
       "      <td>0.50</td>\n",
       "      <td>0.04</td>\n",
       "      <td>16.93</td>\n",
       "      <td>6.06</td>\n",
       "      <td>0.59</td>\n",
       "      <td>2013-03-10 00:00:00</td>\n",
       "    </tr>\n",
       "    <tr>\n",
       "      <th>2013-03-10 01:00:00+00:00</th>\n",
       "      <td>9.097989</td>\n",
       "      <td>0.0</td>\n",
       "      <td>17.06</td>\n",
       "      <td>0.52</td>\n",
       "      <td>0.03</td>\n",
       "      <td>17.06</td>\n",
       "      <td>6.06</td>\n",
       "      <td>0.59</td>\n",
       "      <td>2013-03-10 01:00:00</td>\n",
       "    </tr>\n",
       "    <tr>\n",
       "      <th>2013-03-10 02:00:00+00:00</th>\n",
       "      <td>8.230157</td>\n",
       "      <td>0.0</td>\n",
       "      <td>13.42</td>\n",
       "      <td>0.71</td>\n",
       "      <td>0.04</td>\n",
       "      <td>13.42</td>\n",
       "      <td>5.80</td>\n",
       "      <td>0.58</td>\n",
       "      <td>2013-03-10 03:00:00</td>\n",
       "    </tr>\n",
       "    <tr>\n",
       "      <th>2013-03-10 03:00:00+00:00</th>\n",
       "      <td>7.811428</td>\n",
       "      <td>0.0</td>\n",
       "      <td>11.70</td>\n",
       "      <td>0.72</td>\n",
       "      <td>0.00</td>\n",
       "      <td>11.70</td>\n",
       "      <td>5.80</td>\n",
       "      <td>0.58</td>\n",
       "      <td>2013-03-10 04:00:00</td>\n",
       "    </tr>\n",
       "    <tr>\n",
       "      <th>2013-03-10 04:00:00+00:00</th>\n",
       "      <td>7.814624</td>\n",
       "      <td>0.0</td>\n",
       "      <td>10.78</td>\n",
       "      <td>0.75</td>\n",
       "      <td>0.00</td>\n",
       "      <td>10.78</td>\n",
       "      <td>5.80</td>\n",
       "      <td>0.58</td>\n",
       "      <td>2013-03-10 05:00:00</td>\n",
       "    </tr>\n",
       "    <tr>\n",
       "      <th>2013-03-10 05:00:00+00:00</th>\n",
       "      <td>7.510198</td>\n",
       "      <td>0.0</td>\n",
       "      <td>10.69</td>\n",
       "      <td>0.78</td>\n",
       "      <td>0.07</td>\n",
       "      <td>10.69</td>\n",
       "      <td>5.80</td>\n",
       "      <td>0.58</td>\n",
       "      <td>2013-03-10 06:00:00</td>\n",
       "    </tr>\n",
       "  </tbody>\n",
       "</table>\n",
       "</div>"
      ],
      "text/plain": [
       "                           INF_FLOW  rain   temp  humidity  cloud  \\\n",
       "Date_GMT                                                            \n",
       "2013-03-10 00:00:00+00:00  9.423984   0.0  16.93      0.50   0.04   \n",
       "2013-03-10 01:00:00+00:00  9.097989   0.0  17.06      0.52   0.03   \n",
       "2013-03-10 02:00:00+00:00  8.230157   0.0  13.42      0.71   0.04   \n",
       "2013-03-10 03:00:00+00:00  7.811428   0.0  11.70      0.72   0.00   \n",
       "2013-03-10 04:00:00+00:00  7.814624   0.0  10.78      0.75   0.00   \n",
       "2013-03-10 05:00:00+00:00  7.510198   0.0  10.69      0.78   0.07   \n",
       "\n",
       "                           app_temperature discharge gage_height  \\\n",
       "Date_GMT                                                           \n",
       "2013-03-10 00:00:00+00:00            16.93      6.06        0.59   \n",
       "2013-03-10 01:00:00+00:00            17.06      6.06        0.59   \n",
       "2013-03-10 02:00:00+00:00            13.42      5.80        0.58   \n",
       "2013-03-10 03:00:00+00:00            11.70      5.80        0.58   \n",
       "2013-03-10 04:00:00+00:00            10.78      5.80        0.58   \n",
       "2013-03-10 05:00:00+00:00            10.69      5.80        0.58   \n",
       "\n",
       "                                   Date_local  \n",
       "Date_GMT                                       \n",
       "2013-03-10 00:00:00+00:00 2013-03-10 00:00:00  \n",
       "2013-03-10 01:00:00+00:00 2013-03-10 01:00:00  \n",
       "2013-03-10 02:00:00+00:00 2013-03-10 03:00:00  \n",
       "2013-03-10 03:00:00+00:00 2013-03-10 04:00:00  \n",
       "2013-03-10 04:00:00+00:00 2013-03-10 05:00:00  \n",
       "2013-03-10 05:00:00+00:00 2013-03-10 06:00:00  "
      ]
     },
     "execution_count": 16,
     "metadata": {},
     "output_type": "execute_result"
    }
   ],
   "source": [
    "#Convert the datetime index to GMT. Can be changed later\n",
    "dti = pd.date_range(start = '2013-01-15', freq = 'H', periods = df.shape[0], tz = 'GMT')\n",
    "df.index = dti\n",
    "df.index.name = 'Date_GMT'\n",
    "df.loc['2013-03-10 00:00:00':'2013-03-10 05:00:00']"
   ]
  },
  {
   "cell_type": "code",
   "execution_count": 17,
   "metadata": {},
   "outputs": [],
   "source": [
    "#Create features for each component of the time series.\n",
    "\n",
    "# The prompt mentions the plant doesn't control the amount of flow coming in. This likely means\n",
    "# the flow is mostly caused by natural cycles. Considering this, datetime units indicating natural \n",
    "# cycles (i.e hour of day, time of year) are probably more important. We can try\n",
    "# all to be thorough and remove them later if they add no predictive power to our model for\n",
    "# better interpretability for the client\n",
    "\n",
    "df['dt_hour_of_day'] = pd.DatetimeIndex(df.index).hour\n",
    "df['dt_'] = df.index\n",
    "df = add_datepart(df, 'dt_', drop = True) #This will add most calendar date features"
   ]
  },
  {
   "cell_type": "code",
   "execution_count": 18,
   "metadata": {},
   "outputs": [
    {
     "data": {
      "text/plain": [
       "Index(['INF_FLOW', 'rain', 'temp', 'humidity', 'cloud', 'app_temperature',\n",
       "       'discharge', 'gage_height', 'Date_local', 'dt_hour_of_day', 'dt_Year',\n",
       "       'dt_Month', 'dt_Week', 'dt_Day', 'dt_Dayofweek', 'dt_Dayofyear',\n",
       "       'dt_Is_month_end', 'dt_Is_month_start', 'dt_Is_quarter_end',\n",
       "       'dt_Is_quarter_start', 'dt_Is_year_end', 'dt_Is_year_start',\n",
       "       'dt_Elapsed'],\n",
       "      dtype='object')"
      ]
     },
     "execution_count": 18,
     "metadata": {},
     "output_type": "execute_result"
    }
   ],
   "source": [
    "df.columns"
   ]
  },
  {
   "cell_type": "code",
   "execution_count": 19,
   "metadata": {},
   "outputs": [
    {
     "data": {
      "text/plain": [
       "<matplotlib.legend.Legend at 0x7fd0f0ee6908>"
      ]
     },
     "execution_count": 19,
     "metadata": {},
     "output_type": "execute_result"
    },
    {
     "data": {
      "image/png": "[encoded data removed]",
      "text/plain": [
       "<Figure size 432x288 with 1 Axes>"
      ]
     },
     "metadata": {
      "needs_background": "light"
     },
     "output_type": "display_data"
    }
   ],
   "source": [
    "#This is interesting. Flow has an almost perfect cosine shaped trend over the course of an average day\n",
    "\n",
    "hourly_flow_trend = df.groupby(['dt_hour_of_day'])['INF_FLOW'].mean()\n",
    "x = np.arange(0,7.6*np.pi,0.1)\n",
    "y = np.cos(0.28*x)+8\n",
    "cosine_data = pd.DataFrame([y,x])\n",
    "hourly_flow_trend.plot(grid = True)\n",
    "plt.plot(x,y)\n",
    "plt.xlabel('Hour of Day')\n",
    "plt.title('Trend of Flow by Hour of Day')\n",
    "plt.ylabel('Flow (Millions of Gallons/Day)')\n",
    "plt.legend(labels = ['INF_FLOW', 'np.cos(0.28*x)+8'])"
   ]
  },
  {
   "cell_type": "markdown",
   "metadata": {},
   "source": [
    "### Model"
   ]
  },
  {
   "cell_type": "markdown",
   "metadata": {},
   "source": [
    "I decided to use a Random Forest for a few reasons:\n",
    "   1. Great at handling mixed data types\n",
    "   2. Highly interpretable. The intuition behind decision trees/random forests is easy to understand (even more \n",
    "       than linear regression or especially something like a neural network)\n",
    "   3. The .feature_importances() attribute makes it almost trivial to determine strongest predictors. The \n",
    "       magnitude of model cofficients in linear regression don't necessarily determine strength of prediciton.\n",
    "       \n",
    "Due to time constraints, I used Random Search Cross Validation rather than Grid Search. Given more time, I could use the latter for the absolute best results."
   ]
  },
  {
   "cell_type": "code",
   "execution_count": 20,
   "metadata": {},
   "outputs": [],
   "source": [
    "#Import sklearn model libraries\n",
    "from sklearn.ensemble import RandomForestRegressor\n",
    "from sklearn.model_selection import train_test_split, RandomizedSearchCV\n",
    "from sklearn.preprocessing import StandardScaler\n",
    "import pickle"
   ]
  },
  {
   "cell_type": "code",
   "execution_count": 21,
   "metadata": {},
   "outputs": [],
   "source": [
    "data = df.drop('Date_local', axis = 1)\n",
    "\n",
    "# Create target and features\n",
    "y = data['INF_FLOW']\n",
    "model_features = list(data.columns.tolist()[1:])\n",
    "X = data[model_features]"
   ]
  },
  {
   "cell_type": "code",
   "execution_count": 22,
   "metadata": {},
   "outputs": [],
   "source": [
    "#Create our training and testing datasets\n",
    "X_train, X_test, y_train, y_test = train_test_split(X, y, test_size = 0.2, shuffle = True)"
   ]
  },
  {
   "cell_type": "code",
   "execution_count": 45,
   "metadata": {},
   "outputs": [],
   "source": [
    "#parameter grid for random search\n",
    "random_grid = {'n_estimators' : [100,250,1000],\n",
    "       'max_depth' : [10, 50, 100],\n",
    "       'max_features' : ['auto', 'sqrt'],\n",
    "       'min_samples_leaf' : [1, 2 ,4],\n",
    "       'min_samples_split' : [2, 5, 10]}\n",
    "\n",
    "#base model\n",
    "rfr = RandomForestRegressor(n_estimators = 10)\n",
    "\n",
    "#Random search\n",
    "rfr_random_search = RandomizedSearchCV(estimator = rfr, \n",
    "                                       param_distributions = random_grid,\n",
    "                                      n_iter = 5,\n",
    "                                      cv = 5,\n",
    "                                      random_state = 17,\n",
    "                                      n_jobs = -1,\n",
    "                                      verbose = 2)"
   ]
  },
  {
   "cell_type": "code",
   "execution_count": 46,
   "metadata": {},
   "outputs": [
    {
     "name": "stdout",
     "output_type": "stream",
     "text": [
      "Fitting 5 folds for each of 5 candidates, totalling 25 fits\n"
     ]
    },
    {
     "name": "stderr",
     "output_type": "stream",
     "text": [
      "[Parallel(n_jobs=-1)]: Using backend LokyBackend with 8 concurrent workers.\n",
      "[Parallel(n_jobs=-1)]: Done  23 out of  25 | elapsed:  2.1min remaining:   11.0s\n",
      "[Parallel(n_jobs=-1)]: Done  25 out of  25 | elapsed:  2.2min finished\n"
     ]
    },
    {
     "data": {
      "text/plain": [
       "RandomizedSearchCV(cv=5, error_score='raise-deprecating',\n",
       "                   estimator=RandomForestRegressor(bootstrap=True,\n",
       "                                                   criterion='mse',\n",
       "                                                   max_depth=None,\n",
       "                                                   max_features='auto',\n",
       "                                                   max_leaf_nodes=None,\n",
       "                                                   min_impurity_decrease=0.0,\n",
       "                                                   min_impurity_split=None,\n",
       "                                                   min_samples_leaf=1,\n",
       "                                                   min_samples_split=2,\n",
       "                                                   min_weight_fraction_leaf=0.0,\n",
       "                                                   n_estimators=10, n_jobs=None,\n",
       "                                                   oob_score=False,\n",
       "                                                   random_state=None, verbose=0,\n",
       "                                                   warm_start=False),\n",
       "                   iid='warn', n_iter=5, n_jobs=-1,\n",
       "                   param_distributions={'max_depth': [10, 50, 100],\n",
       "                                        'max_features': ['auto', 'sqrt'],\n",
       "                                        'min_samples_leaf': [1, 2, 4],\n",
       "                                        'min_samples_split': [2, 5, 10],\n",
       "                                        'n_estimators': [100, 250, 1000]},\n",
       "                   pre_dispatch='2*n_jobs', random_state=17, refit=True,\n",
       "                   return_train_score=False, scoring=None, verbose=2)"
      ]
     },
     "execution_count": 46,
     "metadata": {},
     "output_type": "execute_result"
    }
   ],
   "source": [
    "rfr_random_search.fit(X_train, y_train)"
   ]
  },
  {
   "cell_type": "code",
   "execution_count": 47,
   "metadata": {},
   "outputs": [],
   "source": [
    "#save the random search\n",
    "pickle.dump(rfr_random_search, open('rf_random_search.sav', 'wb'))"
   ]
  },
  {
   "cell_type": "code",
   "execution_count": 50,
   "metadata": {},
   "outputs": [],
   "source": [
    "#load the random search\n",
    "random_forest_search = pickle.load(open('rf_random_search.sav', 'rb'))"
   ]
  },
  {
   "cell_type": "code",
   "execution_count": 51,
   "metadata": {},
   "outputs": [
    {
     "data": {
      "text/html": [
       "<div>\n",
       "<style scoped>\n",
       "    .dataframe tbody tr th:only-of-type {\n",
       "        vertical-align: middle;\n",
       "    }\n",
       "\n",
       "    .dataframe tbody tr th {\n",
       "        vertical-align: top;\n",
       "    }\n",
       "\n",
       "    .dataframe thead th {\n",
       "        text-align: right;\n",
       "    }\n",
       "</style>\n",
       "<table border=\"1\" class=\"dataframe\">\n",
       "  <thead>\n",
       "    <tr style=\"text-align: right;\">\n",
       "      <th></th>\n",
       "      <th>mean_fit_time</th>\n",
       "      <th>std_fit_time</th>\n",
       "      <th>mean_score_time</th>\n",
       "      <th>std_score_time</th>\n",
       "      <th>param_n_estimators</th>\n",
       "      <th>param_min_samples_split</th>\n",
       "      <th>param_min_samples_leaf</th>\n",
       "      <th>param_max_features</th>\n",
       "      <th>param_max_depth</th>\n",
       "      <th>params</th>\n",
       "      <th>split0_test_score</th>\n",
       "      <th>split1_test_score</th>\n",
       "      <th>split2_test_score</th>\n",
       "      <th>split3_test_score</th>\n",
       "      <th>split4_test_score</th>\n",
       "      <th>mean_test_score</th>\n",
       "      <th>std_test_score</th>\n",
       "      <th>rank_test_score</th>\n",
       "    </tr>\n",
       "  </thead>\n",
       "  <tbody>\n",
       "    <tr>\n",
       "      <th>2</th>\n",
       "      <td>26.470835</td>\n",
       "      <td>0.459201</td>\n",
       "      <td>0.175810</td>\n",
       "      <td>0.002597</td>\n",
       "      <td>100</td>\n",
       "      <td>5</td>\n",
       "      <td>2</td>\n",
       "      <td>auto</td>\n",
       "      <td>50</td>\n",
       "      <td>{'n_estimators': 100, 'min_samples_split': 5, ...</td>\n",
       "      <td>0.847033</td>\n",
       "      <td>0.845639</td>\n",
       "      <td>0.848147</td>\n",
       "      <td>0.877254</td>\n",
       "      <td>0.852521</td>\n",
       "      <td>0.854119</td>\n",
       "      <td>0.011795</td>\n",
       "      <td>1</td>\n",
       "    </tr>\n",
       "    <tr>\n",
       "      <th>0</th>\n",
       "      <td>55.713617</td>\n",
       "      <td>0.614871</td>\n",
       "      <td>0.350359</td>\n",
       "      <td>0.003395</td>\n",
       "      <td>250</td>\n",
       "      <td>5</td>\n",
       "      <td>4</td>\n",
       "      <td>auto</td>\n",
       "      <td>100</td>\n",
       "      <td>{'n_estimators': 250, 'min_samples_split': 5, ...</td>\n",
       "      <td>0.836284</td>\n",
       "      <td>0.834918</td>\n",
       "      <td>0.837935</td>\n",
       "      <td>0.863523</td>\n",
       "      <td>0.844119</td>\n",
       "      <td>0.843356</td>\n",
       "      <td>0.010563</td>\n",
       "      <td>2</td>\n",
       "    </tr>\n",
       "    <tr>\n",
       "      <th>1</th>\n",
       "      <td>21.799653</td>\n",
       "      <td>1.326651</td>\n",
       "      <td>0.142598</td>\n",
       "      <td>0.012324</td>\n",
       "      <td>100</td>\n",
       "      <td>5</td>\n",
       "      <td>4</td>\n",
       "      <td>auto</td>\n",
       "      <td>50</td>\n",
       "      <td>{'n_estimators': 100, 'min_samples_split': 5, ...</td>\n",
       "      <td>0.836053</td>\n",
       "      <td>0.833430</td>\n",
       "      <td>0.836228</td>\n",
       "      <td>0.862685</td>\n",
       "      <td>0.843593</td>\n",
       "      <td>0.842398</td>\n",
       "      <td>0.010694</td>\n",
       "      <td>3</td>\n",
       "    </tr>\n",
       "    <tr>\n",
       "      <th>4</th>\n",
       "      <td>40.447560</td>\n",
       "      <td>4.472388</td>\n",
       "      <td>0.864516</td>\n",
       "      <td>0.114027</td>\n",
       "      <td>1000</td>\n",
       "      <td>2</td>\n",
       "      <td>4</td>\n",
       "      <td>sqrt</td>\n",
       "      <td>100</td>\n",
       "      <td>{'n_estimators': 1000, 'min_samples_split': 2,...</td>\n",
       "      <td>0.835331</td>\n",
       "      <td>0.820277</td>\n",
       "      <td>0.827538</td>\n",
       "      <td>0.847554</td>\n",
       "      <td>0.827429</td>\n",
       "      <td>0.831626</td>\n",
       "      <td>0.009280</td>\n",
       "      <td>4</td>\n",
       "    </tr>\n",
       "    <tr>\n",
       "      <th>3</th>\n",
       "      <td>38.002284</td>\n",
       "      <td>0.149632</td>\n",
       "      <td>0.180834</td>\n",
       "      <td>0.006152</td>\n",
       "      <td>250</td>\n",
       "      <td>10</td>\n",
       "      <td>2</td>\n",
       "      <td>auto</td>\n",
       "      <td>10</td>\n",
       "      <td>{'n_estimators': 250, 'min_samples_split': 10,...</td>\n",
       "      <td>0.814947</td>\n",
       "      <td>0.810948</td>\n",
       "      <td>0.813140</td>\n",
       "      <td>0.843481</td>\n",
       "      <td>0.816980</td>\n",
       "      <td>0.819899</td>\n",
       "      <td>0.011958</td>\n",
       "      <td>5</td>\n",
       "    </tr>\n",
       "  </tbody>\n",
       "</table>\n",
       "</div>"
      ],
      "text/plain": [
       "   mean_fit_time  std_fit_time  mean_score_time  std_score_time  \\\n",
       "2      26.470835      0.459201         0.175810        0.002597   \n",
       "0      55.713617      0.614871         0.350359        0.003395   \n",
       "1      21.799653      1.326651         0.142598        0.012324   \n",
       "4      40.447560      4.472388         0.864516        0.114027   \n",
       "3      38.002284      0.149632         0.180834        0.006152   \n",
       "\n",
       "  param_n_estimators param_min_samples_split param_min_samples_leaf  \\\n",
       "2                100                       5                      2   \n",
       "0                250                       5                      4   \n",
       "1                100                       5                      4   \n",
       "4               1000                       2                      4   \n",
       "3                250                      10                      2   \n",
       "\n",
       "  param_max_features param_max_depth  \\\n",
       "2               auto              50   \n",
       "0               auto             100   \n",
       "1               auto              50   \n",
       "4               sqrt             100   \n",
       "3               auto              10   \n",
       "\n",
       "                                              params  split0_test_score  \\\n",
       "2  {'n_estimators': 100, 'min_samples_split': 5, ...           0.847033   \n",
       "0  {'n_estimators': 250, 'min_samples_split': 5, ...           0.836284   \n",
       "1  {'n_estimators': 100, 'min_samples_split': 5, ...           0.836053   \n",
       "4  {'n_estimators': 1000, 'min_samples_split': 2,...           0.835331   \n",
       "3  {'n_estimators': 250, 'min_samples_split': 10,...           0.814947   \n",
       "\n",
       "   split1_test_score  split2_test_score  split3_test_score  split4_test_score  \\\n",
       "2           0.845639           0.848147           0.877254           0.852521   \n",
       "0           0.834918           0.837935           0.863523           0.844119   \n",
       "1           0.833430           0.836228           0.862685           0.843593   \n",
       "4           0.820277           0.827538           0.847554           0.827429   \n",
       "3           0.810948           0.813140           0.843481           0.816980   \n",
       "\n",
       "   mean_test_score  std_test_score  rank_test_score  \n",
       "2         0.854119        0.011795                1  \n",
       "0         0.843356        0.010563                2  \n",
       "1         0.842398        0.010694                3  \n",
       "4         0.831626        0.009280                4  \n",
       "3         0.819899        0.011958                5  "
      ]
     },
     "execution_count": 51,
     "metadata": {},
     "output_type": "execute_result"
    }
   ],
   "source": [
    "#Show best 5 models\n",
    "results_ranked = pd.DataFrame(random_forest_search.cv_results_).sort_values(by = 'rank_test_score')\n",
    "results_ranked[:5]"
   ]
  },
  {
   "cell_type": "code",
   "execution_count": 52,
   "metadata": {},
   "outputs": [
    {
     "data": {
      "text/plain": [
       "{'n_estimators': 100,\n",
       " 'min_samples_split': 5,\n",
       " 'min_samples_leaf': 2,\n",
       " 'max_features': 'auto',\n",
       " 'max_depth': 50}"
      ]
     },
     "execution_count": 52,
     "metadata": {},
     "output_type": "execute_result"
    }
   ],
   "source": [
    "random_forest_search.best_params_"
   ]
  },
  {
   "cell_type": "code",
   "execution_count": 53,
   "metadata": {},
   "outputs": [
    {
     "data": {
      "text/plain": [
       "RandomForestRegressor(bootstrap=True, criterion='mse', max_depth=50,\n",
       "                      max_features='auto', max_leaf_nodes=None,\n",
       "                      min_impurity_decrease=0.0, min_impurity_split=None,\n",
       "                      min_samples_leaf=2, min_samples_split=5,\n",
       "                      min_weight_fraction_leaf=0.0, n_estimators=100, n_jobs=-1,\n",
       "                      oob_score=True, random_state=None, verbose=0,\n",
       "                      warm_start=False)"
      ]
     },
     "execution_count": 53,
     "metadata": {},
     "output_type": "execute_result"
    }
   ],
   "source": [
    "rf = RandomForestRegressor(n_estimators = 100,\n",
    "                            min_samples_split = 5, \n",
    "                            min_samples_leaf = 2, \n",
    "                            max_features = 'auto',\n",
    "                            max_depth = 50,\n",
    "                            bootstrap = True,\n",
    "                            n_jobs = -1,\n",
    "                            oob_score = True)\n",
    "rf.fit(X_train, y_train)"
   ]
  },
  {
   "cell_type": "code",
   "execution_count": 56,
   "metadata": {},
   "outputs": [
    {
     "name": "stdout",
     "output_type": "stream",
     "text": [
      "R^2 train data score:  0.9626483076074585\n",
      "R^2 test data score:  0.8583628737687243\n",
      "OOB score:  0.8639309911027211\n"
     ]
    }
   ],
   "source": [
    "print('R^2 train data score: ', rf.score(X_train, y_train))\n",
    "print('R^2 test data score: ', rf.score(X_test, y_test))\n",
    "print('OOB score: ', rf.oob_score_)"
   ]
  },
  {
   "cell_type": "code",
   "execution_count": 58,
   "metadata": {},
   "outputs": [
    {
     "data": {
      "text/plain": [
       "array([5.713490e-02, 1.643925e-02, 7.163224e-02, 1.204418e-02, 1.751316e-02, 1.180919e-01, 4.490443e-01, 9.791255e-02,\n",
       "       3.192670e-03, 2.391168e-03, 8.177740e-03, 2.607787e-02, 1.356047e-02, 1.789838e-02, 9.871068e-04, 4.980507e-04,\n",
       "       1.605920e-04, 9.471827e-04, 8.241907e-05, 4.938582e-04, 8.571999e-02])"
      ]
     },
     "execution_count": 58,
     "metadata": {},
     "output_type": "execute_result"
    }
   ],
   "source": [
    "#The model is slightly overfit but performs fairly well. Could be fixed with more hyperparameter tuning and\n",
    "#handling of time-series data\n",
    "\n",
    "rf.feature_importances_"
   ]
  },
  {
   "cell_type": "code",
   "execution_count": 149,
   "metadata": {},
   "outputs": [
    {
     "data": {
      "text/html": [
       "<div>\n",
       "<style scoped>\n",
       "    .dataframe tbody tr th:only-of-type {\n",
       "        vertical-align: middle;\n",
       "    }\n",
       "\n",
       "    .dataframe tbody tr th {\n",
       "        vertical-align: top;\n",
       "    }\n",
       "\n",
       "    .dataframe thead th {\n",
       "        text-align: right;\n",
       "    }\n",
       "</style>\n",
       "<table border=\"1\" class=\"dataframe\">\n",
       "  <thead>\n",
       "    <tr style=\"text-align: right;\">\n",
       "      <th></th>\n",
       "      <th>Feature Importance</th>\n",
       "    </tr>\n",
       "    <tr>\n",
       "      <th>Feature Name</th>\n",
       "      <th></th>\n",
       "    </tr>\n",
       "  </thead>\n",
       "  <tbody>\n",
       "    <tr>\n",
       "      <th>gage_height</th>\n",
       "      <td>0.4490</td>\n",
       "    </tr>\n",
       "    <tr>\n",
       "      <th>discharge</th>\n",
       "      <td>0.1181</td>\n",
       "    </tr>\n",
       "    <tr>\n",
       "      <th>dt_hour_of_day</th>\n",
       "      <td>0.0979</td>\n",
       "    </tr>\n",
       "    <tr>\n",
       "      <th>dt_Elapsed</th>\n",
       "      <td>0.0857</td>\n",
       "    </tr>\n",
       "    <tr>\n",
       "      <th>humidity</th>\n",
       "      <td>0.0716</td>\n",
       "    </tr>\n",
       "    <tr>\n",
       "      <th>rain</th>\n",
       "      <td>0.0571</td>\n",
       "    </tr>\n",
       "    <tr>\n",
       "      <th>dt_Day</th>\n",
       "      <td>0.0261</td>\n",
       "    </tr>\n",
       "    <tr>\n",
       "      <th>dt_Dayofyear</th>\n",
       "      <td>0.0179</td>\n",
       "    </tr>\n",
       "    <tr>\n",
       "      <th>app_temperature</th>\n",
       "      <td>0.0175</td>\n",
       "    </tr>\n",
       "    <tr>\n",
       "      <th>temp</th>\n",
       "      <td>0.0164</td>\n",
       "    </tr>\n",
       "    <tr>\n",
       "      <th>dt_Dayofweek</th>\n",
       "      <td>0.0136</td>\n",
       "    </tr>\n",
       "    <tr>\n",
       "      <th>cloud</th>\n",
       "      <td>0.0120</td>\n",
       "    </tr>\n",
       "    <tr>\n",
       "      <th>dt_Week</th>\n",
       "      <td>0.0082</td>\n",
       "    </tr>\n",
       "    <tr>\n",
       "      <th>dt_Year</th>\n",
       "      <td>0.0032</td>\n",
       "    </tr>\n",
       "    <tr>\n",
       "      <th>dt_Month</th>\n",
       "      <td>0.0024</td>\n",
       "    </tr>\n",
       "    <tr>\n",
       "      <th>dt_Is_month_end</th>\n",
       "      <td>0.0010</td>\n",
       "    </tr>\n",
       "    <tr>\n",
       "      <th>dt_Is_quarter_start</th>\n",
       "      <td>0.0009</td>\n",
       "    </tr>\n",
       "    <tr>\n",
       "      <th>dt_Is_year_start</th>\n",
       "      <td>0.0005</td>\n",
       "    </tr>\n",
       "    <tr>\n",
       "      <th>dt_Is_month_start</th>\n",
       "      <td>0.0005</td>\n",
       "    </tr>\n",
       "    <tr>\n",
       "      <th>dt_Is_quarter_end</th>\n",
       "      <td>0.0002</td>\n",
       "    </tr>\n",
       "    <tr>\n",
       "      <th>dt_Is_year_end</th>\n",
       "      <td>0.0001</td>\n",
       "    </tr>\n",
       "  </tbody>\n",
       "</table>\n",
       "</div>"
      ],
      "text/plain": [
       "                     Feature Importance\n",
       "Feature Name                           \n",
       "gage_height                      0.4490\n",
       "discharge                        0.1181\n",
       "dt_hour_of_day                   0.0979\n",
       "dt_Elapsed                       0.0857\n",
       "humidity                         0.0716\n",
       "rain                             0.0571\n",
       "dt_Day                           0.0261\n",
       "dt_Dayofyear                     0.0179\n",
       "app_temperature                  0.0175\n",
       "temp                             0.0164\n",
       "dt_Dayofweek                     0.0136\n",
       "cloud                            0.0120\n",
       "dt_Week                          0.0082\n",
       "dt_Year                          0.0032\n",
       "dt_Month                         0.0024\n",
       "dt_Is_month_end                  0.0010\n",
       "dt_Is_quarter_start              0.0009\n",
       "dt_Is_year_start                 0.0005\n",
       "dt_Is_month_start                0.0005\n",
       "dt_Is_quarter_end                0.0002\n",
       "dt_Is_year_end                   0.0001"
      ]
     },
     "execution_count": 149,
     "metadata": {},
     "output_type": "execute_result"
    }
   ],
   "source": [
    "sorted_feature_importances = sorted(zip(map(lambda x: round(x,4), rf.feature_importances_), X.columns), reverse = True)\n",
    "df_feature_importances = pd.DataFrame(sorted_feature_importances, columns = ['Feature Importance','Feature Name'])\n",
    "df_feature_importances.set_index('Feature Name')"
   ]
  },
  {
   "cell_type": "code",
   "execution_count": 191,
   "metadata": {},
   "outputs": [
    {
     "data": {
      "image/png": "[encoded data removed]",
      "text/plain": [
       "<Figure size 432x288 with 1 Axes>"
      ]
     },
     "metadata": {
      "needs_background": "light"
     },
     "output_type": "display_data"
    }
   ],
   "source": [
    "importances = rf.feature_importances_\n",
    "importances[::-1].sort()\n",
    "indices = np.argsort(importances)[::-1]\n",
    "cum_var = [importances[:x+1].sum() for x in range(len(importances))]\n",
    "plt.figure()\n",
    "plt.title(\"Feature Importance\")\n",
    "plt.bar(range(X.shape[1]), importances[indices])\n",
    "plt.xticks(range(X.shape[1]), names, rotation=90)\n",
    "plt.plot(cum_var, c = 'orange')\n",
    "plt.axhline(0.9, c = 'red', linestyle = 'dotted')\n",
    "plt.grid()\n",
    "plt.legend(labels = ['Cumulative Feature Importance'], loc = 'center right')\n",
    "plt.show()"
   ]
  },
  {
   "cell_type": "code",
   "execution_count": 194,
   "metadata": {},
   "outputs": [],
   "source": [
    "reduced_feature_columns = ['gage_height', 'discharge', 'dt_hour_of_day', 'dt_Elapsed', 'humidity', 'rain']\n",
    "X_reduced_columns = df[reduced_feature_columns]"
   ]
  },
  {
   "cell_type": "code",
   "execution_count": 195,
   "metadata": {},
   "outputs": [],
   "source": [
    "X_train, X_test, y_train, y_test = train_test_split(X_reduced_columns, y)"
   ]
  },
  {
   "cell_type": "code",
   "execution_count": 198,
   "metadata": {},
   "outputs": [
    {
     "name": "stdout",
     "output_type": "stream",
     "text": [
      "R^2 train data score:  0.9514183724338984\n",
      "R^2 test data score:  0.8581013903259658\n",
      "OOB score:  0.8414928884549722\n"
     ]
    }
   ],
   "source": [
    "rf_reduced_features = RandomForestRegressor(n_estimators = 100,\n",
    "                            min_samples_split = 5, \n",
    "                            min_samples_leaf = 2, \n",
    "                            max_features = 'auto',\n",
    "                            max_depth = 50,\n",
    "                            bootstrap = True,\n",
    "                            n_jobs = -1,\n",
    "                            oob_score = True)\n",
    "rf_reduced_features.fit(X_train, y_train)\n",
    "print('R^2 train data score: ', rf_reduced_features.score(X_train, y_train))\n",
    "print('R^2 test data score: ', rf_reduced_features.score(X_test, y_test))\n",
    "print('OOB score: ', rf_reduced_features.oob_score_)"
   ]
  },
  {
   "cell_type": "code",
   "execution_count": null,
   "metadata": {},
   "outputs": [],
   "source": []
  }
 ],
 "metadata": {
  "kernelspec": {
   "display_name": "Python 3",
   "language": "python",
   "name": "python3"
  },
  "language_info": {
   "codemirror_mode": {
    "name": "ipython",
    "version": 3
   },
   "file_extension": ".py",
   "mimetype": "text/x-python",
   "name": "python",
   "nbconvert_exporter": "python",
   "pygments_lexer": "ipython3",
   "version": "3.7.3"
  }
 },
 "nbformat": 4,
 "nbformat_minor": 2
}
