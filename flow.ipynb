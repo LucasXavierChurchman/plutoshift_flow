{
 "cells": [
  {
   "cell_type": "code",
   "execution_count": 1,
   "metadata": {},
   "outputs": [],
   "source": [
    "import os\n",
    "import numpy as np\n",
    "import pandas as pd\n",
    "import matplotlib.pyplot as plt\n",
    "import seaborn as sn\n",
    "from datetime import datetime, timedelta\n",
    "from fastai.tabular import add_datepart\n",
    "from scipy.stats import ks_2samp"
   ]
  },
  {
   "cell_type": "markdown",
   "metadata": {},
   "source": [
    "# Loading datasets, feature engineering"
   ]
  },
  {
   "cell_type": "code",
   "execution_count": 2,
   "metadata": {},
   "outputs": [
    {
     "name": "stdout",
     "output_type": "stream",
     "text": [
      "These are the datasets available: \n",
      " ['usgs_san_francisquito.txt', 'usgs_data.csv', 'influent_flow.csv', 'weather.csv']\n"
     ]
    }
   ],
   "source": [
    "print('These are the datasets available: \\n', os.listdir('flow data/flow data'))\n",
    "#Note: the usgs_data.csv is just the table from usgs_san_francisquito.txt"
   ]
  },
  {
   "cell_type": "markdown",
   "metadata": {},
   "source": [
    "## Flow data"
   ]
  },
  {
   "cell_type": "code",
   "execution_count": 3,
   "metadata": {},
   "outputs": [
    {
     "name": "stdout",
     "output_type": "stream",
     "text": [
      "<class 'pandas.core.frame.DataFrame'>\n",
      "RangeIndex: 34516 entries, 0 to 34515\n",
      "Data columns (total 2 columns):\n",
      "Date        34516 non-null datetime64[ns]\n",
      "INF_FLOW    34516 non-null float64\n",
      "dtypes: datetime64[ns](1), float64(1)\n",
      "memory usage: 539.4 KB\n",
      "None\n"
     ]
    },
    {
     "data": {
      "text/html": [
       "<div>\n",
       "<style scoped>\n",
       "    .dataframe tbody tr th:only-of-type {\n",
       "        vertical-align: middle;\n",
       "    }\n",
       "\n",
       "    .dataframe tbody tr th {\n",
       "        vertical-align: top;\n",
       "    }\n",
       "\n",
       "    .dataframe thead th {\n",
       "        text-align: right;\n",
       "    }\n",
       "</style>\n",
       "<table border=\"1\" class=\"dataframe\">\n",
       "  <thead>\n",
       "    <tr style=\"text-align: right;\">\n",
       "      <th></th>\n",
       "      <th>Date</th>\n",
       "      <th>INF_FLOW</th>\n",
       "    </tr>\n",
       "  </thead>\n",
       "  <tbody>\n",
       "    <tr>\n",
       "      <th>0</th>\n",
       "      <td>2013-01-15 00:00:00</td>\n",
       "      <td>9.589273</td>\n",
       "    </tr>\n",
       "    <tr>\n",
       "      <th>1</th>\n",
       "      <td>2013-01-15 01:00:00</td>\n",
       "      <td>9.272833</td>\n",
       "    </tr>\n",
       "    <tr>\n",
       "      <th>2</th>\n",
       "      <td>2013-01-15 02:00:00</td>\n",
       "      <td>8.861329</td>\n",
       "    </tr>\n",
       "    <tr>\n",
       "      <th>3</th>\n",
       "      <td>2013-01-15 03:00:00</td>\n",
       "      <td>9.193454</td>\n",
       "    </tr>\n",
       "    <tr>\n",
       "      <th>4</th>\n",
       "      <td>2013-01-15 04:00:00</td>\n",
       "      <td>9.129482</td>\n",
       "    </tr>\n",
       "  </tbody>\n",
       "</table>\n",
       "</div>"
      ],
      "text/plain": [
       "                 Date  INF_FLOW\n",
       "0 2013-01-15 00:00:00  9.589273\n",
       "1 2013-01-15 01:00:00  9.272833\n",
       "2 2013-01-15 02:00:00  8.861329\n",
       "3 2013-01-15 03:00:00  9.193454\n",
       "4 2013-01-15 04:00:00  9.129482"
      ]
     },
     "execution_count": 3,
     "metadata": {},
     "output_type": "execute_result"
    }
   ],
   "source": [
    "#Looking at influent_flow.csv table, the table containing our target\n",
    "flow = pd.read_csv('flow data/flow data/influent_flow.csv')\n",
    "\n",
    "#Change the date column to a datetime type\n",
    "flow['Date'] = pd.to_datetime(flow['Date'])\n",
    "\n",
    "print(flow.info())\n",
    "flow.head()"
   ]
  },
  {
   "cell_type": "markdown",
   "metadata": {},
   "source": [
    "## Weather Data"
   ]
  },
  {
   "cell_type": "code",
   "execution_count": 4,
   "metadata": {},
   "outputs": [
    {
     "name": "stdout",
     "output_type": "stream",
     "text": [
      "<class 'pandas.core.frame.DataFrame'>\n",
      "RangeIndex: 44784 entries, 0 to 44783\n",
      "Data columns (total 8 columns):\n",
      "Date               44784 non-null datetime64[ns]\n",
      "rain               44784 non-null float64\n",
      "snow               44784 non-null float64\n",
      "accum              44784 non-null float64\n",
      "temp               44784 non-null float64\n",
      "humidity           44784 non-null float64\n",
      "cloud              44784 non-null float64\n",
      "app_temperature    44784 non-null float64\n",
      "dtypes: datetime64[ns](1), float64(7)\n",
      "memory usage: 2.7 MB\n",
      "None\n"
     ]
    },
    {
     "data": {
      "text/html": [
       "<div>\n",
       "<style scoped>\n",
       "    .dataframe tbody tr th:only-of-type {\n",
       "        vertical-align: middle;\n",
       "    }\n",
       "\n",
       "    .dataframe tbody tr th {\n",
       "        vertical-align: top;\n",
       "    }\n",
       "\n",
       "    .dataframe thead th {\n",
       "        text-align: right;\n",
       "    }\n",
       "</style>\n",
       "<table border=\"1\" class=\"dataframe\">\n",
       "  <thead>\n",
       "    <tr style=\"text-align: right;\">\n",
       "      <th></th>\n",
       "      <th>Date</th>\n",
       "      <th>rain</th>\n",
       "      <th>snow</th>\n",
       "      <th>accum</th>\n",
       "      <th>temp</th>\n",
       "      <th>humidity</th>\n",
       "      <th>cloud</th>\n",
       "      <th>app_temperature</th>\n",
       "    </tr>\n",
       "  </thead>\n",
       "  <tbody>\n",
       "    <tr>\n",
       "      <th>0</th>\n",
       "      <td>2012-12-15 08:00:00</td>\n",
       "      <td>0.0</td>\n",
       "      <td>0.0</td>\n",
       "      <td>0.0</td>\n",
       "      <td>5.95</td>\n",
       "      <td>0.89</td>\n",
       "      <td>0.08</td>\n",
       "      <td>5.95</td>\n",
       "    </tr>\n",
       "    <tr>\n",
       "      <th>1</th>\n",
       "      <td>2012-12-15 09:00:00</td>\n",
       "      <td>0.0</td>\n",
       "      <td>0.0</td>\n",
       "      <td>0.0</td>\n",
       "      <td>5.66</td>\n",
       "      <td>0.92</td>\n",
       "      <td>0.09</td>\n",
       "      <td>5.66</td>\n",
       "    </tr>\n",
       "    <tr>\n",
       "      <th>2</th>\n",
       "      <td>2012-12-15 10:00:00</td>\n",
       "      <td>0.0</td>\n",
       "      <td>0.0</td>\n",
       "      <td>0.0</td>\n",
       "      <td>5.46</td>\n",
       "      <td>0.91</td>\n",
       "      <td>0.09</td>\n",
       "      <td>5.46</td>\n",
       "    </tr>\n",
       "    <tr>\n",
       "      <th>3</th>\n",
       "      <td>2012-12-15 11:00:00</td>\n",
       "      <td>0.0</td>\n",
       "      <td>0.0</td>\n",
       "      <td>0.0</td>\n",
       "      <td>4.82</td>\n",
       "      <td>0.92</td>\n",
       "      <td>0.06</td>\n",
       "      <td>4.82</td>\n",
       "    </tr>\n",
       "    <tr>\n",
       "      <th>4</th>\n",
       "      <td>2012-12-15 12:00:00</td>\n",
       "      <td>0.0</td>\n",
       "      <td>0.0</td>\n",
       "      <td>0.0</td>\n",
       "      <td>4.61</td>\n",
       "      <td>0.93</td>\n",
       "      <td>0.03</td>\n",
       "      <td>4.61</td>\n",
       "    </tr>\n",
       "  </tbody>\n",
       "</table>\n",
       "</div>"
      ],
      "text/plain": [
       "                 Date  rain  snow  accum  temp  humidity  cloud  \\\n",
       "0 2012-12-15 08:00:00   0.0   0.0    0.0  5.95      0.89   0.08   \n",
       "1 2012-12-15 09:00:00   0.0   0.0    0.0  5.66      0.92   0.09   \n",
       "2 2012-12-15 10:00:00   0.0   0.0    0.0  5.46      0.91   0.09   \n",
       "3 2012-12-15 11:00:00   0.0   0.0    0.0  4.82      0.92   0.06   \n",
       "4 2012-12-15 12:00:00   0.0   0.0    0.0  4.61      0.93   0.03   \n",
       "\n",
       "   app_temperature  \n",
       "0             5.95  \n",
       "1             5.66  \n",
       "2             5.46  \n",
       "3             4.82  \n",
       "4             4.61  "
      ]
     },
     "execution_count": 4,
     "metadata": {},
     "output_type": "execute_result"
    }
   ],
   "source": [
    "#Looking at weather table\n",
    "weather = pd.read_csv('flow data/flow data/weather.csv')\n",
    "\n",
    "#Change the date column to a datetime type\n",
    "weather['Date'] = pd.to_datetime(weather['Date'])\n",
    "\n",
    "print(weather.info())\n",
    "weather.head()"
   ]
  },
  {
   "cell_type": "markdown",
   "metadata": {},
   "source": [
    "## USGS Data"
   ]
  },
  {
   "cell_type": "code",
   "execution_count": 5,
   "metadata": {},
   "outputs": [
    {
     "name": "stdout",
     "output_type": "stream",
     "text": [
      "<class 'pandas.core.frame.DataFrame'>\n",
      "Int64Index: 178895 entries, 1 to 178895\n",
      "Data columns (total 8 columns):\n",
      "agency_cd         178895 non-null object\n",
      "site_no           178895 non-null object\n",
      "Date              178895 non-null datetime64[ns]\n",
      "tz_cd             178895 non-null object\n",
      "discharge         178675 non-null float64\n",
      "discharge_cd      178675 non-null object\n",
      "gage_height       178760 non-null float64\n",
      "gage_height_cd    178760 non-null object\n",
      "dtypes: datetime64[ns](1), float64(2), object(5)\n",
      "memory usage: 12.3+ MB\n",
      "None\n"
     ]
    },
    {
     "data": {
      "text/html": [
       "<div>\n",
       "<style scoped>\n",
       "    .dataframe tbody tr th:only-of-type {\n",
       "        vertical-align: middle;\n",
       "    }\n",
       "\n",
       "    .dataframe tbody tr th {\n",
       "        vertical-align: top;\n",
       "    }\n",
       "\n",
       "    .dataframe thead th {\n",
       "        text-align: right;\n",
       "    }\n",
       "</style>\n",
       "<table border=\"1\" class=\"dataframe\">\n",
       "  <thead>\n",
       "    <tr style=\"text-align: right;\">\n",
       "      <th></th>\n",
       "      <th>agency_cd</th>\n",
       "      <th>site_no</th>\n",
       "      <th>Date</th>\n",
       "      <th>tz_cd</th>\n",
       "      <th>discharge</th>\n",
       "      <th>discharge_cd</th>\n",
       "      <th>gage_height</th>\n",
       "      <th>gage_height_cd</th>\n",
       "    </tr>\n",
       "  </thead>\n",
       "  <tbody>\n",
       "    <tr>\n",
       "      <th>1</th>\n",
       "      <td>USGS</td>\n",
       "      <td>11164500</td>\n",
       "      <td>2013-01-01 00:00:00</td>\n",
       "      <td>PST</td>\n",
       "      <td>44.1</td>\n",
       "      <td>A</td>\n",
       "      <td>1.27</td>\n",
       "      <td>A</td>\n",
       "    </tr>\n",
       "    <tr>\n",
       "      <th>2</th>\n",
       "      <td>USGS</td>\n",
       "      <td>11164500</td>\n",
       "      <td>2013-01-01 00:15:00</td>\n",
       "      <td>PST</td>\n",
       "      <td>44.1</td>\n",
       "      <td>A</td>\n",
       "      <td>1.27</td>\n",
       "      <td>A</td>\n",
       "    </tr>\n",
       "    <tr>\n",
       "      <th>3</th>\n",
       "      <td>USGS</td>\n",
       "      <td>11164500</td>\n",
       "      <td>2013-01-01 00:30:00</td>\n",
       "      <td>PST</td>\n",
       "      <td>44.1</td>\n",
       "      <td>A</td>\n",
       "      <td>1.27</td>\n",
       "      <td>A</td>\n",
       "    </tr>\n",
       "    <tr>\n",
       "      <th>4</th>\n",
       "      <td>USGS</td>\n",
       "      <td>11164500</td>\n",
       "      <td>2013-01-01 00:45:00</td>\n",
       "      <td>PST</td>\n",
       "      <td>43.2</td>\n",
       "      <td>A</td>\n",
       "      <td>1.26</td>\n",
       "      <td>A</td>\n",
       "    </tr>\n",
       "    <tr>\n",
       "      <th>5</th>\n",
       "      <td>USGS</td>\n",
       "      <td>11164500</td>\n",
       "      <td>2013-01-01 01:00:00</td>\n",
       "      <td>PST</td>\n",
       "      <td>43.2</td>\n",
       "      <td>A</td>\n",
       "      <td>1.26</td>\n",
       "      <td>A</td>\n",
       "    </tr>\n",
       "  </tbody>\n",
       "</table>\n",
       "</div>"
      ],
      "text/plain": [
       "  agency_cd   site_no                Date tz_cd  discharge discharge_cd  \\\n",
       "1      USGS  11164500 2013-01-01 00:00:00   PST       44.1            A   \n",
       "2      USGS  11164500 2013-01-01 00:15:00   PST       44.1            A   \n",
       "3      USGS  11164500 2013-01-01 00:30:00   PST       44.1            A   \n",
       "4      USGS  11164500 2013-01-01 00:45:00   PST       43.2            A   \n",
       "5      USGS  11164500 2013-01-01 01:00:00   PST       43.2            A   \n",
       "\n",
       "   gage_height gage_height_cd  \n",
       "1         1.27              A  \n",
       "2         1.27              A  \n",
       "3         1.27              A  \n",
       "4         1.26              A  \n",
       "5         1.26              A  "
      ]
     },
     "execution_count": 5,
     "metadata": {},
     "output_type": "execute_result"
    }
   ],
   "source": [
    "#Looking at usgs_san_francisuito.txt table\n",
    "usgs = pd.read_csv('flow data/flow data/usgs_data.csv', sep = '\\t', low_memory = False)\n",
    " #Looks like we have some missing values in the last 4 columns\n",
    "\n",
    "#get rid of row 0 (indicating datatype and length for each column)\n",
    "usgs.drop(0, inplace= True)\n",
    "\n",
    "#Change the date column to a datetime for this table as well\n",
    "usgs['datetime'] = pd.to_datetime(usgs['datetime'])\n",
    "\n",
    "#The original usgs text file indicates the 14747_00060 and 14748_0065 columns \n",
    "#indicate discharge and gage height. Lets change the name of those columns\n",
    "#and their corresponding qualification codes. Let's also rename the 'datetime'\n",
    "#to 'Date' to be consitent with the other tables\n",
    "\n",
    "usgs.rename(columns = {'14747_00060': 'discharge', \n",
    "            '14747_00060_cd': 'discharge_cd',\n",
    "            '14748_00065' : 'gage_height',\n",
    "            '14748_00065_cd' : 'gage_height_cd',\n",
    "            'datetime' : 'Date'},\n",
    "           inplace = True)\n",
    "\n",
    "#convert discharge and gage_height to numerical values\n",
    "usgs['discharge'] = usgs['discharge'].astype('float')\n",
    "usgs['gage_height'] = usgs['gage_height'].astype('float')\n",
    "\n",
    "print(usgs.info())\n",
    "usgs.head()"
   ]
  },
  {
   "cell_type": "markdown",
   "metadata": {},
   "source": [
    "#### Comparing approved and non-approved data"
   ]
  },
  {
   "cell_type": "code",
   "execution_count": 6,
   "metadata": {},
   "outputs": [
    {
     "name": "stderr",
     "output_type": "stream",
     "text": [
      "/home/lucas/anaconda3/lib/python3.7/site-packages/numpy/lib/histograms.py:824: RuntimeWarning: invalid value encountered in greater_equal\n",
      "  keep = (tmp_a >= first_edge)\n",
      "/home/lucas/anaconda3/lib/python3.7/site-packages/numpy/lib/histograms.py:825: RuntimeWarning: invalid value encountered in less_equal\n",
      "  keep &= (tmp_a <= last_edge)\n"
     ]
    },
    {
     "data": {
      "image/png": "[encoded data removed]",
      "text/plain": [
       "<Figure size 432x288 with 4 Axes>"
      ]
     },
     "metadata": {
      "needs_background": "light"
     },
     "output_type": "display_data"
    }
   ],
   "source": [
    "#Comparing approved and non approved data\n",
    "usgs_A = usgs[(usgs['discharge_cd'] == 'A') &  (usgs['gage_height_cd'] == 'A')]\n",
    "usgs_not_A = usgs[(usgs['discharge_cd'] != 'A') |  (usgs['gage_height_cd'] != 'A')]\n",
    "\n",
    "\n",
    "fig, axs = plt.subplots(2, 2)\n",
    "\n",
    "axs[0,0].hist(usgs_A['discharge'], bins = 25)\n",
    "axs[0,0].set_title('Approved Discharge Data')\n",
    "\n",
    "axs[0,1].hist(usgs_not_A['discharge'], bins = 25)\n",
    "axs[0,1].set_title('Non-Approved Discharge Data')\n",
    "\n",
    "axs[1,0].hist(usgs_A['gage_height'], bins = 25)\n",
    "axs[1,0].set_title('Approved Gage Height Data')\n",
    "\n",
    "axs[1,1].hist(usgs_not_A['gage_height'], bins = 25)\n",
    "axs[1,1].set_title('Non-Approved Gage Height Data')\n",
    "\n",
    "plt.tight_layout()"
   ]
  },
  {
   "cell_type": "code",
   "execution_count": 7,
   "metadata": {},
   "outputs": [
    {
     "name": "stdout",
     "output_type": "stream",
     "text": [
      "Ks_2sampResult(statistic=0.26367390186417167, pvalue=0.0) Ks_2sampResult(statistic=0.25454487280388177, pvalue=0.0)\n"
     ]
    }
   ],
   "source": [
    "# It's fairly clear by comparing these histograms the distributions (particulary the axis values) of the approved \n",
    "# and non-approved data is different. We can test this using the kolmogorov-smirnov test, which tests \n",
    "# whether 2 samples come from the same continuous distribution\n",
    "\n",
    "discharge_distn_test = ks_2samp(usgs_A['discharge'], usgs_not_A['discharge'])\n",
    "gage_distn_test = ks_2samp(usgs_A['gage_height'], usgs_not_A['gage_height'])\n",
    "\n",
    "print(discharge_distn_test, gage_distn_test)\n",
    "\n"
   ]
  },
  {
   "cell_type": "code",
   "execution_count": 8,
   "metadata": {},
   "outputs": [],
   "source": [
    "# For both gage height and discharge, the test is rejected -> distributions are different\n",
    "# We'll use just approved discharge and gage_height data going forward\n",
    "\n",
    "usgs = usgs[(usgs['discharge_cd'] == 'A') &  (usgs['gage_height_cd'] == 'A')]"
   ]
  },
  {
   "cell_type": "markdown",
   "metadata": {},
   "source": [
    "### Merge the data"
   ]
  },
  {
   "cell_type": "code",
   "execution_count": 9,
   "metadata": {},
   "outputs": [
    {
     "name": "stdout",
     "output_type": "stream",
     "text": [
      "<class 'pandas.core.frame.DataFrame'>\n",
      "DatetimeIndex: 34268 entries, 2013-01-15 00:00:00 to 2016-12-22 14:00:00\n",
      "Data columns (total 15 columns):\n",
      "INF_FLOW           34268 non-null float64\n",
      "rain               34268 non-null float64\n",
      "snow               34268 non-null float64\n",
      "accum              34268 non-null float64\n",
      "temp               34268 non-null float64\n",
      "humidity           34268 non-null float64\n",
      "cloud              34268 non-null float64\n",
      "app_temperature    34268 non-null float64\n",
      "agency_cd          34268 non-null object\n",
      "site_no            34268 non-null object\n",
      "tz_cd              34268 non-null object\n",
      "discharge          34268 non-null float64\n",
      "discharge_cd       34268 non-null object\n",
      "gage_height        34268 non-null float64\n",
      "gage_height_cd     34268 non-null object\n",
      "dtypes: float64(10), object(5)\n",
      "memory usage: 4.2+ MB\n",
      "None\n"
     ]
    }
   ],
   "source": [
    "#Now that the 3 dataframes have been cleaned up a bit lets merge them together by date\n",
    "df = flow.merge(weather, on = 'Date')\n",
    "df = df.merge(usgs, on = 'Date')\n",
    "df.set_index('Date', inplace = True)\n",
    "print(df.info())"
   ]
  },
  {
   "cell_type": "code",
   "execution_count": 10,
   "metadata": {},
   "outputs": [
    {
     "name": "stdout",
     "output_type": "stream",
     "text": [
      "Column name: \t ['snow', 'accum', 'agency_cd', 'site_no', 'discharge_cd', 'gage_height_cd'] \n",
      "Unique Value\t [0.0, 0.0, 'USGS', '11164500', 'A', 'A']\n"
     ]
    }
   ],
   "source": [
    "#Columns with only one unique value wont have any effect and just take up space\n",
    "unique_value_cols = [col for col in df.columns if df[col].unique().size == 1]\n",
    "unique_value = [df[col].unique()[0] for col in df.columns if df[col].unique().size == 1]\n",
    "print('Column name: \\t' ,unique_value_cols,'\\nUnique Value\\t', unique_value)"
   ]
  },
  {
   "cell_type": "code",
   "execution_count": 11,
   "metadata": {},
   "outputs": [
    {
     "data": {
      "text/html": [
       "<div>\n",
       "<style scoped>\n",
       "    .dataframe tbody tr th:only-of-type {\n",
       "        vertical-align: middle;\n",
       "    }\n",
       "\n",
       "    .dataframe tbody tr th {\n",
       "        vertical-align: top;\n",
       "    }\n",
       "\n",
       "    .dataframe thead th {\n",
       "        text-align: right;\n",
       "    }\n",
       "</style>\n",
       "<table border=\"1\" class=\"dataframe\">\n",
       "  <thead>\n",
       "    <tr style=\"text-align: right;\">\n",
       "      <th></th>\n",
       "      <th>INF_FLOW</th>\n",
       "      <th>rain</th>\n",
       "      <th>temp</th>\n",
       "      <th>humidity</th>\n",
       "      <th>cloud</th>\n",
       "      <th>app_temperature</th>\n",
       "      <th>tz_cd</th>\n",
       "      <th>discharge</th>\n",
       "      <th>gage_height</th>\n",
       "    </tr>\n",
       "    <tr>\n",
       "      <th>Date</th>\n",
       "      <th></th>\n",
       "      <th></th>\n",
       "      <th></th>\n",
       "      <th></th>\n",
       "      <th></th>\n",
       "      <th></th>\n",
       "      <th></th>\n",
       "      <th></th>\n",
       "      <th></th>\n",
       "    </tr>\n",
       "  </thead>\n",
       "  <tbody>\n",
       "    <tr>\n",
       "      <th>2013-01-15 00:00:00</th>\n",
       "      <td>9.589273</td>\n",
       "      <td>0.0</td>\n",
       "      <td>10.19</td>\n",
       "      <td>0.26</td>\n",
       "      <td>0.04</td>\n",
       "      <td>10.19</td>\n",
       "      <td>PST</td>\n",
       "      <td>17.1</td>\n",
       "      <td>0.86</td>\n",
       "    </tr>\n",
       "    <tr>\n",
       "      <th>2013-01-15 01:00:00</th>\n",
       "      <td>9.272833</td>\n",
       "      <td>0.0</td>\n",
       "      <td>9.76</td>\n",
       "      <td>0.31</td>\n",
       "      <td>0.18</td>\n",
       "      <td>9.76</td>\n",
       "      <td>PST</td>\n",
       "      <td>17.1</td>\n",
       "      <td>0.86</td>\n",
       "    </tr>\n",
       "    <tr>\n",
       "      <th>2013-01-15 02:00:00</th>\n",
       "      <td>8.861329</td>\n",
       "      <td>0.0</td>\n",
       "      <td>7.80</td>\n",
       "      <td>0.36</td>\n",
       "      <td>0.07</td>\n",
       "      <td>6.92</td>\n",
       "      <td>PST</td>\n",
       "      <td>17.1</td>\n",
       "      <td>0.86</td>\n",
       "    </tr>\n",
       "    <tr>\n",
       "      <th>2013-01-15 03:00:00</th>\n",
       "      <td>9.193454</td>\n",
       "      <td>0.0</td>\n",
       "      <td>6.52</td>\n",
       "      <td>0.43</td>\n",
       "      <td>0.03</td>\n",
       "      <td>6.52</td>\n",
       "      <td>PST</td>\n",
       "      <td>17.1</td>\n",
       "      <td>0.86</td>\n",
       "    </tr>\n",
       "    <tr>\n",
       "      <th>2013-01-15 04:00:00</th>\n",
       "      <td>9.129482</td>\n",
       "      <td>0.0</td>\n",
       "      <td>5.69</td>\n",
       "      <td>0.48</td>\n",
       "      <td>0.03</td>\n",
       "      <td>5.69</td>\n",
       "      <td>PST</td>\n",
       "      <td>16.7</td>\n",
       "      <td>0.85</td>\n",
       "    </tr>\n",
       "  </tbody>\n",
       "</table>\n",
       "</div>"
      ],
      "text/plain": [
       "                     INF_FLOW  rain   temp  humidity  cloud  app_temperature  \\\n",
       "Date                                                                           \n",
       "2013-01-15 00:00:00  9.589273   0.0  10.19      0.26   0.04            10.19   \n",
       "2013-01-15 01:00:00  9.272833   0.0   9.76      0.31   0.18             9.76   \n",
       "2013-01-15 02:00:00  8.861329   0.0   7.80      0.36   0.07             6.92   \n",
       "2013-01-15 03:00:00  9.193454   0.0   6.52      0.43   0.03             6.52   \n",
       "2013-01-15 04:00:00  9.129482   0.0   5.69      0.48   0.03             5.69   \n",
       "\n",
       "                    tz_cd  discharge  gage_height  \n",
       "Date                                               \n",
       "2013-01-15 00:00:00   PST       17.1         0.86  \n",
       "2013-01-15 01:00:00   PST       17.1         0.86  \n",
       "2013-01-15 02:00:00   PST       17.1         0.86  \n",
       "2013-01-15 03:00:00   PST       17.1         0.86  \n",
       "2013-01-15 04:00:00   PST       16.7         0.85  "
      ]
     },
     "execution_count": 11,
     "metadata": {},
     "output_type": "execute_result"
    }
   ],
   "source": [
    "#Drop those columns\n",
    "df.drop(unique_value_cols, axis = 1, inplace = True)\n",
    "df.head()"
   ]
  },
  {
   "cell_type": "markdown",
   "metadata": {},
   "source": [
    "### Daylight Savings"
   ]
  },
  {
   "cell_type": "code",
   "execution_count": 12,
   "metadata": {},
   "outputs": [
    {
     "data": {
      "text/html": [
       "<div>\n",
       "<style scoped>\n",
       "    .dataframe tbody tr th:only-of-type {\n",
       "        vertical-align: middle;\n",
       "    }\n",
       "\n",
       "    .dataframe tbody tr th {\n",
       "        vertical-align: top;\n",
       "    }\n",
       "\n",
       "    .dataframe thead th {\n",
       "        text-align: right;\n",
       "    }\n",
       "</style>\n",
       "<table border=\"1\" class=\"dataframe\">\n",
       "  <thead>\n",
       "    <tr style=\"text-align: right;\">\n",
       "      <th></th>\n",
       "      <th>INF_FLOW</th>\n",
       "      <th>rain</th>\n",
       "      <th>temp</th>\n",
       "      <th>humidity</th>\n",
       "      <th>cloud</th>\n",
       "      <th>app_temperature</th>\n",
       "      <th>tz_cd</th>\n",
       "      <th>discharge</th>\n",
       "      <th>gage_height</th>\n",
       "    </tr>\n",
       "    <tr>\n",
       "      <th>Date</th>\n",
       "      <th></th>\n",
       "      <th></th>\n",
       "      <th></th>\n",
       "      <th></th>\n",
       "      <th></th>\n",
       "      <th></th>\n",
       "      <th></th>\n",
       "      <th></th>\n",
       "      <th></th>\n",
       "    </tr>\n",
       "  </thead>\n",
       "  <tbody>\n",
       "    <tr>\n",
       "      <th>2013-03-10 00:00:00</th>\n",
       "      <td>9.423984</td>\n",
       "      <td>0.0</td>\n",
       "      <td>16.93</td>\n",
       "      <td>0.50</td>\n",
       "      <td>0.04</td>\n",
       "      <td>16.93</td>\n",
       "      <td>PST</td>\n",
       "      <td>6.06</td>\n",
       "      <td>0.59</td>\n",
       "    </tr>\n",
       "    <tr>\n",
       "      <th>2013-03-10 01:00:00</th>\n",
       "      <td>9.097989</td>\n",
       "      <td>0.0</td>\n",
       "      <td>17.06</td>\n",
       "      <td>0.52</td>\n",
       "      <td>0.03</td>\n",
       "      <td>17.06</td>\n",
       "      <td>PST</td>\n",
       "      <td>6.06</td>\n",
       "      <td>0.59</td>\n",
       "    </tr>\n",
       "    <tr>\n",
       "      <th>2013-03-10 03:00:00</th>\n",
       "      <td>8.230157</td>\n",
       "      <td>0.0</td>\n",
       "      <td>13.42</td>\n",
       "      <td>0.71</td>\n",
       "      <td>0.04</td>\n",
       "      <td>13.42</td>\n",
       "      <td>PDT</td>\n",
       "      <td>5.80</td>\n",
       "      <td>0.58</td>\n",
       "    </tr>\n",
       "    <tr>\n",
       "      <th>2013-03-10 04:00:00</th>\n",
       "      <td>7.811428</td>\n",
       "      <td>0.0</td>\n",
       "      <td>11.70</td>\n",
       "      <td>0.72</td>\n",
       "      <td>0.00</td>\n",
       "      <td>11.70</td>\n",
       "      <td>PDT</td>\n",
       "      <td>5.80</td>\n",
       "      <td>0.58</td>\n",
       "    </tr>\n",
       "    <tr>\n",
       "      <th>2013-03-10 05:00:00</th>\n",
       "      <td>7.814624</td>\n",
       "      <td>0.0</td>\n",
       "      <td>10.78</td>\n",
       "      <td>0.75</td>\n",
       "      <td>0.00</td>\n",
       "      <td>10.78</td>\n",
       "      <td>PDT</td>\n",
       "      <td>5.80</td>\n",
       "      <td>0.58</td>\n",
       "    </tr>\n",
       "  </tbody>\n",
       "</table>\n",
       "</div>"
      ],
      "text/plain": [
       "                     INF_FLOW  rain   temp  humidity  cloud  app_temperature  \\\n",
       "Date                                                                           \n",
       "2013-03-10 00:00:00  9.423984   0.0  16.93      0.50   0.04            16.93   \n",
       "2013-03-10 01:00:00  9.097989   0.0  17.06      0.52   0.03            17.06   \n",
       "2013-03-10 03:00:00  8.230157   0.0  13.42      0.71   0.04            13.42   \n",
       "2013-03-10 04:00:00  7.811428   0.0  11.70      0.72   0.00            11.70   \n",
       "2013-03-10 05:00:00  7.814624   0.0  10.78      0.75   0.00            10.78   \n",
       "\n",
       "                    tz_cd  discharge  gage_height  \n",
       "Date                                               \n",
       "2013-03-10 00:00:00   PST       6.06         0.59  \n",
       "2013-03-10 01:00:00   PST       6.06         0.59  \n",
       "2013-03-10 03:00:00   PDT       5.80         0.58  \n",
       "2013-03-10 04:00:00   PDT       5.80         0.58  \n",
       "2013-03-10 05:00:00   PDT       5.80         0.58  "
      ]
     },
     "execution_count": 12,
     "metadata": {},
     "output_type": "execute_result"
    }
   ],
   "source": [
    "# I noticed the timezone values (PST, PDT) and thought to check for daylight savings time change\n",
    "\n",
    "df.loc['2013-03-10 00:00:00':'2013-03-10 05:00:00'] #<- to show DST occuring"
   ]
  },
  {
   "cell_type": "code",
   "execution_count": 13,
   "metadata": {},
   "outputs": [],
   "source": [
    "#Preserve local dattime in new column incase it's needed later.\n",
    "local_time =  df.index"
   ]
  },
  {
   "cell_type": "code",
   "execution_count": 14,
   "metadata": {},
   "outputs": [],
   "source": [
    "#Drop the timezone column\n",
    "df.drop('tz_cd', axis = 1, inplace = True)"
   ]
  },
  {
   "cell_type": "code",
   "execution_count": 15,
   "metadata": {},
   "outputs": [
    {
     "data": {
      "text/html": [
       "<div>\n",
       "<style scoped>\n",
       "    .dataframe tbody tr th:only-of-type {\n",
       "        vertical-align: middle;\n",
       "    }\n",
       "\n",
       "    .dataframe tbody tr th {\n",
       "        vertical-align: top;\n",
       "    }\n",
       "\n",
       "    .dataframe thead th {\n",
       "        text-align: right;\n",
       "    }\n",
       "</style>\n",
       "<table border=\"1\" class=\"dataframe\">\n",
       "  <thead>\n",
       "    <tr style=\"text-align: right;\">\n",
       "      <th></th>\n",
       "      <th>INF_FLOW</th>\n",
       "      <th>rain</th>\n",
       "      <th>temp</th>\n",
       "      <th>humidity</th>\n",
       "      <th>cloud</th>\n",
       "      <th>app_temperature</th>\n",
       "      <th>discharge</th>\n",
       "      <th>gage_height</th>\n",
       "    </tr>\n",
       "    <tr>\n",
       "      <th>Date_GMT</th>\n",
       "      <th></th>\n",
       "      <th></th>\n",
       "      <th></th>\n",
       "      <th></th>\n",
       "      <th></th>\n",
       "      <th></th>\n",
       "      <th></th>\n",
       "      <th></th>\n",
       "    </tr>\n",
       "  </thead>\n",
       "  <tbody>\n",
       "    <tr>\n",
       "      <th>2013-03-10 00:00:00+00:00</th>\n",
       "      <td>9.423984</td>\n",
       "      <td>0.0</td>\n",
       "      <td>16.93</td>\n",
       "      <td>0.50</td>\n",
       "      <td>0.04</td>\n",
       "      <td>16.93</td>\n",
       "      <td>6.06</td>\n",
       "      <td>0.59</td>\n",
       "    </tr>\n",
       "    <tr>\n",
       "      <th>2013-03-10 01:00:00+00:00</th>\n",
       "      <td>9.097989</td>\n",
       "      <td>0.0</td>\n",
       "      <td>17.06</td>\n",
       "      <td>0.52</td>\n",
       "      <td>0.03</td>\n",
       "      <td>17.06</td>\n",
       "      <td>6.06</td>\n",
       "      <td>0.59</td>\n",
       "    </tr>\n",
       "    <tr>\n",
       "      <th>2013-03-10 02:00:00+00:00</th>\n",
       "      <td>8.230157</td>\n",
       "      <td>0.0</td>\n",
       "      <td>13.42</td>\n",
       "      <td>0.71</td>\n",
       "      <td>0.04</td>\n",
       "      <td>13.42</td>\n",
       "      <td>5.80</td>\n",
       "      <td>0.58</td>\n",
       "    </tr>\n",
       "    <tr>\n",
       "      <th>2013-03-10 03:00:00+00:00</th>\n",
       "      <td>7.811428</td>\n",
       "      <td>0.0</td>\n",
       "      <td>11.70</td>\n",
       "      <td>0.72</td>\n",
       "      <td>0.00</td>\n",
       "      <td>11.70</td>\n",
       "      <td>5.80</td>\n",
       "      <td>0.58</td>\n",
       "    </tr>\n",
       "    <tr>\n",
       "      <th>2013-03-10 04:00:00+00:00</th>\n",
       "      <td>7.814624</td>\n",
       "      <td>0.0</td>\n",
       "      <td>10.78</td>\n",
       "      <td>0.75</td>\n",
       "      <td>0.00</td>\n",
       "      <td>10.78</td>\n",
       "      <td>5.80</td>\n",
       "      <td>0.58</td>\n",
       "    </tr>\n",
       "    <tr>\n",
       "      <th>2013-03-10 05:00:00+00:00</th>\n",
       "      <td>7.510198</td>\n",
       "      <td>0.0</td>\n",
       "      <td>10.69</td>\n",
       "      <td>0.78</td>\n",
       "      <td>0.07</td>\n",
       "      <td>10.69</td>\n",
       "      <td>5.80</td>\n",
       "      <td>0.58</td>\n",
       "    </tr>\n",
       "  </tbody>\n",
       "</table>\n",
       "</div>"
      ],
      "text/plain": [
       "                           INF_FLOW  rain   temp  humidity  cloud  \\\n",
       "Date_GMT                                                            \n",
       "2013-03-10 00:00:00+00:00  9.423984   0.0  16.93      0.50   0.04   \n",
       "2013-03-10 01:00:00+00:00  9.097989   0.0  17.06      0.52   0.03   \n",
       "2013-03-10 02:00:00+00:00  8.230157   0.0  13.42      0.71   0.04   \n",
       "2013-03-10 03:00:00+00:00  7.811428   0.0  11.70      0.72   0.00   \n",
       "2013-03-10 04:00:00+00:00  7.814624   0.0  10.78      0.75   0.00   \n",
       "2013-03-10 05:00:00+00:00  7.510198   0.0  10.69      0.78   0.07   \n",
       "\n",
       "                           app_temperature  discharge  gage_height  \n",
       "Date_GMT                                                            \n",
       "2013-03-10 00:00:00+00:00            16.93       6.06         0.59  \n",
       "2013-03-10 01:00:00+00:00            17.06       6.06         0.59  \n",
       "2013-03-10 02:00:00+00:00            13.42       5.80         0.58  \n",
       "2013-03-10 03:00:00+00:00            11.70       5.80         0.58  \n",
       "2013-03-10 04:00:00+00:00            10.78       5.80         0.58  \n",
       "2013-03-10 05:00:00+00:00            10.69       5.80         0.58  "
      ]
     },
     "execution_count": 15,
     "metadata": {},
     "output_type": "execute_result"
    }
   ],
   "source": [
    "#Convert the datetime index to GMT.\n",
    "dti = pd.date_range(start = '2013-01-15', freq = 'H', periods = df.shape[0], tz = 'GMT')\n",
    "df.index = dti\n",
    "df.index.name = 'Date_GMT'\n",
    "df.loc['2013-03-10 00:00:00':'2013-03-10 05:00:00']"
   ]
  },
  {
   "cell_type": "markdown",
   "metadata": {},
   "source": [
    "### Creating Time Features"
   ]
  },
  {
   "cell_type": "code",
   "execution_count": 16,
   "metadata": {},
   "outputs": [],
   "source": [
    "# The prompt mentions the plant doesn't control the amount of flow coming in. This likely means\n",
    "# the flow is mostly caused by natural cycles. Considering this, datetime units indicating natural \n",
    "# cycles (i.e hour of day, time of year) are probably important\n",
    "\n",
    "df['dt_hour_of_day'] = pd.DatetimeIndex(df.index).hour\n",
    "\n",
    "#This will add most calendar date features. Dropping dt_Elapsed since it's colinear with other features.\n",
    "df['dt_'] = df.index\n",
    "df = add_datepart(df, 'dt_', drop = True).drop('dt_Elapsed', axis = 1)"
   ]
  },
  {
   "cell_type": "code",
   "execution_count": 17,
   "metadata": {},
   "outputs": [
    {
     "data": {
      "text/plain": [
       "Index(['INF_FLOW', 'rain', 'temp', 'humidity', 'cloud', 'app_temperature',\n",
       "       'discharge', 'gage_height', 'dt_hour_of_day', 'dt_Year', 'dt_Month',\n",
       "       'dt_Week', 'dt_Day', 'dt_Dayofweek', 'dt_Dayofyear', 'dt_Is_month_end',\n",
       "       'dt_Is_month_start', 'dt_Is_quarter_end', 'dt_Is_quarter_start',\n",
       "       'dt_Is_year_end', 'dt_Is_year_start'],\n",
       "      dtype='object')"
      ]
     },
     "execution_count": 17,
     "metadata": {},
     "output_type": "execute_result"
    }
   ],
   "source": [
    "df.columns"
   ]
  },
  {
   "cell_type": "markdown",
   "metadata": {},
   "source": [
    "### Exploring Trends"
   ]
  },
  {
   "cell_type": "code",
   "execution_count": 18,
   "metadata": {
    "scrolled": true
   },
   "outputs": [
    {
     "data": {
      "text/plain": [
       "<matplotlib.legend.Legend at 0x7f9b642e7d68>"
      ]
     },
     "execution_count": 18,
     "metadata": {},
     "output_type": "execute_result"
    },
    {
     "data": {
      "image/png": "[encoded data removed]",
      "text/plain": [
       "<Figure size 432x288 with 1 Axes>"
      ]
     },
     "metadata": {
      "needs_background": "light"
     },
     "output_type": "display_data"
    }
   ],
   "source": [
    "#This is interesting. Flow has an almost perfect cosine shaped trend over the course of an average day\n",
    "\n",
    "hourly_flow_trend = df.groupby(['dt_hour_of_day'])['INF_FLOW'].mean()\n",
    "hourly_flow_trend.plot(grid = True)\n",
    "plt.xlabel('Hour of Day')\n",
    "plt.title('Average Flow by Hour of Day')\n",
    "plt.ylabel('Flow (Millions of Gallons/Day)')\n",
    "plt.legend(labels = ['INF_FLOW'])"
   ]
  },
  {
   "cell_type": "code",
   "execution_count": 19,
   "metadata": {},
   "outputs": [
    {
     "data": {
      "image/png": "[encoded data removed]",
      "text/plain": [
       "<Figure size 432x288 with 2 Axes>"
      ]
     },
     "metadata": {
      "needs_background": "light"
     },
     "output_type": "display_data"
    }
   ],
   "source": [
    "sn.heatmap(df.corr())\n",
    "plt.show()"
   ]
  },
  {
   "cell_type": "code",
   "execution_count": 20,
   "metadata": {},
   "outputs": [
    {
     "data": {
      "text/plain": [
       "INF_FLOW               1.000000\n",
       "rain                   0.420401\n",
       "temp                   0.054821\n",
       "humidity              -0.096054\n",
       "cloud                  0.111640\n",
       "app_temperature        0.051046\n",
       "discharge              0.586279\n",
       "gage_height            0.723594\n",
       "dt_hour_of_day         0.028484\n",
       "dt_Year                0.126488\n",
       "dt_Month              -0.145092\n",
       "dt_Week               -0.133550\n",
       "dt_Day                -0.076513\n",
       "dt_Dayofweek          -0.015543\n",
       "dt_Dayofyear          -0.150560\n",
       "dt_Is_month_end       -0.006333\n",
       "dt_Is_month_start      0.049138\n",
       "dt_Is_quarter_end      0.005423\n",
       "dt_Is_quarter_start    0.034965\n",
       "dt_Is_year_end         0.026553\n",
       "dt_Is_year_start       0.055474\n",
       "Name: INF_FLOW, dtype: float64"
      ]
     },
     "execution_count": 20,
     "metadata": {},
     "output_type": "execute_result"
    }
   ],
   "source": [
    "df.corr()['INF_FLOW']"
   ]
  },
  {
   "cell_type": "markdown",
   "metadata": {},
   "source": [
    "Apparent temperature has high correlation with correlation with temperature, as one would expect. Best to drop it in final model to avoid colinerarity. \n",
    "\n",
    "Gage height and discharge have the highest correlations with flow. The prompt mentions these are known to be good predictors from past experience\n"
   ]
  },
  {
   "cell_type": "markdown",
   "metadata": {},
   "source": [
    "# Model"
   ]
  },
  {
   "cell_type": "markdown",
   "metadata": {},
   "source": [
    "I decided to use a Random Forest for a few reasons:\n",
    "   1. Great at handling mixed data types\n",
    "   2. Highly interpretable. The intuition behind decision trees/random forests is easy to understand (even more \n",
    "       than linear regression or especially something like a neural network)\n",
    "   3. The .feature_importances() attribute makes it almost trivial to determine strongest predictors. The \n",
    "       magnitude of model cofficients in linear regression don't necessarily determine strength of prediciton.\n",
    "   4. Familiarity\n",
    "       \n",
    "Due to time constraints, I used Random Search Cross Validation rather than Grid Search for hyperparameter tuning. Given more time, I would use the latter with more parameters options for the absolute best results."
   ]
  },
  {
   "cell_type": "code",
   "execution_count": 24,
   "metadata": {},
   "outputs": [],
   "source": [
    "from sklearn.ensemble import RandomForestRegressor\n",
    "from sklearn.model_selection import train_test_split, RandomizedSearchCV, TimeSeriesSplit\n",
    "import pickle"
   ]
  },
  {
   "cell_type": "code",
   "execution_count": 53,
   "metadata": {},
   "outputs": [],
   "source": [
    "data = df.drop('app_temperature', axis = 1)\n",
    "y = data['INF_FLOW']\n",
    "X = data[data.columns[1:]]\n",
    "                \n",
    "#Splitting off some data for validation purposes\n",
    "X_train, X_val = np.split(X, [int(.75*len(data))])\n",
    "y_train, y_val = np.split(y, [int(.75*len(data))]) "
   ]
  },
  {
   "cell_type": "code",
   "execution_count": 57,
   "metadata": {},
   "outputs": [],
   "source": [
    "#parameter grid for random search. Somewhat few values tried because of time restraints\n",
    "random_grid = {'n_estimators' : [100,250,500],\n",
    "       'max_depth' : [10, 50, 100],\n",
    "       'max_features' : ['auto', 'sqrt'],\n",
    "       'min_samples_leaf' : [1, 2 ,4],\n",
    "       'min_samples_split' : [2, 5, 10]}\n",
    "\n",
    "#base model\n",
    "rf = RandomForestRegressor(random_state = 17)\n",
    "\n",
    "#make time series splits for cross validation\n",
    "tscv = TimeSeriesSplit(n_splits = 5).split(X_train)\n",
    "\n",
    "rf_random_search = RandomizedSearchCV(estimator = rf, \n",
    "                                    param_distributions = random_grid,\n",
    "                                      n_iter = 10,\n",
    "                                      cv = tscv,\n",
    "                                      random_state = 17,\n",
    "                                      n_jobs = -1,\n",
    "                                      verbose = 2)\n"
   ]
  },
  {
   "cell_type": "code",
   "execution_count": 58,
   "metadata": {},
   "outputs": [
    {
     "name": "stdout",
     "output_type": "stream",
     "text": [
      "Fitting 5 folds for each of 10 candidates, totalling 50 fits\n"
     ]
    },
    {
     "name": "stderr",
     "output_type": "stream",
     "text": [
      "[Parallel(n_jobs=-1)]: Using backend LokyBackend with 8 concurrent workers.\n",
      "[Parallel(n_jobs=-1)]: Done  25 tasks      | elapsed:   48.4s\n",
      "/home/lucas/anaconda3/lib/python3.7/site-packages/joblib/externals/loky/process_executor.py:706: UserWarning: A worker stopped while some jobs were given to the executor. This can be caused by a too short worker timeout or by a memory leak.\n",
      "  \"timeout or by a memory leak.\", UserWarning\n",
      "[Parallel(n_jobs=-1)]: Done  50 out of  50 | elapsed:  2.0min finished\n"
     ]
    },
    {
     "data": {
      "text/plain": [
       "RandomizedSearchCV(cv=<generator object TimeSeriesSplit.split at 0x7ff242ba0de0>,\n",
       "                   error_score='raise-deprecating',\n",
       "                   estimator=RandomForestRegressor(bootstrap=True,\n",
       "                                                   criterion='mse',\n",
       "                                                   max_depth=None,\n",
       "                                                   max_features='auto',\n",
       "                                                   max_leaf_nodes=None,\n",
       "                                                   min_impurity_decrease=0.0,\n",
       "                                                   min_impurity_split=None,\n",
       "                                                   min_samples_leaf=1,\n",
       "                                                   min_samples_split=2,\n",
       "                                                   min_weight_fraction_leaf=0.0,\n",
       "                                                   n_est...\n",
       "                                                   n_jobs=None, oob_score=False,\n",
       "                                                   random_state=17, verbose=0,\n",
       "                                                   warm_start=False),\n",
       "                   iid='warn', n_iter=10, n_jobs=-1,\n",
       "                   param_distributions={'max_depth': [10, 50, 100],\n",
       "                                        'max_features': ['auto', 'sqrt'],\n",
       "                                        'min_samples_leaf': [1, 2, 4],\n",
       "                                        'min_samples_split': [2, 5, 10],\n",
       "                                        'n_estimators': [100, 250, 500]},\n",
       "                   pre_dispatch='2*n_jobs', random_state=17, refit=True,\n",
       "                   return_train_score=False, scoring=None, verbose=2)"
      ]
     },
     "execution_count": 58,
     "metadata": {},
     "output_type": "execute_result"
    }
   ],
   "source": [
    "rf_random_search.fit(X_train, y_train)"
   ]
  },
  {
   "cell_type": "code",
   "execution_count": 60,
   "metadata": {},
   "outputs": [
    {
     "data": {
      "text/html": [
       "<div>\n",
       "<style scoped>\n",
       "    .dataframe tbody tr th:only-of-type {\n",
       "        vertical-align: middle;\n",
       "    }\n",
       "\n",
       "    .dataframe tbody tr th {\n",
       "        vertical-align: top;\n",
       "    }\n",
       "\n",
       "    .dataframe thead th {\n",
       "        text-align: right;\n",
       "    }\n",
       "</style>\n",
       "<table border=\"1\" class=\"dataframe\">\n",
       "  <thead>\n",
       "    <tr style=\"text-align: right;\">\n",
       "      <th></th>\n",
       "      <th>mean_fit_time</th>\n",
       "      <th>std_fit_time</th>\n",
       "      <th>mean_score_time</th>\n",
       "      <th>std_score_time</th>\n",
       "      <th>param_n_estimators</th>\n",
       "      <th>param_min_samples_split</th>\n",
       "      <th>param_min_samples_leaf</th>\n",
       "      <th>param_max_features</th>\n",
       "      <th>param_max_depth</th>\n",
       "      <th>params</th>\n",
       "      <th>split0_test_score</th>\n",
       "      <th>split1_test_score</th>\n",
       "      <th>split2_test_score</th>\n",
       "      <th>split3_test_score</th>\n",
       "      <th>split4_test_score</th>\n",
       "      <th>mean_test_score</th>\n",
       "      <th>std_test_score</th>\n",
       "      <th>rank_test_score</th>\n",
       "    </tr>\n",
       "  </thead>\n",
       "  <tbody>\n",
       "    <tr>\n",
       "      <th>0</th>\n",
       "      <td>20.911371</td>\n",
       "      <td>11.895722</td>\n",
       "      <td>0.131665</td>\n",
       "      <td>0.035041</td>\n",
       "      <td>250</td>\n",
       "      <td>5</td>\n",
       "      <td>4</td>\n",
       "      <td>auto</td>\n",
       "      <td>100</td>\n",
       "      <td>{'n_estimators': 250, 'min_samples_split': 5, ...</td>\n",
       "      <td>0.434725</td>\n",
       "      <td>0.544234</td>\n",
       "      <td>0.493873</td>\n",
       "      <td>0.557622</td>\n",
       "      <td>0.584279</td>\n",
       "      <td>0.522946</td>\n",
       "      <td>0.053001</td>\n",
       "      <td>1</td>\n",
       "    </tr>\n",
       "    <tr>\n",
       "      <th>1</th>\n",
       "      <td>8.076416</td>\n",
       "      <td>4.526245</td>\n",
       "      <td>0.053372</td>\n",
       "      <td>0.012356</td>\n",
       "      <td>100</td>\n",
       "      <td>5</td>\n",
       "      <td>4</td>\n",
       "      <td>auto</td>\n",
       "      <td>50</td>\n",
       "      <td>{'n_estimators': 100, 'min_samples_split': 5, ...</td>\n",
       "      <td>0.439157</td>\n",
       "      <td>0.546841</td>\n",
       "      <td>0.487817</td>\n",
       "      <td>0.557105</td>\n",
       "      <td>0.580832</td>\n",
       "      <td>0.522351</td>\n",
       "      <td>0.051656</td>\n",
       "      <td>2</td>\n",
       "    </tr>\n",
       "    <tr>\n",
       "      <th>3</th>\n",
       "      <td>15.195680</td>\n",
       "      <td>7.440904</td>\n",
       "      <td>0.086346</td>\n",
       "      <td>0.005176</td>\n",
       "      <td>250</td>\n",
       "      <td>10</td>\n",
       "      <td>2</td>\n",
       "      <td>auto</td>\n",
       "      <td>10</td>\n",
       "      <td>{'n_estimators': 250, 'min_samples_split': 10,...</td>\n",
       "      <td>0.434281</td>\n",
       "      <td>0.530582</td>\n",
       "      <td>0.501433</td>\n",
       "      <td>0.556918</td>\n",
       "      <td>0.568534</td>\n",
       "      <td>0.518349</td>\n",
       "      <td>0.047978</td>\n",
       "      <td>3</td>\n",
       "    </tr>\n",
       "    <tr>\n",
       "      <th>4</th>\n",
       "      <td>11.146878</td>\n",
       "      <td>5.824901</td>\n",
       "      <td>0.237250</td>\n",
       "      <td>0.041991</td>\n",
       "      <td>500</td>\n",
       "      <td>2</td>\n",
       "      <td>4</td>\n",
       "      <td>sqrt</td>\n",
       "      <td>100</td>\n",
       "      <td>{'n_estimators': 500, 'min_samples_split': 2, ...</td>\n",
       "      <td>0.425675</td>\n",
       "      <td>0.519124</td>\n",
       "      <td>0.465576</td>\n",
       "      <td>0.579950</td>\n",
       "      <td>0.598878</td>\n",
       "      <td>0.517841</td>\n",
       "      <td>0.065806</td>\n",
       "      <td>4</td>\n",
       "    </tr>\n",
       "    <tr>\n",
       "      <th>8</th>\n",
       "      <td>12.303259</td>\n",
       "      <td>5.933800</td>\n",
       "      <td>0.253193</td>\n",
       "      <td>0.031933</td>\n",
       "      <td>500</td>\n",
       "      <td>2</td>\n",
       "      <td>2</td>\n",
       "      <td>sqrt</td>\n",
       "      <td>50</td>\n",
       "      <td>{'n_estimators': 500, 'min_samples_split': 2, ...</td>\n",
       "      <td>0.434617</td>\n",
       "      <td>0.526164</td>\n",
       "      <td>0.447370</td>\n",
       "      <td>0.565285</td>\n",
       "      <td>0.597875</td>\n",
       "      <td>0.514262</td>\n",
       "      <td>0.064115</td>\n",
       "      <td>5</td>\n",
       "    </tr>\n",
       "  </tbody>\n",
       "</table>\n",
       "</div>"
      ],
      "text/plain": [
       "   mean_fit_time  std_fit_time  mean_score_time  std_score_time  \\\n",
       "0      20.911371     11.895722         0.131665        0.035041   \n",
       "1       8.076416      4.526245         0.053372        0.012356   \n",
       "3      15.195680      7.440904         0.086346        0.005176   \n",
       "4      11.146878      5.824901         0.237250        0.041991   \n",
       "8      12.303259      5.933800         0.253193        0.031933   \n",
       "\n",
       "  param_n_estimators param_min_samples_split param_min_samples_leaf  \\\n",
       "0                250                       5                      4   \n",
       "1                100                       5                      4   \n",
       "3                250                      10                      2   \n",
       "4                500                       2                      4   \n",
       "8                500                       2                      2   \n",
       "\n",
       "  param_max_features param_max_depth  \\\n",
       "0               auto             100   \n",
       "1               auto              50   \n",
       "3               auto              10   \n",
       "4               sqrt             100   \n",
       "8               sqrt              50   \n",
       "\n",
       "                                              params  split0_test_score  \\\n",
       "0  {'n_estimators': 250, 'min_samples_split': 5, ...           0.434725   \n",
       "1  {'n_estimators': 100, 'min_samples_split': 5, ...           0.439157   \n",
       "3  {'n_estimators': 250, 'min_samples_split': 10,...           0.434281   \n",
       "4  {'n_estimators': 500, 'min_samples_split': 2, ...           0.425675   \n",
       "8  {'n_estimators': 500, 'min_samples_split': 2, ...           0.434617   \n",
       "\n",
       "   split1_test_score  split2_test_score  split3_test_score  split4_test_score  \\\n",
       "0           0.544234           0.493873           0.557622           0.584279   \n",
       "1           0.546841           0.487817           0.557105           0.580832   \n",
       "3           0.530582           0.501433           0.556918           0.568534   \n",
       "4           0.519124           0.465576           0.579950           0.598878   \n",
       "8           0.526164           0.447370           0.565285           0.597875   \n",
       "\n",
       "   mean_test_score  std_test_score  rank_test_score  \n",
       "0         0.522946        0.053001                1  \n",
       "1         0.522351        0.051656                2  \n",
       "3         0.518349        0.047978                3  \n",
       "4         0.517841        0.065806                4  \n",
       "8         0.514262        0.064115                5  "
      ]
     },
     "execution_count": 60,
     "metadata": {},
     "output_type": "execute_result"
    }
   ],
   "source": [
    "#Show the best combinations of hyperparamters\n",
    "results_ranked = pd.DataFrame(rf_random_search.cv_results_).sort_values(by = 'rank_test_score')\n",
    "results_ranked[:5]"
   ]
  },
  {
   "cell_type": "code",
   "execution_count": 22,
   "metadata": {},
   "outputs": [],
   "source": [
    "rf_random_search.best_params_"
   ]
  },
  {
   "cell_type": "code",
   "execution_count": 62,
   "metadata": {},
   "outputs": [
    {
     "data": {
      "text/plain": [
       "RandomForestRegressor(bootstrap=True, criterion='mse', max_depth=100,\n",
       "                      max_features='auto', max_leaf_nodes=None,\n",
       "                      min_impurity_decrease=0.0, min_impurity_split=None,\n",
       "                      min_samples_leaf=4, min_samples_split=5,\n",
       "                      min_weight_fraction_leaf=0.0, n_estimators=250, n_jobs=-1,\n",
       "                      oob_score=True, random_state=17, verbose=0,\n",
       "                      warm_start=False)"
      ]
     },
     "execution_count": 62,
     "metadata": {},
     "output_type": "execute_result"
    }
   ],
   "source": [
    "#Make model with the best params found in the random search cross validation\n",
    "model = RandomForestRegressor(oob_score = True,\n",
    "                            n_estimators = 250,\n",
    "                            min_samples_split = 5, \n",
    "                            min_samples_leaf = 4, \n",
    "                            max_features = 'auto',\n",
    "                            max_depth = 100,\n",
    "                            bootstrap = True,\n",
    "                            n_jobs = -1,\n",
    "                            random_state = 17)\n",
    "model.fit(X_train, y_train)"
   ]
  },
  {
   "cell_type": "code",
   "execution_count": 63,
   "metadata": {},
   "outputs": [
    {
     "name": "stdout",
     "output_type": "stream",
     "text": [
      "R^2 train data score:  0.9266630222399213\n",
      "R^2 validation data score:  0.5610870268777072\n",
      "OOB score:  0.8387657113177276\n"
     ]
    }
   ],
   "source": [
    "print('R^2 train data score: ', model.score(X_train, y_train))\n",
    "print('R^2 validation data score: ', model.score(X_val, y_val))\n",
    "print('OOB score: ', model.oob_score_)"
   ]
  },
  {
   "cell_type": "markdown",
   "metadata": {},
   "source": [
    "##### As indicated between the training and validation scores, the model is overfit. Much more work to be done here if given more time. OOB is pretty good but not as important considering the time-series nature of the data."
   ]
  },
  {
   "cell_type": "code",
   "execution_count": 64,
   "metadata": {},
   "outputs": [
    {
     "data": {
      "text/html": [
       "<div>\n",
       "<style scoped>\n",
       "    .dataframe tbody tr th:only-of-type {\n",
       "        vertical-align: middle;\n",
       "    }\n",
       "\n",
       "    .dataframe tbody tr th {\n",
       "        vertical-align: top;\n",
       "    }\n",
       "\n",
       "    .dataframe thead th {\n",
       "        text-align: right;\n",
       "    }\n",
       "</style>\n",
       "<table border=\"1\" class=\"dataframe\">\n",
       "  <thead>\n",
       "    <tr style=\"text-align: right;\">\n",
       "      <th></th>\n",
       "      <th>Feature Importance</th>\n",
       "    </tr>\n",
       "    <tr>\n",
       "      <th>Feature Name</th>\n",
       "      <th></th>\n",
       "    </tr>\n",
       "  </thead>\n",
       "  <tbody>\n",
       "    <tr>\n",
       "      <th>gage_height</th>\n",
       "      <td>0.3823</td>\n",
       "    </tr>\n",
       "    <tr>\n",
       "      <th>dt_hour_of_day</th>\n",
       "      <td>0.1951</td>\n",
       "    </tr>\n",
       "    <tr>\n",
       "      <th>discharge</th>\n",
       "      <td>0.1110</td>\n",
       "    </tr>\n",
       "    <tr>\n",
       "      <th>rain</th>\n",
       "      <td>0.0662</td>\n",
       "    </tr>\n",
       "    <tr>\n",
       "      <th>dt_Day</th>\n",
       "      <td>0.0445</td>\n",
       "    </tr>\n",
       "    <tr>\n",
       "      <th>humidity</th>\n",
       "      <td>0.0442</td>\n",
       "    </tr>\n",
       "    <tr>\n",
       "      <th>dt_Dayofweek</th>\n",
       "      <td>0.0419</td>\n",
       "    </tr>\n",
       "    <tr>\n",
       "      <th>temp</th>\n",
       "      <td>0.0317</td>\n",
       "    </tr>\n",
       "    <tr>\n",
       "      <th>dt_Dayofyear</th>\n",
       "      <td>0.0285</td>\n",
       "    </tr>\n",
       "    <tr>\n",
       "      <th>dt_Year</th>\n",
       "      <td>0.0271</td>\n",
       "    </tr>\n",
       "    <tr>\n",
       "      <th>cloud</th>\n",
       "      <td>0.0124</td>\n",
       "    </tr>\n",
       "    <tr>\n",
       "      <th>dt_Week</th>\n",
       "      <td>0.0096</td>\n",
       "    </tr>\n",
       "    <tr>\n",
       "      <th>dt_Month</th>\n",
       "      <td>0.0039</td>\n",
       "    </tr>\n",
       "    <tr>\n",
       "      <th>dt_Is_month_end</th>\n",
       "      <td>0.0007</td>\n",
       "    </tr>\n",
       "    <tr>\n",
       "      <th>dt_Is_quarter_start</th>\n",
       "      <td>0.0005</td>\n",
       "    </tr>\n",
       "    <tr>\n",
       "      <th>dt_Is_month_start</th>\n",
       "      <td>0.0003</td>\n",
       "    </tr>\n",
       "    <tr>\n",
       "      <th>dt_Is_quarter_end</th>\n",
       "      <td>0.0001</td>\n",
       "    </tr>\n",
       "    <tr>\n",
       "      <th>dt_Is_year_start</th>\n",
       "      <td>0.0000</td>\n",
       "    </tr>\n",
       "    <tr>\n",
       "      <th>dt_Is_year_end</th>\n",
       "      <td>0.0000</td>\n",
       "    </tr>\n",
       "  </tbody>\n",
       "</table>\n",
       "</div>"
      ],
      "text/plain": [
       "                     Feature Importance\n",
       "Feature Name                           \n",
       "gage_height                      0.3823\n",
       "dt_hour_of_day                   0.1951\n",
       "discharge                        0.1110\n",
       "rain                             0.0662\n",
       "dt_Day                           0.0445\n",
       "humidity                         0.0442\n",
       "dt_Dayofweek                     0.0419\n",
       "temp                             0.0317\n",
       "dt_Dayofyear                     0.0285\n",
       "dt_Year                          0.0271\n",
       "cloud                            0.0124\n",
       "dt_Week                          0.0096\n",
       "dt_Month                         0.0039\n",
       "dt_Is_month_end                  0.0007\n",
       "dt_Is_quarter_start              0.0005\n",
       "dt_Is_month_start                0.0003\n",
       "dt_Is_quarter_end                0.0001\n",
       "dt_Is_year_start                 0.0000\n",
       "dt_Is_year_end                   0.0000"
      ]
     },
     "execution_count": 64,
     "metadata": {},
     "output_type": "execute_result"
    }
   ],
   "source": [
    "sorted_feature_importances = sorted(zip(map(lambda x: round(x,4), model.feature_importances_), X.columns), reverse = True)\n",
    "df_feature_importances = pd.DataFrame(sorted_feature_importances, columns = ['Feature Importance','Feature Name'])\n",
    "df_feature_importances.set_index('Feature Name')"
   ]
  },
  {
   "cell_type": "markdown",
   "metadata": {},
   "source": [
    "As indicated in the prompt, gage_height is a very powerful predictor for flow. Also as illustrated, hour of day was a very strong predictor as well."
   ]
  },
  {
   "cell_type": "code",
   "execution_count": 109,
   "metadata": {},
   "outputs": [
    {
     "data": {
      "image/png": "[encoded data removed]",
      "text/plain": [
       "<Figure size 432x288 with 1 Axes>"
      ]
     },
     "metadata": {
      "needs_background": "light"
     },
     "output_type": "display_data"
    }
   ],
   "source": [
    "importances = model.feature_importances_\n",
    "importances[::-1].sort()\n",
    "indices = np.argsort(importances)[::-1]\n",
    "cum_var = [importances[:x+1].sum() for x in range(len(importances))]\n",
    "plt.figure(figsize = (6,4))\n",
    "plt.title(\"Feature Importance\")\n",
    "plt.bar(range(X.shape[1]), importances[indices])\n",
    "plt.xticks(range(X.shape[1]), df_feature_importances['Feature Name'], rotation=90)\n",
    "plt.plot(cum_var, c = 'orange')\n",
    "plt.ylabel('Proportial Model Variance Explained')\n",
    "plt.axhline(0.9, c = 'red', linestyle = 'dotted')\n",
    "plt.grid()\n",
    "plt.legend(labels = ['Cumulative Feature Importance'], loc = 'center right')\n",
    "plt.show()"
   ]
  },
  {
   "cell_type": "markdown",
   "metadata": {},
   "source": [
    "The top 8 features capture >90% of the explained variability in the model. If the client desires a simpler model, the other models could easily be removed without losing too much predictive power."
   ]
  },
  {
   "cell_type": "code",
   "execution_count": 101,
   "metadata": {},
   "outputs": [
    {
     "data": {
      "image/png": "[encoded data removed]",
      "text/plain": [
       "<Figure size 432x288 with 1 Axes>"
      ]
     },
     "metadata": {
      "needs_background": "light"
     },
     "output_type": "display_data"
    }
   ],
   "source": [
    "#Example predictions:\n",
    "next_500_preds = model.predict(X_val[0:500])\n",
    "next_500_actual = y_val[0:500]\n",
    "\n",
    "plt.figure(figsize = (6,4))\n",
    "for vals in [next_100_preds, next_100_actual]:\n",
    "    plt.plot(range(len(vals)), vals, alpha = 0.7)\n",
    "    \n",
    "plt.legend(labels = ['Predicted Flow', 'Acutal Flow'])\n",
    "plt.title(str(y_val.index[0])[:-6] + ' GMT +500hrs of Predicted vs Actual Flow (MGD)')\n",
    "plt.xlabel('Hour')\n",
    "plt.ylabel('Flow (MGD)')\n",
    "plt.grid()\n",
    "plt.show()"
   ]
  },
  {
   "cell_type": "markdown",
   "metadata": {},
   "source": [
    "The model predicts the general rise/fall trends well but could do much better in terms of capturing the magnitude of valleys and peaks. The model could do much better in capturing the noise in the data."
   ]
  }
 ],
 "metadata": {
  "kernelspec": {
   "display_name": "Python 3",
   "language": "python",
   "name": "python3"
  },
  "language_info": {
   "codemirror_mode": {
    "name": "ipython",
    "version": 3
   },
   "file_extension": ".py",
   "mimetype": "text/x-python",
   "name": "python",
   "nbconvert_exporter": "python",
   "pygments_lexer": "ipython3",
   "version": "3.7.3"
  }
 },
 "nbformat": 4,
 "nbformat_minor": 2
}
