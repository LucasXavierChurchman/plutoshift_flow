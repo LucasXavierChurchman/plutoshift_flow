{
 "cells": [
  {
   "cell_type": "code",
   "execution_count": 228,
   "metadata": {},
   "outputs": [],
   "source": [
    "import os\n",
    "import numpy as np\n",
    "import pandas as pd\n",
    "import matplotlib.pyplot as plt\n",
    "from datetime import datetime, timedelta\n",
    "from fastai.tabular import add_datepart"
   ]
  },
  {
   "cell_type": "markdown",
   "metadata": {},
   "source": [
    "### Loading datasets, feature engineering"
   ]
  },
  {
   "cell_type": "code",
   "execution_count": 4,
   "metadata": {},
   "outputs": [
    {
     "name": "stdout",
     "output_type": "stream",
     "text": [
      "These are the datasets available: \n",
      " ['usgs_san_francisquito.txt', 'usgs_data.csv', 'influent_flow.csv', 'weather.csv']\n"
     ]
    }
   ],
   "source": [
    "print('These are the datasets available: \\n', os.listdir('flow data/flow data'))\n",
    "#Note: the usgs_data.csv is just the table from usgs_san_francisquito.txt"
   ]
  },
  {
   "cell_type": "code",
   "execution_count": 5,
   "metadata": {},
   "outputs": [
    {
     "name": "stdout",
     "output_type": "stream",
     "text": [
      "Rows:  34516 \n",
      "Columns:  2\n",
      "<class 'pandas.core.frame.DataFrame'>\n",
      "RangeIndex: 34516 entries, 0 to 34515\n",
      "Data columns (total 2 columns):\n",
      "Date        34516 non-null object\n",
      "INF_FLOW    34516 non-null float64\n",
      "dtypes: float64(1), object(1)\n",
      "memory usage: 539.4+ KB\n",
      "None\n"
     ]
    },
    {
     "data": {
      "text/html": [
       "<div>\n",
       "<style scoped>\n",
       "    .dataframe tbody tr th:only-of-type {\n",
       "        vertical-align: middle;\n",
       "    }\n",
       "\n",
       "    .dataframe tbody tr th {\n",
       "        vertical-align: top;\n",
       "    }\n",
       "\n",
       "    .dataframe thead th {\n",
       "        text-align: right;\n",
       "    }\n",
       "</style>\n",
       "<table border=\"1\" class=\"dataframe\">\n",
       "  <thead>\n",
       "    <tr style=\"text-align: right;\">\n",
       "      <th></th>\n",
       "      <th>Date</th>\n",
       "      <th>INF_FLOW</th>\n",
       "    </tr>\n",
       "  </thead>\n",
       "  <tbody>\n",
       "    <tr>\n",
       "      <th>0</th>\n",
       "      <td>2013-01-15 00:00:00</td>\n",
       "      <td>9.589273</td>\n",
       "    </tr>\n",
       "    <tr>\n",
       "      <th>1</th>\n",
       "      <td>2013-01-15 01:00:00</td>\n",
       "      <td>9.272833</td>\n",
       "    </tr>\n",
       "    <tr>\n",
       "      <th>2</th>\n",
       "      <td>2013-01-15 02:00:00</td>\n",
       "      <td>8.861329</td>\n",
       "    </tr>\n",
       "    <tr>\n",
       "      <th>3</th>\n",
       "      <td>2013-01-15 03:00:00</td>\n",
       "      <td>9.193454</td>\n",
       "    </tr>\n",
       "    <tr>\n",
       "      <th>4</th>\n",
       "      <td>2013-01-15 04:00:00</td>\n",
       "      <td>9.129482</td>\n",
       "    </tr>\n",
       "  </tbody>\n",
       "</table>\n",
       "</div>"
      ],
      "text/plain": [
       "                 Date  INF_FLOW\n",
       "0 2013-01-15 00:00:00  9.589273\n",
       "1 2013-01-15 01:00:00  9.272833\n",
       "2 2013-01-15 02:00:00  8.861329\n",
       "3 2013-01-15 03:00:00  9.193454\n",
       "4 2013-01-15 04:00:00  9.129482"
      ]
     },
     "execution_count": 5,
     "metadata": {},
     "output_type": "execute_result"
    }
   ],
   "source": [
    "#Looking at influent_flow.csv table, the table containing our target\n",
    "flow = pd.read_csv('flow data/flow data/influent_flow.csv')\n",
    "print('Rows: ', flow.shape[0], '\\nColumns: ', flow.shape[1])\n",
    "print(flow.info())\n",
    "\n",
    "#Change the date column to a datetime type\n",
    "flow['Date'] = pd.to_datetime(flow['Date'])\n",
    "\n",
    "flow.head()"
   ]
  },
  {
   "cell_type": "code",
   "execution_count": 6,
   "metadata": {},
   "outputs": [
    {
     "name": "stdout",
     "output_type": "stream",
     "text": [
      "Rows:  44784 \n",
      "Columns:  8\n",
      "<class 'pandas.core.frame.DataFrame'>\n",
      "RangeIndex: 44784 entries, 0 to 44783\n",
      "Data columns (total 8 columns):\n",
      "Date               44784 non-null object\n",
      "rain               44784 non-null float64\n",
      "snow               44784 non-null float64\n",
      "accum              44784 non-null float64\n",
      "temp               44784 non-null float64\n",
      "humidity           44784 non-null float64\n",
      "cloud              44784 non-null float64\n",
      "app_temperature    44784 non-null float64\n",
      "dtypes: float64(7), object(1)\n",
      "memory usage: 2.7+ MB\n",
      "None\n"
     ]
    },
    {
     "data": {
      "text/html": [
       "<div>\n",
       "<style scoped>\n",
       "    .dataframe tbody tr th:only-of-type {\n",
       "        vertical-align: middle;\n",
       "    }\n",
       "\n",
       "    .dataframe tbody tr th {\n",
       "        vertical-align: top;\n",
       "    }\n",
       "\n",
       "    .dataframe thead th {\n",
       "        text-align: right;\n",
       "    }\n",
       "</style>\n",
       "<table border=\"1\" class=\"dataframe\">\n",
       "  <thead>\n",
       "    <tr style=\"text-align: right;\">\n",
       "      <th></th>\n",
       "      <th>Date</th>\n",
       "      <th>rain</th>\n",
       "      <th>snow</th>\n",
       "      <th>accum</th>\n",
       "      <th>temp</th>\n",
       "      <th>humidity</th>\n",
       "      <th>cloud</th>\n",
       "      <th>app_temperature</th>\n",
       "    </tr>\n",
       "  </thead>\n",
       "  <tbody>\n",
       "    <tr>\n",
       "      <th>0</th>\n",
       "      <td>2012-12-15 08:00:00</td>\n",
       "      <td>0.0</td>\n",
       "      <td>0.0</td>\n",
       "      <td>0.0</td>\n",
       "      <td>5.95</td>\n",
       "      <td>0.89</td>\n",
       "      <td>0.08</td>\n",
       "      <td>5.95</td>\n",
       "    </tr>\n",
       "    <tr>\n",
       "      <th>1</th>\n",
       "      <td>2012-12-15 09:00:00</td>\n",
       "      <td>0.0</td>\n",
       "      <td>0.0</td>\n",
       "      <td>0.0</td>\n",
       "      <td>5.66</td>\n",
       "      <td>0.92</td>\n",
       "      <td>0.09</td>\n",
       "      <td>5.66</td>\n",
       "    </tr>\n",
       "    <tr>\n",
       "      <th>2</th>\n",
       "      <td>2012-12-15 10:00:00</td>\n",
       "      <td>0.0</td>\n",
       "      <td>0.0</td>\n",
       "      <td>0.0</td>\n",
       "      <td>5.46</td>\n",
       "      <td>0.91</td>\n",
       "      <td>0.09</td>\n",
       "      <td>5.46</td>\n",
       "    </tr>\n",
       "    <tr>\n",
       "      <th>3</th>\n",
       "      <td>2012-12-15 11:00:00</td>\n",
       "      <td>0.0</td>\n",
       "      <td>0.0</td>\n",
       "      <td>0.0</td>\n",
       "      <td>4.82</td>\n",
       "      <td>0.92</td>\n",
       "      <td>0.06</td>\n",
       "      <td>4.82</td>\n",
       "    </tr>\n",
       "    <tr>\n",
       "      <th>4</th>\n",
       "      <td>2012-12-15 12:00:00</td>\n",
       "      <td>0.0</td>\n",
       "      <td>0.0</td>\n",
       "      <td>0.0</td>\n",
       "      <td>4.61</td>\n",
       "      <td>0.93</td>\n",
       "      <td>0.03</td>\n",
       "      <td>4.61</td>\n",
       "    </tr>\n",
       "  </tbody>\n",
       "</table>\n",
       "</div>"
      ],
      "text/plain": [
       "                 Date  rain  snow  accum  temp  humidity  cloud  \\\n",
       "0 2012-12-15 08:00:00   0.0   0.0    0.0  5.95      0.89   0.08   \n",
       "1 2012-12-15 09:00:00   0.0   0.0    0.0  5.66      0.92   0.09   \n",
       "2 2012-12-15 10:00:00   0.0   0.0    0.0  5.46      0.91   0.09   \n",
       "3 2012-12-15 11:00:00   0.0   0.0    0.0  4.82      0.92   0.06   \n",
       "4 2012-12-15 12:00:00   0.0   0.0    0.0  4.61      0.93   0.03   \n",
       "\n",
       "   app_temperature  \n",
       "0             5.95  \n",
       "1             5.66  \n",
       "2             5.46  \n",
       "3             4.82  \n",
       "4             4.61  "
      ]
     },
     "execution_count": 6,
     "metadata": {},
     "output_type": "execute_result"
    }
   ],
   "source": [
    "#Looking at weather table\n",
    "weather = pd.read_csv('flow data/flow data/weather.csv')\n",
    "print('Rows: ', weather.shape[0], '\\nColumns: ', weather.shape[1])\n",
    "print(weather.info())\n",
    "\n",
    "#Change the date column to a datetime type\n",
    "weather['Date'] = pd.to_datetime(weather['Date'])\n",
    "\n",
    "weather.head()"
   ]
  },
  {
   "cell_type": "code",
   "execution_count": 18,
   "metadata": {},
   "outputs": [
    {
     "name": "stdout",
     "output_type": "stream",
     "text": [
      "Rows:  178896 \n",
      "Columns:  8\n",
      "<class 'pandas.core.frame.DataFrame'>\n",
      "RangeIndex: 178896 entries, 0 to 178895\n",
      "Data columns (total 8 columns):\n",
      "agency_cd         178896 non-null object\n",
      "site_no           178896 non-null object\n",
      "datetime          178896 non-null object\n",
      "tz_cd             178896 non-null object\n",
      "14747_00060       178676 non-null object\n",
      "14747_00060_cd    178676 non-null object\n",
      "14748_00065       178761 non-null object\n",
      "14748_00065_cd    178761 non-null object\n",
      "dtypes: object(8)\n",
      "memory usage: 10.9+ MB\n",
      "None\n"
     ]
    },
    {
     "data": {
      "text/html": [
       "<div>\n",
       "<style scoped>\n",
       "    .dataframe tbody tr th:only-of-type {\n",
       "        vertical-align: middle;\n",
       "    }\n",
       "\n",
       "    .dataframe tbody tr th {\n",
       "        vertical-align: top;\n",
       "    }\n",
       "\n",
       "    .dataframe thead th {\n",
       "        text-align: right;\n",
       "    }\n",
       "</style>\n",
       "<table border=\"1\" class=\"dataframe\">\n",
       "  <thead>\n",
       "    <tr style=\"text-align: right;\">\n",
       "      <th></th>\n",
       "      <th>agency_cd</th>\n",
       "      <th>site_no</th>\n",
       "      <th>Date</th>\n",
       "      <th>tz_cd</th>\n",
       "      <th>discharge</th>\n",
       "      <th>discharge_cd</th>\n",
       "      <th>gage_height</th>\n",
       "      <th>gage_height_cd</th>\n",
       "    </tr>\n",
       "  </thead>\n",
       "  <tbody>\n",
       "    <tr>\n",
       "      <th>1</th>\n",
       "      <td>USGS</td>\n",
       "      <td>11164500</td>\n",
       "      <td>2013-01-01 00:00:00</td>\n",
       "      <td>PST</td>\n",
       "      <td>44.1</td>\n",
       "      <td>A</td>\n",
       "      <td>1.27</td>\n",
       "      <td>A</td>\n",
       "    </tr>\n",
       "    <tr>\n",
       "      <th>2</th>\n",
       "      <td>USGS</td>\n",
       "      <td>11164500</td>\n",
       "      <td>2013-01-01 00:15:00</td>\n",
       "      <td>PST</td>\n",
       "      <td>44.1</td>\n",
       "      <td>A</td>\n",
       "      <td>1.27</td>\n",
       "      <td>A</td>\n",
       "    </tr>\n",
       "    <tr>\n",
       "      <th>3</th>\n",
       "      <td>USGS</td>\n",
       "      <td>11164500</td>\n",
       "      <td>2013-01-01 00:30:00</td>\n",
       "      <td>PST</td>\n",
       "      <td>44.1</td>\n",
       "      <td>A</td>\n",
       "      <td>1.27</td>\n",
       "      <td>A</td>\n",
       "    </tr>\n",
       "    <tr>\n",
       "      <th>4</th>\n",
       "      <td>USGS</td>\n",
       "      <td>11164500</td>\n",
       "      <td>2013-01-01 00:45:00</td>\n",
       "      <td>PST</td>\n",
       "      <td>43.2</td>\n",
       "      <td>A</td>\n",
       "      <td>1.26</td>\n",
       "      <td>A</td>\n",
       "    </tr>\n",
       "    <tr>\n",
       "      <th>5</th>\n",
       "      <td>USGS</td>\n",
       "      <td>11164500</td>\n",
       "      <td>2013-01-01 01:00:00</td>\n",
       "      <td>PST</td>\n",
       "      <td>43.2</td>\n",
       "      <td>A</td>\n",
       "      <td>1.26</td>\n",
       "      <td>A</td>\n",
       "    </tr>\n",
       "  </tbody>\n",
       "</table>\n",
       "</div>"
      ],
      "text/plain": [
       "  agency_cd   site_no                Date tz_cd discharge discharge_cd  \\\n",
       "1      USGS  11164500 2013-01-01 00:00:00   PST      44.1            A   \n",
       "2      USGS  11164500 2013-01-01 00:15:00   PST      44.1            A   \n",
       "3      USGS  11164500 2013-01-01 00:30:00   PST      44.1            A   \n",
       "4      USGS  11164500 2013-01-01 00:45:00   PST      43.2            A   \n",
       "5      USGS  11164500 2013-01-01 01:00:00   PST      43.2            A   \n",
       "\n",
       "  gage_height gage_height_cd  \n",
       "1        1.27              A  \n",
       "2        1.27              A  \n",
       "3        1.27              A  \n",
       "4        1.26              A  \n",
       "5        1.26              A  "
      ]
     },
     "execution_count": 18,
     "metadata": {},
     "output_type": "execute_result"
    }
   ],
   "source": [
    "#Looking at usgs_san_francisuito.txt table\n",
    "usgs = pd.read_csv('flow data/flow data/usgs_data.csv', sep = '\\t', low_memory = False)\n",
    "print('Rows: ', usgs.shape[0], '\\nColumns: ',usgs.shape[1])\n",
    "print(usgs.info()) #Looks like we have some missing values in the last 4 columns\n",
    "\n",
    "#get rid of row 0 (indicating datatype and length for each column)\n",
    "usgs.drop(0, inplace= True)\n",
    "\n",
    "#Change the date column to a datetime for this table as well\n",
    "usgs['datetime'] = pd.to_datetime(usgs['datetime'])\n",
    "\n",
    "#The original usgs text file indicates the 14747_00060 and 14748_0065 columns \n",
    "#indicate discharge and gage height. Lets change the name of those columns\n",
    "#and their corresponding qualification codes. Let's also rename the 'datetime'\n",
    "#to 'Date' to be consitent with the other tables\n",
    "\n",
    "usgs.rename(columns = {'14747_00060': 'discharge', \n",
    "            '14747_00060_cd': 'discharge_cd',\n",
    "            '14748_00065' : 'gage_height',\n",
    "            '14748_00065_cd' : 'gage_height_cd',\n",
    "            'datetime' : 'Date'},\n",
    "           inplace = True)\n",
    "\n",
    "usgs.head()"
   ]
  },
  {
   "cell_type": "code",
   "execution_count": 19,
   "metadata": {},
   "outputs": [
    {
     "name": "stdout",
     "output_type": "stream",
     "text": [
      "['A' nan 'P:e' 'A:e' 'P'] ['A' nan 'P']\n",
      "(12567, 8)\n"
     ]
    }
   ],
   "source": [
    "# Was just curious to see how much non-publication-reviewed data there is\n",
    "print(usgs.discharge_cd.unique(), usgs.gage_height_cd.unique())\n",
    "print(usgs[(usgs['discharge_cd'] !='A') | (usgs['gage_height_cd'] != 'A')].shape)"
   ]
  },
  {
   "cell_type": "markdown",
   "metadata": {},
   "source": [
    "Now that the 3 dataframes have been cleaned up a bit lets merge them together by date"
   ]
  },
  {
   "cell_type": "code",
   "execution_count": 201,
   "metadata": {},
   "outputs": [
    {
     "name": "stdout",
     "output_type": "stream",
     "text": [
      "<class 'pandas.core.frame.DataFrame'>\n",
      "DatetimeIndex: 34324 entries, 2013-01-15 00:00:00 to 2016-12-22 14:00:00\n",
      "Data columns (total 15 columns):\n",
      "INF_FLOW           34324 non-null float64\n",
      "rain               34324 non-null float64\n",
      "snow               34324 non-null float64\n",
      "accum              34324 non-null float64\n",
      "temp               34324 non-null float64\n",
      "humidity           34324 non-null float64\n",
      "cloud              34324 non-null float64\n",
      "app_temperature    34324 non-null float64\n",
      "agency_cd          34324 non-null object\n",
      "site_no            34324 non-null object\n",
      "tz_cd              34324 non-null object\n",
      "discharge          34269 non-null object\n",
      "discharge_cd       34269 non-null object\n",
      "gage_height        34323 non-null object\n",
      "gage_height_cd     34323 non-null object\n",
      "dtypes: float64(8), object(7)\n",
      "memory usage: 4.2+ MB\n",
      "None\n"
     ]
    }
   ],
   "source": [
    "df = flow.merge(weather)\n",
    "df = df.merge(usgs)\n",
    "df.set_index('Date', inplace = True)\n",
    "print(df.info())"
   ]
  },
  {
   "cell_type": "code",
   "execution_count": 202,
   "metadata": {},
   "outputs": [
    {
     "name": "stdout",
     "output_type": "stream",
     "text": [
      "<class 'pandas.core.frame.DataFrame'>\n",
      "DatetimeIndex: 34268 entries, 2013-01-15 00:00:00 to 2016-12-22 14:00:00\n",
      "Data columns (total 15 columns):\n",
      "INF_FLOW           34268 non-null float64\n",
      "rain               34268 non-null float64\n",
      "snow               34268 non-null float64\n",
      "accum              34268 non-null float64\n",
      "temp               34268 non-null float64\n",
      "humidity           34268 non-null float64\n",
      "cloud              34268 non-null float64\n",
      "app_temperature    34268 non-null float64\n",
      "agency_cd          34268 non-null object\n",
      "site_no            34268 non-null object\n",
      "tz_cd              34268 non-null object\n",
      "discharge          34268 non-null object\n",
      "discharge_cd       34268 non-null object\n",
      "gage_height        34268 non-null object\n",
      "gage_height_cd     34268 non-null object\n",
      "dtypes: float64(8), object(7)\n",
      "memory usage: 4.2+ MB\n",
      "None\n"
     ]
    }
   ],
   "source": [
    "# Since we have a relatively small amount of null values I'll assume it's okay to drop \n",
    "# those rows for now rather than try to impute their values. Even if there's an MAR or\n",
    "# MNAR effect happening, the data with missing values likely wont have a meaningful impact \n",
    "# on the results given these rows consist of <0.2% of the data. This decision is subject to \n",
    "# change with more knowledege about the data\n",
    "\n",
    "df.dropna(inplace = True)\n",
    "print(df.info())"
   ]
  },
  {
   "cell_type": "code",
   "execution_count": 203,
   "metadata": {},
   "outputs": [
    {
     "name": "stdout",
     "output_type": "stream",
     "text": [
      "['A' nan 'P:e' 'A:e' 'P'] ['A' nan 'P']\n"
     ]
    }
   ],
   "source": [
    "#Interestingly, after dropping null values removes all rows without approved discharge\n",
    "#and gage data\n",
    "\n",
    "print(usgs.discharge_cd.unique(), usgs.gage_height_cd.unique())"
   ]
  },
  {
   "cell_type": "code",
   "execution_count": 204,
   "metadata": {},
   "outputs": [
    {
     "name": "stdout",
     "output_type": "stream",
     "text": [
      "Column name: \t ['snow', 'accum', 'agency_cd', 'site_no', 'discharge_cd', 'gage_height_cd'] \n",
      "Unique Value\t [0.0, 0.0, 'USGS', '11164500', 'A', 'A']\n"
     ]
    }
   ],
   "source": [
    "#Check for rows with only one value. They won't have an effect and are simply taking up space\n",
    "unique_value_cols = [col for col in df.columns if df[col].unique().size == 1]\n",
    "unique_value = [df[col].unique()[0] for col in df.columns if df[col].unique().size == 1]\n",
    "print('Column name: \\t' ,unique_value_cols,'\\nUnique Value\\t', unique_value)"
   ]
  },
  {
   "cell_type": "code",
   "execution_count": 205,
   "metadata": {},
   "outputs": [
    {
     "data": {
      "text/html": [
       "<div>\n",
       "<style scoped>\n",
       "    .dataframe tbody tr th:only-of-type {\n",
       "        vertical-align: middle;\n",
       "    }\n",
       "\n",
       "    .dataframe tbody tr th {\n",
       "        vertical-align: top;\n",
       "    }\n",
       "\n",
       "    .dataframe thead th {\n",
       "        text-align: right;\n",
       "    }\n",
       "</style>\n",
       "<table border=\"1\" class=\"dataframe\">\n",
       "  <thead>\n",
       "    <tr style=\"text-align: right;\">\n",
       "      <th></th>\n",
       "      <th>INF_FLOW</th>\n",
       "      <th>rain</th>\n",
       "      <th>temp</th>\n",
       "      <th>humidity</th>\n",
       "      <th>cloud</th>\n",
       "      <th>app_temperature</th>\n",
       "      <th>tz_cd</th>\n",
       "      <th>discharge</th>\n",
       "      <th>gage_height</th>\n",
       "    </tr>\n",
       "    <tr>\n",
       "      <th>Date</th>\n",
       "      <th></th>\n",
       "      <th></th>\n",
       "      <th></th>\n",
       "      <th></th>\n",
       "      <th></th>\n",
       "      <th></th>\n",
       "      <th></th>\n",
       "      <th></th>\n",
       "      <th></th>\n",
       "    </tr>\n",
       "  </thead>\n",
       "  <tbody>\n",
       "    <tr>\n",
       "      <th>2013-01-15 00:00:00</th>\n",
       "      <td>9.589273</td>\n",
       "      <td>0.0</td>\n",
       "      <td>10.19</td>\n",
       "      <td>0.26</td>\n",
       "      <td>0.04</td>\n",
       "      <td>10.19</td>\n",
       "      <td>PST</td>\n",
       "      <td>17.1</td>\n",
       "      <td>0.86</td>\n",
       "    </tr>\n",
       "    <tr>\n",
       "      <th>2013-01-15 01:00:00</th>\n",
       "      <td>9.272833</td>\n",
       "      <td>0.0</td>\n",
       "      <td>9.76</td>\n",
       "      <td>0.31</td>\n",
       "      <td>0.18</td>\n",
       "      <td>9.76</td>\n",
       "      <td>PST</td>\n",
       "      <td>17.1</td>\n",
       "      <td>0.86</td>\n",
       "    </tr>\n",
       "    <tr>\n",
       "      <th>2013-01-15 02:00:00</th>\n",
       "      <td>8.861329</td>\n",
       "      <td>0.0</td>\n",
       "      <td>7.80</td>\n",
       "      <td>0.36</td>\n",
       "      <td>0.07</td>\n",
       "      <td>6.92</td>\n",
       "      <td>PST</td>\n",
       "      <td>17.1</td>\n",
       "      <td>0.86</td>\n",
       "    </tr>\n",
       "    <tr>\n",
       "      <th>2013-01-15 03:00:00</th>\n",
       "      <td>9.193454</td>\n",
       "      <td>0.0</td>\n",
       "      <td>6.52</td>\n",
       "      <td>0.43</td>\n",
       "      <td>0.03</td>\n",
       "      <td>6.52</td>\n",
       "      <td>PST</td>\n",
       "      <td>17.1</td>\n",
       "      <td>0.86</td>\n",
       "    </tr>\n",
       "    <tr>\n",
       "      <th>2013-01-15 04:00:00</th>\n",
       "      <td>9.129482</td>\n",
       "      <td>0.0</td>\n",
       "      <td>5.69</td>\n",
       "      <td>0.48</td>\n",
       "      <td>0.03</td>\n",
       "      <td>5.69</td>\n",
       "      <td>PST</td>\n",
       "      <td>16.7</td>\n",
       "      <td>0.85</td>\n",
       "    </tr>\n",
       "  </tbody>\n",
       "</table>\n",
       "</div>"
      ],
      "text/plain": [
       "                     INF_FLOW  rain   temp  humidity  cloud  app_temperature  \\\n",
       "Date                                                                           \n",
       "2013-01-15 00:00:00  9.589273   0.0  10.19      0.26   0.04            10.19   \n",
       "2013-01-15 01:00:00  9.272833   0.0   9.76      0.31   0.18             9.76   \n",
       "2013-01-15 02:00:00  8.861329   0.0   7.80      0.36   0.07             6.92   \n",
       "2013-01-15 03:00:00  9.193454   0.0   6.52      0.43   0.03             6.52   \n",
       "2013-01-15 04:00:00  9.129482   0.0   5.69      0.48   0.03             5.69   \n",
       "\n",
       "                    tz_cd discharge gage_height  \n",
       "Date                                             \n",
       "2013-01-15 00:00:00   PST      17.1        0.86  \n",
       "2013-01-15 01:00:00   PST      17.1        0.86  \n",
       "2013-01-15 02:00:00   PST      17.1        0.86  \n",
       "2013-01-15 03:00:00   PST      17.1        0.86  \n",
       "2013-01-15 04:00:00   PST      16.7        0.85  "
      ]
     },
     "execution_count": 205,
     "metadata": {},
     "output_type": "execute_result"
    }
   ],
   "source": [
    "#Drop those rows\n",
    "df.drop(unique_value_cols, axis = 1, inplace = True)\n",
    "df.head()"
   ]
  },
  {
   "cell_type": "code",
   "execution_count": 206,
   "metadata": {},
   "outputs": [
    {
     "data": {
      "text/html": [
       "<div>\n",
       "<style scoped>\n",
       "    .dataframe tbody tr th:only-of-type {\n",
       "        vertical-align: middle;\n",
       "    }\n",
       "\n",
       "    .dataframe tbody tr th {\n",
       "        vertical-align: top;\n",
       "    }\n",
       "\n",
       "    .dataframe thead th {\n",
       "        text-align: right;\n",
       "    }\n",
       "</style>\n",
       "<table border=\"1\" class=\"dataframe\">\n",
       "  <thead>\n",
       "    <tr style=\"text-align: right;\">\n",
       "      <th></th>\n",
       "      <th>INF_FLOW</th>\n",
       "      <th>rain</th>\n",
       "      <th>temp</th>\n",
       "      <th>humidity</th>\n",
       "      <th>cloud</th>\n",
       "      <th>app_temperature</th>\n",
       "      <th>tz_cd</th>\n",
       "      <th>discharge</th>\n",
       "      <th>gage_height</th>\n",
       "    </tr>\n",
       "    <tr>\n",
       "      <th>Date</th>\n",
       "      <th></th>\n",
       "      <th></th>\n",
       "      <th></th>\n",
       "      <th></th>\n",
       "      <th></th>\n",
       "      <th></th>\n",
       "      <th></th>\n",
       "      <th></th>\n",
       "      <th></th>\n",
       "    </tr>\n",
       "  </thead>\n",
       "  <tbody>\n",
       "    <tr>\n",
       "      <th>2013-03-10 00:00:00</th>\n",
       "      <td>9.423984</td>\n",
       "      <td>0.0</td>\n",
       "      <td>16.93</td>\n",
       "      <td>0.50</td>\n",
       "      <td>0.04</td>\n",
       "      <td>16.93</td>\n",
       "      <td>PST</td>\n",
       "      <td>6.06</td>\n",
       "      <td>0.59</td>\n",
       "    </tr>\n",
       "    <tr>\n",
       "      <th>2013-03-10 01:00:00</th>\n",
       "      <td>9.097989</td>\n",
       "      <td>0.0</td>\n",
       "      <td>17.06</td>\n",
       "      <td>0.52</td>\n",
       "      <td>0.03</td>\n",
       "      <td>17.06</td>\n",
       "      <td>PST</td>\n",
       "      <td>6.06</td>\n",
       "      <td>0.59</td>\n",
       "    </tr>\n",
       "    <tr>\n",
       "      <th>2013-03-10 03:00:00</th>\n",
       "      <td>8.230157</td>\n",
       "      <td>0.0</td>\n",
       "      <td>13.42</td>\n",
       "      <td>0.71</td>\n",
       "      <td>0.04</td>\n",
       "      <td>13.42</td>\n",
       "      <td>PDT</td>\n",
       "      <td>5.80</td>\n",
       "      <td>0.58</td>\n",
       "    </tr>\n",
       "    <tr>\n",
       "      <th>2013-03-10 04:00:00</th>\n",
       "      <td>7.811428</td>\n",
       "      <td>0.0</td>\n",
       "      <td>11.70</td>\n",
       "      <td>0.72</td>\n",
       "      <td>0.00</td>\n",
       "      <td>11.70</td>\n",
       "      <td>PDT</td>\n",
       "      <td>5.80</td>\n",
       "      <td>0.58</td>\n",
       "    </tr>\n",
       "    <tr>\n",
       "      <th>2013-03-10 05:00:00</th>\n",
       "      <td>7.814624</td>\n",
       "      <td>0.0</td>\n",
       "      <td>10.78</td>\n",
       "      <td>0.75</td>\n",
       "      <td>0.00</td>\n",
       "      <td>10.78</td>\n",
       "      <td>PDT</td>\n",
       "      <td>5.80</td>\n",
       "      <td>0.58</td>\n",
       "    </tr>\n",
       "  </tbody>\n",
       "</table>\n",
       "</div>"
      ],
      "text/plain": [
       "                     INF_FLOW  rain   temp  humidity  cloud  app_temperature  \\\n",
       "Date                                                                           \n",
       "2013-03-10 00:00:00  9.423984   0.0  16.93      0.50   0.04            16.93   \n",
       "2013-03-10 01:00:00  9.097989   0.0  17.06      0.52   0.03            17.06   \n",
       "2013-03-10 03:00:00  8.230157   0.0  13.42      0.71   0.04            13.42   \n",
       "2013-03-10 04:00:00  7.811428   0.0  11.70      0.72   0.00            11.70   \n",
       "2013-03-10 05:00:00  7.814624   0.0  10.78      0.75   0.00            10.78   \n",
       "\n",
       "                    tz_cd discharge gage_height  \n",
       "Date                                             \n",
       "2013-03-10 00:00:00   PST      6.06        0.59  \n",
       "2013-03-10 01:00:00   PST      6.06        0.59  \n",
       "2013-03-10 03:00:00   PDT      5.80        0.58  \n",
       "2013-03-10 04:00:00   PDT      5.80        0.58  \n",
       "2013-03-10 05:00:00   PDT      5.80        0.58  "
      ]
     },
     "execution_count": 206,
     "metadata": {},
     "output_type": "execute_result"
    }
   ],
   "source": [
    "# Here I took notice of the tz_cd had 2 values, because of daylight savings. Just to be \n",
    "#thorough, we'll take care of this by converting to GMT time\n",
    "\n",
    "df.loc['2013-03-10 00:00:00':'2013-03-10 05:00:00'] #<- to show DST occuring"
   ]
  },
  {
   "cell_type": "code",
   "execution_count": 207,
   "metadata": {},
   "outputs": [],
   "source": [
    "#Drop the timezone column\n",
    "df.drop('tz_cd', axis = 1, inplace = True)"
   ]
  },
  {
   "cell_type": "code",
   "execution_count": 208,
   "metadata": {},
   "outputs": [],
   "source": [
    "#Preserve local dattime in new column incase it's needed later.\n",
    "df['Date_local'] =  df.index"
   ]
  },
  {
   "cell_type": "code",
   "execution_count": 209,
   "metadata": {},
   "outputs": [
    {
     "data": {
      "text/html": [
       "<div>\n",
       "<style scoped>\n",
       "    .dataframe tbody tr th:only-of-type {\n",
       "        vertical-align: middle;\n",
       "    }\n",
       "\n",
       "    .dataframe tbody tr th {\n",
       "        vertical-align: top;\n",
       "    }\n",
       "\n",
       "    .dataframe thead th {\n",
       "        text-align: right;\n",
       "    }\n",
       "</style>\n",
       "<table border=\"1\" class=\"dataframe\">\n",
       "  <thead>\n",
       "    <tr style=\"text-align: right;\">\n",
       "      <th></th>\n",
       "      <th>INF_FLOW</th>\n",
       "      <th>rain</th>\n",
       "      <th>temp</th>\n",
       "      <th>humidity</th>\n",
       "      <th>cloud</th>\n",
       "      <th>app_temperature</th>\n",
       "      <th>discharge</th>\n",
       "      <th>gage_height</th>\n",
       "      <th>Date_local</th>\n",
       "    </tr>\n",
       "    <tr>\n",
       "      <th>Date_GMT</th>\n",
       "      <th></th>\n",
       "      <th></th>\n",
       "      <th></th>\n",
       "      <th></th>\n",
       "      <th></th>\n",
       "      <th></th>\n",
       "      <th></th>\n",
       "      <th></th>\n",
       "      <th></th>\n",
       "    </tr>\n",
       "  </thead>\n",
       "  <tbody>\n",
       "    <tr>\n",
       "      <th>2013-03-10 00:00:00+00:00</th>\n",
       "      <td>9.423984</td>\n",
       "      <td>0.0</td>\n",
       "      <td>16.93</td>\n",
       "      <td>0.50</td>\n",
       "      <td>0.04</td>\n",
       "      <td>16.93</td>\n",
       "      <td>6.06</td>\n",
       "      <td>0.59</td>\n",
       "      <td>2013-03-10 00:00:00</td>\n",
       "    </tr>\n",
       "    <tr>\n",
       "      <th>2013-03-10 01:00:00+00:00</th>\n",
       "      <td>9.097989</td>\n",
       "      <td>0.0</td>\n",
       "      <td>17.06</td>\n",
       "      <td>0.52</td>\n",
       "      <td>0.03</td>\n",
       "      <td>17.06</td>\n",
       "      <td>6.06</td>\n",
       "      <td>0.59</td>\n",
       "      <td>2013-03-10 01:00:00</td>\n",
       "    </tr>\n",
       "    <tr>\n",
       "      <th>2013-03-10 02:00:00+00:00</th>\n",
       "      <td>8.230157</td>\n",
       "      <td>0.0</td>\n",
       "      <td>13.42</td>\n",
       "      <td>0.71</td>\n",
       "      <td>0.04</td>\n",
       "      <td>13.42</td>\n",
       "      <td>5.80</td>\n",
       "      <td>0.58</td>\n",
       "      <td>2013-03-10 03:00:00</td>\n",
       "    </tr>\n",
       "    <tr>\n",
       "      <th>2013-03-10 03:00:00+00:00</th>\n",
       "      <td>7.811428</td>\n",
       "      <td>0.0</td>\n",
       "      <td>11.70</td>\n",
       "      <td>0.72</td>\n",
       "      <td>0.00</td>\n",
       "      <td>11.70</td>\n",
       "      <td>5.80</td>\n",
       "      <td>0.58</td>\n",
       "      <td>2013-03-10 04:00:00</td>\n",
       "    </tr>\n",
       "    <tr>\n",
       "      <th>2013-03-10 04:00:00+00:00</th>\n",
       "      <td>7.814624</td>\n",
       "      <td>0.0</td>\n",
       "      <td>10.78</td>\n",
       "      <td>0.75</td>\n",
       "      <td>0.00</td>\n",
       "      <td>10.78</td>\n",
       "      <td>5.80</td>\n",
       "      <td>0.58</td>\n",
       "      <td>2013-03-10 05:00:00</td>\n",
       "    </tr>\n",
       "    <tr>\n",
       "      <th>2013-03-10 05:00:00+00:00</th>\n",
       "      <td>7.510198</td>\n",
       "      <td>0.0</td>\n",
       "      <td>10.69</td>\n",
       "      <td>0.78</td>\n",
       "      <td>0.07</td>\n",
       "      <td>10.69</td>\n",
       "      <td>5.80</td>\n",
       "      <td>0.58</td>\n",
       "      <td>2013-03-10 06:00:00</td>\n",
       "    </tr>\n",
       "  </tbody>\n",
       "</table>\n",
       "</div>"
      ],
      "text/plain": [
       "                           INF_FLOW  rain   temp  humidity  cloud  \\\n",
       "Date_GMT                                                            \n",
       "2013-03-10 00:00:00+00:00  9.423984   0.0  16.93      0.50   0.04   \n",
       "2013-03-10 01:00:00+00:00  9.097989   0.0  17.06      0.52   0.03   \n",
       "2013-03-10 02:00:00+00:00  8.230157   0.0  13.42      0.71   0.04   \n",
       "2013-03-10 03:00:00+00:00  7.811428   0.0  11.70      0.72   0.00   \n",
       "2013-03-10 04:00:00+00:00  7.814624   0.0  10.78      0.75   0.00   \n",
       "2013-03-10 05:00:00+00:00  7.510198   0.0  10.69      0.78   0.07   \n",
       "\n",
       "                           app_temperature discharge gage_height  \\\n",
       "Date_GMT                                                           \n",
       "2013-03-10 00:00:00+00:00            16.93      6.06        0.59   \n",
       "2013-03-10 01:00:00+00:00            17.06      6.06        0.59   \n",
       "2013-03-10 02:00:00+00:00            13.42      5.80        0.58   \n",
       "2013-03-10 03:00:00+00:00            11.70      5.80        0.58   \n",
       "2013-03-10 04:00:00+00:00            10.78      5.80        0.58   \n",
       "2013-03-10 05:00:00+00:00            10.69      5.80        0.58   \n",
       "\n",
       "                                   Date_local  \n",
       "Date_GMT                                       \n",
       "2013-03-10 00:00:00+00:00 2013-03-10 00:00:00  \n",
       "2013-03-10 01:00:00+00:00 2013-03-10 01:00:00  \n",
       "2013-03-10 02:00:00+00:00 2013-03-10 03:00:00  \n",
       "2013-03-10 03:00:00+00:00 2013-03-10 04:00:00  \n",
       "2013-03-10 04:00:00+00:00 2013-03-10 05:00:00  \n",
       "2013-03-10 05:00:00+00:00 2013-03-10 06:00:00  "
      ]
     },
     "execution_count": 209,
     "metadata": {},
     "output_type": "execute_result"
    }
   ],
   "source": [
    "#Convert the datetime index to GMT. Can be changed later\n",
    "dti = pd.date_range(start = '2013-01-15', freq = 'H', periods = df.shape[0], tz = 'GMT')\n",
    "df.index = dti\n",
    "df.index.name = 'Date_GMT'\n",
    "df.loc['2013-03-10 00:00:00':'2013-03-10 05:00:00']"
   ]
  },
  {
   "cell_type": "code",
   "execution_count": 220,
   "metadata": {},
   "outputs": [],
   "source": [
    "#Create features for each component of the time series.\n",
    "\n",
    "# The prompt mentions the plant doesn't control the amount of flow coming in. This likely means\n",
    "# the flow is mostly caused by natural cycles. Considering this, datetime units indicating natural \n",
    "# cycles (i.e hour of day, time of year) are probably more important. We can try\n",
    "# all to be thorough and remove them later if they add no predictive power to our model for\n",
    "# better interpretability for the client\n",
    "\n",
    "df['dt_hour_of_day'] = pd.DatetimeIndex(df.index).hour\n",
    "df['dt_'] = df.index\n",
    "df = add_datepart(df, 'dt_', drop = True) #This will add most calendar date features"
   ]
  },
  {
   "cell_type": "code",
   "execution_count": 221,
   "metadata": {},
   "outputs": [
    {
     "data": {
      "text/plain": [
       "Index(['INF_FLOW', 'rain', 'temp', 'humidity', 'cloud', 'app_temperature',\n",
       "       'discharge', 'gage_height', 'Date_local', 'dt_hour_of_day', 'dt_Year',\n",
       "       'dt_Month', 'dt_Week', 'dt_Day', 'dt_Dayofweek', 'dt_Dayofyear',\n",
       "       'dt_Is_month_end', 'dt_Is_month_start', 'dt_Is_quarter_end',\n",
       "       'dt_Is_quarter_start', 'dt_Is_year_end', 'dt_Is_year_start',\n",
       "       'dt_Elapsed'],\n",
       "      dtype='object')"
      ]
     },
     "execution_count": 221,
     "metadata": {},
     "output_type": "execute_result"
    }
   ],
   "source": [
    "df.columns"
   ]
  },
  {
   "cell_type": "code",
   "execution_count": 289,
   "metadata": {},
   "outputs": [
    {
     "data": {
      "text/plain": [
       "<matplotlib.legend.Legend at 0x7f3533145da0>"
      ]
     },
     "execution_count": 289,
     "metadata": {},
     "output_type": "execute_result"
    },
    {
     "data": {
      "image/png": "[encoded data removed]",
      "text/plain": [
       "<Figure size 432x288 with 1 Axes>"
      ]
     },
     "metadata": {
      "needs_background": "light"
     },
     "output_type": "display_data"
    }
   ],
   "source": [
    "#This is interesting. Flow has an almost perfect cosine shaped trend over the course of an average day\n",
    "\n",
    "hourly_flow_trend = df.groupby(['dt_hour_of_day'])['INF_FLOW'].mean()\n",
    "x = np.arange(0,7.6*np.pi,0.1)\n",
    "y = np.cos(0.28*x)+8\n",
    "cosine_data = pd.DataFrame([y,x])\n",
    "hourly_flow_trend.plot(grid = True)\n",
    "plt.plot(x,y)\n",
    "plt.xlabel('Hour of Day')\n",
    "plt.title('Trend of Flow by Hour of Day')\n",
    "plt.ylabel('Flow (Millions of Gallons/Day)')\n",
    "plt.legend(labels = ['INF_FLOW', 'np.cos(0.28*x)+8'])"
   ]
  },
  {
   "cell_type": "markdown",
   "metadata": {},
   "source": [
    "### Model"
   ]
  },
  {
   "cell_type": "markdown",
   "metadata": {},
   "source": [
    "I decided to use a Random Forest for a few reasons:\n",
    "    1. Great at handling mixed data types\n",
    "    2. Highly interpretable. The intuition behind decision trees/random forests is easy to understand (even more \n",
    "       than linear regression or especially something like a neural network)\n",
    "    3. The .feature_importances() attribute makes it almost trivial to determine strongest predictors. The magnitude of model cofficients in linear regression can"
   ]
  },
  {
   "cell_type": "code",
   "execution_count": 454,
   "metadata": {},
   "outputs": [],
   "source": [
    "from sklearn.ensemble import RandomForestRegressor\n",
    "from sklearn.model_selection import train_test_split"
   ]
  },
  {
   "cell_type": "code",
   "execution_count": 455,
   "metadata": {},
   "outputs": [],
   "source": [
    "rfr = RandomForestRegressor(n_estimators = 100, n_jobs = -1, random_state = 42)"
   ]
  },
  {
   "cell_type": "code",
   "execution_count": 473,
   "metadata": {},
   "outputs": [],
   "source": [
    "y = df['INF_FLOW']\n",
    "X = df.drop(['INF_FLOW','hourtz'], axis = 1)"
   ]
  },
  {
   "cell_type": "code",
   "execution_count": 474,
   "metadata": {},
   "outputs": [],
   "source": [
    "X_train, X_test, y_train, y_test = train_test_split(X,y, test_size = 0.2, shuffle = True)"
   ]
  },
  {
   "cell_type": "code",
   "execution_count": 475,
   "metadata": {},
   "outputs": [
    {
     "data": {
      "text/plain": [
       "RandomForestRegressor(bootstrap=True, criterion='mse', max_depth=None,\n",
       "                      max_features='auto', max_leaf_nodes=None,\n",
       "                      min_impurity_decrease=0.0, min_impurity_split=None,\n",
       "                      min_samples_leaf=1, min_samples_split=2,\n",
       "                      min_weight_fraction_leaf=0.0, n_estimators=100, n_jobs=-1,\n",
       "                      oob_score=False, random_state=42, verbose=0,\n",
       "                      warm_start=False)"
      ]
     },
     "execution_count": 475,
     "metadata": {},
     "output_type": "execute_result"
    }
   ],
   "source": [
    "rfr.fit(X_train, y_train)"
   ]
  },
  {
   "cell_type": "code",
   "execution_count": 501,
   "metadata": {},
   "outputs": [
    {
     "name": "stdout",
     "output_type": "stream",
     "text": [
      "R^2 Training score:  0.9766408079271878\n",
      "R^2 Test score:  0.8392343817369661\n"
     ]
    }
   ],
   "source": [
    "print('R^2 Training score: ', rfr.score(X_train, y_train))\n",
    "print('R^2 Test score: ', rfr.score(X_test, y_test))"
   ]
  },
  {
   "cell_type": "code",
   "execution_count": 496,
   "metadata": {},
   "outputs": [
    {
     "data": {
      "text/html": [
       "<div>\n",
       "<style scoped>\n",
       "    .dataframe tbody tr th:only-of-type {\n",
       "        vertical-align: middle;\n",
       "    }\n",
       "\n",
       "    .dataframe tbody tr th {\n",
       "        vertical-align: top;\n",
       "    }\n",
       "\n",
       "    .dataframe thead th {\n",
       "        text-align: right;\n",
       "    }\n",
       "</style>\n",
       "<table border=\"1\" class=\"dataframe\">\n",
       "  <thead>\n",
       "    <tr style=\"text-align: right;\">\n",
       "      <th></th>\n",
       "      <th>0</th>\n",
       "      <th>1</th>\n",
       "    </tr>\n",
       "  </thead>\n",
       "  <tbody>\n",
       "    <tr>\n",
       "      <th>0</th>\n",
       "      <td>0.4179</td>\n",
       "      <td>gage_height</td>\n",
       "    </tr>\n",
       "    <tr>\n",
       "      <th>1</th>\n",
       "      <td>0.1594</td>\n",
       "      <td>discharge</td>\n",
       "    </tr>\n",
       "    <tr>\n",
       "      <th>2</th>\n",
       "      <td>0.1007</td>\n",
       "      <td>hour</td>\n",
       "    </tr>\n",
       "    <tr>\n",
       "      <th>3</th>\n",
       "      <td>0.0863</td>\n",
       "      <td>humidity</td>\n",
       "    </tr>\n",
       "    <tr>\n",
       "      <th>4</th>\n",
       "      <td>0.0661</td>\n",
       "      <td>rain</td>\n",
       "    </tr>\n",
       "    <tr>\n",
       "      <th>5</th>\n",
       "      <td>0.0352</td>\n",
       "      <td>temp</td>\n",
       "    </tr>\n",
       "    <tr>\n",
       "      <th>6</th>\n",
       "      <td>0.0338</td>\n",
       "      <td>app_temperature</td>\n",
       "    </tr>\n",
       "    <tr>\n",
       "      <th>7</th>\n",
       "      <td>0.0330</td>\n",
       "      <td>year</td>\n",
       "    </tr>\n",
       "    <tr>\n",
       "      <th>8</th>\n",
       "      <td>0.0330</td>\n",
       "      <td>dayofweek</td>\n",
       "    </tr>\n",
       "    <tr>\n",
       "      <th>9</th>\n",
       "      <td>0.0217</td>\n",
       "      <td>cloud</td>\n",
       "    </tr>\n",
       "    <tr>\n",
       "      <th>10</th>\n",
       "      <td>0.0128</td>\n",
       "      <td>quarter</td>\n",
       "    </tr>\n",
       "  </tbody>\n",
       "</table>\n",
       "</div>"
      ],
      "text/plain": [
       "         0                1\n",
       "0   0.4179      gage_height\n",
       "1   0.1594        discharge\n",
       "2   0.1007             hour\n",
       "3   0.0863         humidity\n",
       "4   0.0661             rain\n",
       "5   0.0352             temp\n",
       "6   0.0338  app_temperature\n",
       "7   0.0330             year\n",
       "8   0.0330        dayofweek\n",
       "9   0.0217            cloud\n",
       "10  0.0128          quarter"
      ]
     },
     "execution_count": 496,
     "metadata": {},
     "output_type": "execute_result"
    }
   ],
   "source": [
    "feature_importances = sorted(zip(map(lambda x: round(x,4), rfr.feature_importances_), X.columns), reverse = True)\n",
    "pd.DataFrame(feature_importances, columns = '')"
   ]
  },
  {
   "cell_type": "code",
   "execution_count": null,
   "metadata": {},
   "outputs": [],
   "source": []
  }
 ],
 "metadata": {
  "kernelspec": {
   "display_name": "Python 3",
   "language": "python",
   "name": "python3"
  },
  "language_info": {
   "codemirror_mode": {
    "name": "ipython",
    "version": 3
   },
   "file_extension": ".py",
   "mimetype": "text/x-python",
   "name": "python",
   "nbconvert_exporter": "python",
   "pygments_lexer": "ipython3",
   "version": "3.7.3"
  }
 },
 "nbformat": 4,
 "nbformat_minor": 2
}
