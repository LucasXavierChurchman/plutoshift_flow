{
 "cells": [
  {
   "cell_type": "code",
   "execution_count": 11,
   "metadata": {},
   "outputs": [],
   "source": [
    "import pandas as pd\n",
    "import os"
   ]
  },
  {
   "cell_type": "markdown",
   "metadata": {},
   "source": [
    "These are the datasets available:"
   ]
  },
  {
   "cell_type": "code",
   "execution_count": 12,
   "metadata": {},
   "outputs": [
    {
     "name": "stdout",
     "output_type": "stream",
     "text": [
      "['usgs_san_francisquito.txt', 'usgs_data.csv', 'influent_flow.csv', 'weather.csv']\n"
     ]
    }
   ],
   "source": [
    "print(os.listdir('flow data/flow data'))"
   ]
  },
  {
   "cell_type": "markdown",
   "metadata": {},
   "source": [
    "The usgs_data.csv is just the table from usgs_san_francisquito.txt"
   ]
  },
  {
   "cell_type": "markdown",
   "metadata": {},
   "source": [
    "Let's take a look at each dataset and see if any cleaning/manipulation needs to be done"
   ]
  },
  {
   "cell_type": "code",
   "execution_count": 13,
   "metadata": {},
   "outputs": [
    {
     "name": "stdout",
     "output_type": "stream",
     "text": [
      "Rows:  34516 \n",
      "Columns:  2\n",
      "<class 'pandas.core.frame.DataFrame'>\n",
      "RangeIndex: 34516 entries, 0 to 34515\n",
      "Data columns (total 2 columns):\n",
      "Date        34516 non-null object\n",
      "INF_FLOW    34516 non-null float64\n",
      "dtypes: float64(1), object(1)\n",
      "memory usage: 539.4+ KB\n",
      "None\n"
     ]
    },
    {
     "data": {
      "text/html": [
       "<div>\n",
       "<style scoped>\n",
       "    .dataframe tbody tr th:only-of-type {\n",
       "        vertical-align: middle;\n",
       "    }\n",
       "\n",
       "    .dataframe tbody tr th {\n",
       "        vertical-align: top;\n",
       "    }\n",
       "\n",
       "    .dataframe thead th {\n",
       "        text-align: right;\n",
       "    }\n",
       "</style>\n",
       "<table border=\"1\" class=\"dataframe\">\n",
       "  <thead>\n",
       "    <tr style=\"text-align: right;\">\n",
       "      <th></th>\n",
       "      <th>Date</th>\n",
       "      <th>INF_FLOW</th>\n",
       "    </tr>\n",
       "  </thead>\n",
       "  <tbody>\n",
       "    <tr>\n",
       "      <th>0</th>\n",
       "      <td>2013-01-15 00:00:00</td>\n",
       "      <td>9.589273</td>\n",
       "    </tr>\n",
       "    <tr>\n",
       "      <th>1</th>\n",
       "      <td>2013-01-15 01:00:00</td>\n",
       "      <td>9.272833</td>\n",
       "    </tr>\n",
       "    <tr>\n",
       "      <th>2</th>\n",
       "      <td>2013-01-15 02:00:00</td>\n",
       "      <td>8.861329</td>\n",
       "    </tr>\n",
       "    <tr>\n",
       "      <th>3</th>\n",
       "      <td>2013-01-15 03:00:00</td>\n",
       "      <td>9.193454</td>\n",
       "    </tr>\n",
       "    <tr>\n",
       "      <th>4</th>\n",
       "      <td>2013-01-15 04:00:00</td>\n",
       "      <td>9.129482</td>\n",
       "    </tr>\n",
       "  </tbody>\n",
       "</table>\n",
       "</div>"
      ],
      "text/plain": [
       "                 Date  INF_FLOW\n",
       "0 2013-01-15 00:00:00  9.589273\n",
       "1 2013-01-15 01:00:00  9.272833\n",
       "2 2013-01-15 02:00:00  8.861329\n",
       "3 2013-01-15 03:00:00  9.193454\n",
       "4 2013-01-15 04:00:00  9.129482"
      ]
     },
     "execution_count": 13,
     "metadata": {},
     "output_type": "execute_result"
    }
   ],
   "source": [
    "#Looking at influent_flow.csv table, our target\n",
    "flow = pd.read_csv('flow data/flow data/influent_flow.csv')\n",
    "print('Rows: ', flow.shape[0], '\\nColumns: ', flow.shape[1])\n",
    "print(flow.info())\n",
    "\n",
    "#Change the date column to a datetime for this table as well\n",
    "flow['Date'] = pd.to_datetime(flow['Date'])\n",
    "\n",
    "flow.head()"
   ]
  },
  {
   "cell_type": "code",
   "execution_count": 14,
   "metadata": {},
   "outputs": [
    {
     "name": "stdout",
     "output_type": "stream",
     "text": [
      "Rows:  44784 \n",
      "Columns:  8\n",
      "<class 'pandas.core.frame.DataFrame'>\n",
      "RangeIndex: 44784 entries, 0 to 44783\n",
      "Data columns (total 8 columns):\n",
      "Date               44784 non-null object\n",
      "rain               44784 non-null float64\n",
      "snow               44784 non-null float64\n",
      "accum              44784 non-null float64\n",
      "temp               44784 non-null float64\n",
      "humidity           44784 non-null float64\n",
      "cloud              44784 non-null float64\n",
      "app_temperature    44784 non-null float64\n",
      "dtypes: float64(7), object(1)\n",
      "memory usage: 2.7+ MB\n",
      "None\n"
     ]
    },
    {
     "data": {
      "text/html": [
       "<div>\n",
       "<style scoped>\n",
       "    .dataframe tbody tr th:only-of-type {\n",
       "        vertical-align: middle;\n",
       "    }\n",
       "\n",
       "    .dataframe tbody tr th {\n",
       "        vertical-align: top;\n",
       "    }\n",
       "\n",
       "    .dataframe thead th {\n",
       "        text-align: right;\n",
       "    }\n",
       "</style>\n",
       "<table border=\"1\" class=\"dataframe\">\n",
       "  <thead>\n",
       "    <tr style=\"text-align: right;\">\n",
       "      <th></th>\n",
       "      <th>Date</th>\n",
       "      <th>rain</th>\n",
       "      <th>snow</th>\n",
       "      <th>accum</th>\n",
       "      <th>temp</th>\n",
       "      <th>humidity</th>\n",
       "      <th>cloud</th>\n",
       "      <th>app_temperature</th>\n",
       "    </tr>\n",
       "  </thead>\n",
       "  <tbody>\n",
       "    <tr>\n",
       "      <th>0</th>\n",
       "      <td>2012-12-15 08:00:00</td>\n",
       "      <td>0.0</td>\n",
       "      <td>0.0</td>\n",
       "      <td>0.0</td>\n",
       "      <td>5.95</td>\n",
       "      <td>0.89</td>\n",
       "      <td>0.08</td>\n",
       "      <td>5.95</td>\n",
       "    </tr>\n",
       "    <tr>\n",
       "      <th>1</th>\n",
       "      <td>2012-12-15 09:00:00</td>\n",
       "      <td>0.0</td>\n",
       "      <td>0.0</td>\n",
       "      <td>0.0</td>\n",
       "      <td>5.66</td>\n",
       "      <td>0.92</td>\n",
       "      <td>0.09</td>\n",
       "      <td>5.66</td>\n",
       "    </tr>\n",
       "    <tr>\n",
       "      <th>2</th>\n",
       "      <td>2012-12-15 10:00:00</td>\n",
       "      <td>0.0</td>\n",
       "      <td>0.0</td>\n",
       "      <td>0.0</td>\n",
       "      <td>5.46</td>\n",
       "      <td>0.91</td>\n",
       "      <td>0.09</td>\n",
       "      <td>5.46</td>\n",
       "    </tr>\n",
       "    <tr>\n",
       "      <th>3</th>\n",
       "      <td>2012-12-15 11:00:00</td>\n",
       "      <td>0.0</td>\n",
       "      <td>0.0</td>\n",
       "      <td>0.0</td>\n",
       "      <td>4.82</td>\n",
       "      <td>0.92</td>\n",
       "      <td>0.06</td>\n",
       "      <td>4.82</td>\n",
       "    </tr>\n",
       "    <tr>\n",
       "      <th>4</th>\n",
       "      <td>2012-12-15 12:00:00</td>\n",
       "      <td>0.0</td>\n",
       "      <td>0.0</td>\n",
       "      <td>0.0</td>\n",
       "      <td>4.61</td>\n",
       "      <td>0.93</td>\n",
       "      <td>0.03</td>\n",
       "      <td>4.61</td>\n",
       "    </tr>\n",
       "  </tbody>\n",
       "</table>\n",
       "</div>"
      ],
      "text/plain": [
       "                 Date  rain  snow  accum  temp  humidity  cloud  \\\n",
       "0 2012-12-15 08:00:00   0.0   0.0    0.0  5.95      0.89   0.08   \n",
       "1 2012-12-15 09:00:00   0.0   0.0    0.0  5.66      0.92   0.09   \n",
       "2 2012-12-15 10:00:00   0.0   0.0    0.0  5.46      0.91   0.09   \n",
       "3 2012-12-15 11:00:00   0.0   0.0    0.0  4.82      0.92   0.06   \n",
       "4 2012-12-15 12:00:00   0.0   0.0    0.0  4.61      0.93   0.03   \n",
       "\n",
       "   app_temperature  \n",
       "0             5.95  \n",
       "1             5.66  \n",
       "2             5.46  \n",
       "3             4.82  \n",
       "4             4.61  "
      ]
     },
     "execution_count": 14,
     "metadata": {},
     "output_type": "execute_result"
    }
   ],
   "source": [
    "#Looking at weather table\n",
    "weather = pd.read_csv('flow data/flow data/weather.csv')\n",
    "print('Rows: ', weather.shape[0], '\\nColumns: ', weather.shape[1])\n",
    "print(weather.info())\n",
    "\n",
    "#Change the date column to a datetime data type for easier manipulation\n",
    "weather['Date'] = pd.to_datetime(weather['Date'])\n",
    "\n",
    "weather.head()"
   ]
  },
  {
   "cell_type": "code",
   "execution_count": 15,
   "metadata": {},
   "outputs": [
    {
     "name": "stdout",
     "output_type": "stream",
     "text": [
      "Rows:  178896 \n",
      "Columns:  8\n",
      "<class 'pandas.core.frame.DataFrame'>\n",
      "RangeIndex: 178896 entries, 0 to 178895\n",
      "Data columns (total 8 columns):\n",
      "agency_cd         178896 non-null object\n",
      "site_no           178896 non-null object\n",
      "datetime          178896 non-null object\n",
      "tz_cd             178896 non-null object\n",
      "14747_00060       178676 non-null object\n",
      "14747_00060_cd    178676 non-null object\n",
      "14748_00065       178761 non-null object\n",
      "14748_00065_cd    178761 non-null object\n",
      "dtypes: object(8)\n",
      "memory usage: 10.9+ MB\n",
      "None\n",
      "['A' nan 'P:e' 'A:e' 'P'] ['A' nan 'P']\n"
     ]
    },
    {
     "data": {
      "text/html": [
       "<div>\n",
       "<style scoped>\n",
       "    .dataframe tbody tr th:only-of-type {\n",
       "        vertical-align: middle;\n",
       "    }\n",
       "\n",
       "    .dataframe tbody tr th {\n",
       "        vertical-align: top;\n",
       "    }\n",
       "\n",
       "    .dataframe thead th {\n",
       "        text-align: right;\n",
       "    }\n",
       "</style>\n",
       "<table border=\"1\" class=\"dataframe\">\n",
       "  <thead>\n",
       "    <tr style=\"text-align: right;\">\n",
       "      <th></th>\n",
       "      <th>agency_cd</th>\n",
       "      <th>site_no</th>\n",
       "      <th>Date</th>\n",
       "      <th>tz_cd</th>\n",
       "      <th>discharge</th>\n",
       "      <th>discharge_cd</th>\n",
       "      <th>gage_height</th>\n",
       "      <th>gage_height_cd</th>\n",
       "    </tr>\n",
       "  </thead>\n",
       "  <tbody>\n",
       "    <tr>\n",
       "      <th>1</th>\n",
       "      <td>USGS</td>\n",
       "      <td>11164500</td>\n",
       "      <td>2013-01-01 00:00:00</td>\n",
       "      <td>PST</td>\n",
       "      <td>44.1</td>\n",
       "      <td>A</td>\n",
       "      <td>1.27</td>\n",
       "      <td>A</td>\n",
       "    </tr>\n",
       "    <tr>\n",
       "      <th>2</th>\n",
       "      <td>USGS</td>\n",
       "      <td>11164500</td>\n",
       "      <td>2013-01-01 00:15:00</td>\n",
       "      <td>PST</td>\n",
       "      <td>44.1</td>\n",
       "      <td>A</td>\n",
       "      <td>1.27</td>\n",
       "      <td>A</td>\n",
       "    </tr>\n",
       "    <tr>\n",
       "      <th>3</th>\n",
       "      <td>USGS</td>\n",
       "      <td>11164500</td>\n",
       "      <td>2013-01-01 00:30:00</td>\n",
       "      <td>PST</td>\n",
       "      <td>44.1</td>\n",
       "      <td>A</td>\n",
       "      <td>1.27</td>\n",
       "      <td>A</td>\n",
       "    </tr>\n",
       "    <tr>\n",
       "      <th>4</th>\n",
       "      <td>USGS</td>\n",
       "      <td>11164500</td>\n",
       "      <td>2013-01-01 00:45:00</td>\n",
       "      <td>PST</td>\n",
       "      <td>43.2</td>\n",
       "      <td>A</td>\n",
       "      <td>1.26</td>\n",
       "      <td>A</td>\n",
       "    </tr>\n",
       "    <tr>\n",
       "      <th>5</th>\n",
       "      <td>USGS</td>\n",
       "      <td>11164500</td>\n",
       "      <td>2013-01-01 01:00:00</td>\n",
       "      <td>PST</td>\n",
       "      <td>43.2</td>\n",
       "      <td>A</td>\n",
       "      <td>1.26</td>\n",
       "      <td>A</td>\n",
       "    </tr>\n",
       "  </tbody>\n",
       "</table>\n",
       "</div>"
      ],
      "text/plain": [
       "  agency_cd   site_no                Date tz_cd discharge discharge_cd  \\\n",
       "1      USGS  11164500 2013-01-01 00:00:00   PST      44.1            A   \n",
       "2      USGS  11164500 2013-01-01 00:15:00   PST      44.1            A   \n",
       "3      USGS  11164500 2013-01-01 00:30:00   PST      44.1            A   \n",
       "4      USGS  11164500 2013-01-01 00:45:00   PST      43.2            A   \n",
       "5      USGS  11164500 2013-01-01 01:00:00   PST      43.2            A   \n",
       "\n",
       "  gage_height gage_height_cd  \n",
       "1        1.27              A  \n",
       "2        1.27              A  \n",
       "3        1.27              A  \n",
       "4        1.26              A  \n",
       "5        1.26              A  "
      ]
     },
     "execution_count": 15,
     "metadata": {},
     "output_type": "execute_result"
    }
   ],
   "source": [
    "#Looking at usgs_san_francisuito.txt table\n",
    "usgs = pd.read_csv('flow data/flow data/usgs_data.csv', sep = '\\t', low_memory = False)\n",
    "print('Rows: ', usgs.shape[0], '\\nColumns: ',usgs.shape[1])\n",
    "print(usgs.info()) #Looks like we have some missing values in the last 4 columns\n",
    "\n",
    "#get rid of row 0 (indicating datatype and length for each column)\n",
    "usgs.drop(0, inplace= True)\n",
    "\n",
    "#Change the date column to a datetime for this table as well\n",
    "usgs['datetime'] = pd.to_datetime(usgs['datetime'])\n",
    "\n",
    "#The original usgs text file indicates the 14747_00060 and 14748_0065 columns \n",
    "#indicate discharge and gage height. Lets change the name of those columns\n",
    "#and their corresponding qualification codes. Let's also rename the 'datetime'\n",
    "#to 'Date' to be consitent with the other tables\n",
    "\n",
    "usgs.rename(columns = {'14747_00060': 'discharge', \n",
    "            '14747_00060_cd': 'discharge_cd',\n",
    "            '14748_00065' : 'gage_height',\n",
    "            '14748_00065_cd' : 'gage_height_cd',\n",
    "            'datetime' : 'Date'},\n",
    "           inplace = True)\n",
    "print(usgs.discharge_cd.unique(), usgs.gage_height_cd.unique())\n",
    "usgs.head()"
   ]
  },
  {
   "cell_type": "code",
   "execution_count": 16,
   "metadata": {},
   "outputs": [
    {
     "name": "stdout",
     "output_type": "stream",
     "text": [
      "['A' nan 'P:e' 'A:e' 'P'] ['A' nan 'P']\n"
     ]
    }
   ],
   "source": [
    "print(usgs.discharge_cd.unique(), usgs.gage_height_cd.unique())\n",
    "# usgs[(usgs['discharge_cd'] !='A') | (usgs['gage_height_cd'] != 'A')]"
   ]
  },
  {
   "cell_type": "markdown",
   "metadata": {},
   "source": [
    "Now that the 3 dataframes have been cleaned up a bit lets merge them together by date"
   ]
  },
  {
   "cell_type": "code",
   "execution_count": 53,
   "metadata": {},
   "outputs": [
    {
     "name": "stdout",
     "output_type": "stream",
     "text": [
      "<class 'pandas.core.frame.DataFrame'>\n",
      "Int64Index: 34324 entries, 0 to 34323\n",
      "Data columns (total 16 columns):\n",
      "Date               34324 non-null datetime64[ns]\n",
      "INF_FLOW           34324 non-null float64\n",
      "rain               34324 non-null float64\n",
      "snow               34324 non-null float64\n",
      "accum              34324 non-null float64\n",
      "temp               34324 non-null float64\n",
      "humidity           34324 non-null float64\n",
      "cloud              34324 non-null float64\n",
      "app_temperature    34324 non-null float64\n",
      "agency_cd          34324 non-null object\n",
      "site_no            34324 non-null object\n",
      "tz_cd              34324 non-null object\n",
      "discharge          34269 non-null object\n",
      "discharge_cd       34269 non-null object\n",
      "gage_height        34323 non-null object\n",
      "gage_height_cd     34323 non-null object\n",
      "dtypes: datetime64[ns](1), float64(8), object(7)\n",
      "memory usage: 4.5+ MB\n",
      "['A' nan 'P:e'] ['A' nan]\n"
     ]
    }
   ],
   "source": [
    "df = flow.merge(weather)\n",
    "df = df.merge(usgs)\n",
    "df.info()\n",
    "print(df.discharge_cd.unique(), df.gage_height_cd.unique())"
   ]
  },
  {
   "cell_type": "code",
   "execution_count": 54,
   "metadata": {},
   "outputs": [
    {
     "name": "stdout",
     "output_type": "stream",
     "text": [
      "<class 'pandas.core.frame.DataFrame'>\n",
      "Int64Index: 34268 entries, 0 to 34323\n",
      "Data columns (total 16 columns):\n",
      "Date               34268 non-null datetime64[ns]\n",
      "INF_FLOW           34268 non-null float64\n",
      "rain               34268 non-null float64\n",
      "snow               34268 non-null float64\n",
      "accum              34268 non-null float64\n",
      "temp               34268 non-null float64\n",
      "humidity           34268 non-null float64\n",
      "cloud              34268 non-null float64\n",
      "app_temperature    34268 non-null float64\n",
      "agency_cd          34268 non-null object\n",
      "site_no            34268 non-null object\n",
      "tz_cd              34268 non-null object\n",
      "discharge          34268 non-null object\n",
      "discharge_cd       34268 non-null object\n",
      "gage_height        34268 non-null object\n",
      "gage_height_cd     34268 non-null object\n",
      "dtypes: datetime64[ns](1), float64(8), object(7)\n",
      "memory usage: 4.4+ MB\n"
     ]
    }
   ],
   "source": [
    "#Since we have a relatively small amount of null values I'll assume it's okay to drop their rows for now rather \n",
    "#than try to impute their values. Even if there's an MAR affect happening, it likely wont have an impact on the\n",
    "#results given that values with null rows only take up <0.2% of the data\n",
    "df.dropna(inplace = True)\n",
    "df.info()"
   ]
  },
  {
   "cell_type": "code",
   "execution_count": 55,
   "metadata": {},
   "outputs": [
    {
     "name": "stdout",
     "output_type": "stream",
     "text": [
      "Column name: \t ['snow', 'accum', 'agency_cd', 'site_no', 'discharge_cd', 'gage_height_cd'] \n",
      "Unique Value\t [0.0, 0.0, 'USGS', '11164500', 'A', 'A']\n"
     ]
    }
   ],
   "source": [
    "#Check which columns have only 1 unique value. If that's the case, they won't be able to have an effect and \n",
    "#can be dropped to simplify our dataframe further\n",
    "\n",
    "unique_value_cols = [col for col in df.columns if df[col].unique().size == 1]\n",
    "unique_value = [df[col].unique()[0] for col in df.columns if df[col].unique().size == 1]\n",
    "print('Column name: \\t' ,unique_value_cols,'\\nUnique Value\\t', unique_value)"
   ]
  },
  {
   "cell_type": "code",
   "execution_count": 62,
   "metadata": {},
   "outputs": [],
   "source": [
    "df.drop(unique_value_cols, axis = 1, inplace = True)"
   ]
  },
  {
   "cell_type": "code",
   "execution_count": 63,
   "metadata": {},
   "outputs": [
    {
     "data": {
      "text/html": [
       "<div>\n",
       "<style scoped>\n",
       "    .dataframe tbody tr th:only-of-type {\n",
       "        vertical-align: middle;\n",
       "    }\n",
       "\n",
       "    .dataframe tbody tr th {\n",
       "        vertical-align: top;\n",
       "    }\n",
       "\n",
       "    .dataframe thead th {\n",
       "        text-align: right;\n",
       "    }\n",
       "</style>\n",
       "<table border=\"1\" class=\"dataframe\">\n",
       "  <thead>\n",
       "    <tr style=\"text-align: right;\">\n",
       "      <th></th>\n",
       "      <th>Date</th>\n",
       "      <th>INF_FLOW</th>\n",
       "      <th>rain</th>\n",
       "      <th>temp</th>\n",
       "      <th>humidity</th>\n",
       "      <th>cloud</th>\n",
       "      <th>app_temperature</th>\n",
       "      <th>tz_cd</th>\n",
       "      <th>discharge</th>\n",
       "      <th>gage_height</th>\n",
       "    </tr>\n",
       "  </thead>\n",
       "  <tbody>\n",
       "    <tr>\n",
       "      <th>0</th>\n",
       "      <td>2013-01-15 00:00:00</td>\n",
       "      <td>9.589273</td>\n",
       "      <td>0.0</td>\n",
       "      <td>10.19</td>\n",
       "      <td>0.26</td>\n",
       "      <td>0.04</td>\n",
       "      <td>10.19</td>\n",
       "      <td>PST</td>\n",
       "      <td>17.1</td>\n",
       "      <td>0.86</td>\n",
       "    </tr>\n",
       "    <tr>\n",
       "      <th>1</th>\n",
       "      <td>2013-01-15 01:00:00</td>\n",
       "      <td>9.272833</td>\n",
       "      <td>0.0</td>\n",
       "      <td>9.76</td>\n",
       "      <td>0.31</td>\n",
       "      <td>0.18</td>\n",
       "      <td>9.76</td>\n",
       "      <td>PST</td>\n",
       "      <td>17.1</td>\n",
       "      <td>0.86</td>\n",
       "    </tr>\n",
       "    <tr>\n",
       "      <th>2</th>\n",
       "      <td>2013-01-15 02:00:00</td>\n",
       "      <td>8.861329</td>\n",
       "      <td>0.0</td>\n",
       "      <td>7.80</td>\n",
       "      <td>0.36</td>\n",
       "      <td>0.07</td>\n",
       "      <td>6.92</td>\n",
       "      <td>PST</td>\n",
       "      <td>17.1</td>\n",
       "      <td>0.86</td>\n",
       "    </tr>\n",
       "    <tr>\n",
       "      <th>3</th>\n",
       "      <td>2013-01-15 03:00:00</td>\n",
       "      <td>9.193454</td>\n",
       "      <td>0.0</td>\n",
       "      <td>6.52</td>\n",
       "      <td>0.43</td>\n",
       "      <td>0.03</td>\n",
       "      <td>6.52</td>\n",
       "      <td>PST</td>\n",
       "      <td>17.1</td>\n",
       "      <td>0.86</td>\n",
       "    </tr>\n",
       "    <tr>\n",
       "      <th>4</th>\n",
       "      <td>2013-01-15 04:00:00</td>\n",
       "      <td>9.129482</td>\n",
       "      <td>0.0</td>\n",
       "      <td>5.69</td>\n",
       "      <td>0.48</td>\n",
       "      <td>0.03</td>\n",
       "      <td>5.69</td>\n",
       "      <td>PST</td>\n",
       "      <td>16.7</td>\n",
       "      <td>0.85</td>\n",
       "    </tr>\n",
       "  </tbody>\n",
       "</table>\n",
       "</div>"
      ],
      "text/plain": [
       "                 Date  INF_FLOW  rain   temp  humidity  cloud  \\\n",
       "0 2013-01-15 00:00:00  9.589273   0.0  10.19      0.26   0.04   \n",
       "1 2013-01-15 01:00:00  9.272833   0.0   9.76      0.31   0.18   \n",
       "2 2013-01-15 02:00:00  8.861329   0.0   7.80      0.36   0.07   \n",
       "3 2013-01-15 03:00:00  9.193454   0.0   6.52      0.43   0.03   \n",
       "4 2013-01-15 04:00:00  9.129482   0.0   5.69      0.48   0.03   \n",
       "\n",
       "   app_temperature tz_cd discharge gage_height  \n",
       "0            10.19   PST      17.1        0.86  \n",
       "1             9.76   PST      17.1        0.86  \n",
       "2             6.92   PST      17.1        0.86  \n",
       "3             6.52   PST      17.1        0.86  \n",
       "4             5.69   PST      16.7        0.85  "
      ]
     },
     "execution_count": 63,
     "metadata": {},
     "output_type": "execute_result"
    }
   ],
   "source": [
    "df.head()"
   ]
  },
  {
   "cell_type": "code",
   "execution_count": null,
   "metadata": {},
   "outputs": [],
   "source": []
  }
 ],
 "metadata": {
  "kernelspec": {
   "display_name": "Python 3",
   "language": "python",
   "name": "python3"
  },
  "language_info": {
   "codemirror_mode": {
    "name": "ipython",
    "version": 3
   },
   "file_extension": ".py",
   "mimetype": "text/x-python",
   "name": "python",
   "nbconvert_exporter": "python",
   "pygments_lexer": "ipython3",
   "version": "3.7.3"
  }
 },
 "nbformat": 4,
 "nbformat_minor": 2
}
